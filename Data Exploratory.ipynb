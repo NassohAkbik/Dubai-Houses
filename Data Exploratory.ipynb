{
 "cells": [
  {
   "cell_type": "code",
   "execution_count": 2,
   "metadata": {},
   "outputs": [],
   "source": [
    "import pandas as pd\n",
    "import numpy as np\n",
    "import matplotlib.pyplot as plt\n",
    "import seaborn as sns\n",
    "from sklearn.linear_model import LogisticRegression\n",
    "from sklearn.model_selection import train_test_split\n",
    "from sklearn import metrics\n",
    "from sklearn.metrics import confusion_matrix\n",
    "from sklearn.svm import SVC\n",
    "from scipy.stats import spearmanr\n",
    "from scipy.stats import skew, kurtosis, norm\n",
    "\n",
    "import plotly.express as px"
   ]
  },
  {
   "cell_type": "code",
   "execution_count": 36,
   "metadata": {},
   "outputs": [
    {
     "name": "stdout",
     "output_type": "stream",
     "text": [
      "(1905, 38)\n"
     ]
    },
    {
     "data": {
      "text/html": [
       "<div>\n",
       "<style scoped>\n",
       "    .dataframe tbody tr th:only-of-type {\n",
       "        vertical-align: middle;\n",
       "    }\n",
       "\n",
       "    .dataframe tbody tr th {\n",
       "        vertical-align: top;\n",
       "    }\n",
       "\n",
       "    .dataframe thead th {\n",
       "        text-align: right;\n",
       "    }\n",
       "</style>\n",
       "<table border=\"1\" class=\"dataframe\">\n",
       "  <thead>\n",
       "    <tr style=\"text-align: right;\">\n",
       "      <th></th>\n",
       "      <th>id</th>\n",
       "      <th>neighborhood</th>\n",
       "      <th>latitude</th>\n",
       "      <th>longitude</th>\n",
       "      <th>price</th>\n",
       "      <th>size_in_sqft</th>\n",
       "      <th>price_per_sqft</th>\n",
       "      <th>no_of_bedrooms</th>\n",
       "      <th>no_of_bathrooms</th>\n",
       "      <th>quality</th>\n",
       "      <th>...</th>\n",
       "      <th>private_pool</th>\n",
       "      <th>security</th>\n",
       "      <th>shared_gym</th>\n",
       "      <th>shared_pool</th>\n",
       "      <th>shared_spa</th>\n",
       "      <th>study</th>\n",
       "      <th>vastu_compliant</th>\n",
       "      <th>view_of_landmark</th>\n",
       "      <th>view_of_water</th>\n",
       "      <th>walk_in_closet</th>\n",
       "    </tr>\n",
       "  </thead>\n",
       "  <tbody>\n",
       "    <tr>\n",
       "      <th>0</th>\n",
       "      <td>5528049</td>\n",
       "      <td>Palm Jumeirah</td>\n",
       "      <td>25.113208</td>\n",
       "      <td>55.138932</td>\n",
       "      <td>2700000</td>\n",
       "      <td>1079</td>\n",
       "      <td>2502.32</td>\n",
       "      <td>1</td>\n",
       "      <td>2</td>\n",
       "      <td>Medium</td>\n",
       "      <td>...</td>\n",
       "      <td>False</td>\n",
       "      <td>False</td>\n",
       "      <td>True</td>\n",
       "      <td>False</td>\n",
       "      <td>False</td>\n",
       "      <td>False</td>\n",
       "      <td>False</td>\n",
       "      <td>False</td>\n",
       "      <td>True</td>\n",
       "      <td>False</td>\n",
       "    </tr>\n",
       "    <tr>\n",
       "      <th>1</th>\n",
       "      <td>6008529</td>\n",
       "      <td>Palm Jumeirah</td>\n",
       "      <td>25.106809</td>\n",
       "      <td>55.151201</td>\n",
       "      <td>2850000</td>\n",
       "      <td>1582</td>\n",
       "      <td>1801.52</td>\n",
       "      <td>2</td>\n",
       "      <td>2</td>\n",
       "      <td>Medium</td>\n",
       "      <td>...</td>\n",
       "      <td>False</td>\n",
       "      <td>False</td>\n",
       "      <td>True</td>\n",
       "      <td>True</td>\n",
       "      <td>False</td>\n",
       "      <td>False</td>\n",
       "      <td>False</td>\n",
       "      <td>False</td>\n",
       "      <td>True</td>\n",
       "      <td>False</td>\n",
       "    </tr>\n",
       "    <tr>\n",
       "      <th>2</th>\n",
       "      <td>6034542</td>\n",
       "      <td>Jumeirah Lake Towers</td>\n",
       "      <td>25.063302</td>\n",
       "      <td>55.137728</td>\n",
       "      <td>1150000</td>\n",
       "      <td>1951</td>\n",
       "      <td>589.44</td>\n",
       "      <td>3</td>\n",
       "      <td>5</td>\n",
       "      <td>Medium</td>\n",
       "      <td>...</td>\n",
       "      <td>False</td>\n",
       "      <td>True</td>\n",
       "      <td>True</td>\n",
       "      <td>True</td>\n",
       "      <td>False</td>\n",
       "      <td>False</td>\n",
       "      <td>False</td>\n",
       "      <td>True</td>\n",
       "      <td>True</td>\n",
       "      <td>True</td>\n",
       "    </tr>\n",
       "    <tr>\n",
       "      <th>3</th>\n",
       "      <td>6326063</td>\n",
       "      <td>Culture Village</td>\n",
       "      <td>25.227295</td>\n",
       "      <td>55.341761</td>\n",
       "      <td>2850000</td>\n",
       "      <td>2020</td>\n",
       "      <td>1410.89</td>\n",
       "      <td>2</td>\n",
       "      <td>3</td>\n",
       "      <td>Low</td>\n",
       "      <td>...</td>\n",
       "      <td>False</td>\n",
       "      <td>False</td>\n",
       "      <td>False</td>\n",
       "      <td>False</td>\n",
       "      <td>False</td>\n",
       "      <td>False</td>\n",
       "      <td>False</td>\n",
       "      <td>False</td>\n",
       "      <td>False</td>\n",
       "      <td>False</td>\n",
       "    </tr>\n",
       "    <tr>\n",
       "      <th>4</th>\n",
       "      <td>6356778</td>\n",
       "      <td>Palm Jumeirah</td>\n",
       "      <td>25.114275</td>\n",
       "      <td>55.139764</td>\n",
       "      <td>1729200</td>\n",
       "      <td>507</td>\n",
       "      <td>3410.65</td>\n",
       "      <td>0</td>\n",
       "      <td>1</td>\n",
       "      <td>Medium</td>\n",
       "      <td>...</td>\n",
       "      <td>False</td>\n",
       "      <td>True</td>\n",
       "      <td>True</td>\n",
       "      <td>True</td>\n",
       "      <td>True</td>\n",
       "      <td>False</td>\n",
       "      <td>False</td>\n",
       "      <td>True</td>\n",
       "      <td>True</td>\n",
       "      <td>False</td>\n",
       "    </tr>\n",
       "  </tbody>\n",
       "</table>\n",
       "<p>5 rows × 38 columns</p>\n",
       "</div>"
      ],
      "text/plain": [
       "        id          neighborhood   latitude  longitude    price  size_in_sqft  \\\n",
       "0  5528049         Palm Jumeirah  25.113208  55.138932  2700000          1079   \n",
       "1  6008529         Palm Jumeirah  25.106809  55.151201  2850000          1582   \n",
       "2  6034542  Jumeirah Lake Towers  25.063302  55.137728  1150000          1951   \n",
       "3  6326063       Culture Village  25.227295  55.341761  2850000          2020   \n",
       "4  6356778         Palm Jumeirah  25.114275  55.139764  1729200           507   \n",
       "\n",
       "   price_per_sqft  no_of_bedrooms  no_of_bathrooms quality  ...  private_pool  \\\n",
       "0         2502.32               1                2  Medium  ...         False   \n",
       "1         1801.52               2                2  Medium  ...         False   \n",
       "2          589.44               3                5  Medium  ...         False   \n",
       "3         1410.89               2                3     Low  ...         False   \n",
       "4         3410.65               0                1  Medium  ...         False   \n",
       "\n",
       "   security  shared_gym  shared_pool  shared_spa  study  vastu_compliant  \\\n",
       "0     False        True        False       False  False            False   \n",
       "1     False        True         True       False  False            False   \n",
       "2      True        True         True       False  False            False   \n",
       "3     False       False        False       False  False            False   \n",
       "4      True        True         True        True  False            False   \n",
       "\n",
       "   view_of_landmark  view_of_water  walk_in_closet  \n",
       "0             False           True           False  \n",
       "1             False           True           False  \n",
       "2              True           True            True  \n",
       "3             False          False           False  \n",
       "4              True           True           False  \n",
       "\n",
       "[5 rows x 38 columns]"
      ]
     },
     "execution_count": 36,
     "metadata": {},
     "output_type": "execute_result"
    }
   ],
   "source": [
    "df = pd.read_csv(r\"C:\\Users\\Nassoh\\Desktop\\DataSienceMyProject\\Dubai Houses\\Data\\Dubai.csv\")\n",
    "print(df.shape)\n",
    "df.head()"
   ]
  },
  {
   "cell_type": "code",
   "execution_count": 37,
   "metadata": {},
   "outputs": [],
   "source": [
    "# Select the 'price' column\n",
    "price_col = df['price']"
   ]
  },
  {
   "cell_type": "code",
   "execution_count": 38,
   "metadata": {},
   "outputs": [
    {
     "data": {
      "image/png": "[encoded data removed]",
      "text/plain": [
       "<Figure size 1200x600 with 1 Axes>"
      ]
     },
     "metadata": {},
     "output_type": "display_data"
    }
   ],
   "source": [
    "# create a figure with larger size\n",
    "plt.figure(figsize=(12, 6))\n",
    "# Create a histogram of the 'price' column\n",
    "plt.hist(price_col, bins=20)\n",
    "plt.xlabel('Price')\n",
    "plt.ylabel('Frequency')\n",
    "plt.title('Histogram of Price')\n",
    "plt.show()"
   ]
  },
  {
   "cell_type": "code",
   "execution_count": 39,
   "metadata": {},
   "outputs": [
    {
     "data": {
      "image/png": "[encoded data removed]",
      "text/plain": [
       "<Figure size 640x480 with 1 Axes>"
      ]
     },
     "metadata": {},
     "output_type": "display_data"
    }
   ],
   "source": [
    "# Create a kernel density plot of the 'price' column\n",
    "sns.kdeplot(price_col)\n",
    "plt.xlabel('Price')\n",
    "plt.ylabel('Density')\n",
    "plt.title('Kernel Density Plot of Price')\n",
    "plt.show()"
   ]
  },
  {
   "cell_type": "code",
   "execution_count": 40,
   "metadata": {},
   "outputs": [],
   "source": [
    "def wrangle(filepath):\n",
    "    # Read CSV file\n",
    "    df = pd.read_csv(filepath)\n",
    "    \n",
    "    # Subset data: Remove outliers for \"price\"\n",
    "    low, high = df[\"price\"].quantile([0.1, 0.95])\n",
    "    mask_area = df[\"price\"].between(low, high)\n",
    "    df = df[mask_area]\n",
    "    \n",
    "    return df"
   ]
  },
  {
   "cell_type": "code",
   "execution_count": 41,
   "metadata": {},
   "outputs": [
    {
     "name": "stdout",
     "output_type": "stream",
     "text": [
      "(1619, 38)\n"
     ]
    },
    {
     "data": {
      "text/html": [
       "<div>\n",
       "<style scoped>\n",
       "    .dataframe tbody tr th:only-of-type {\n",
       "        vertical-align: middle;\n",
       "    }\n",
       "\n",
       "    .dataframe tbody tr th {\n",
       "        vertical-align: top;\n",
       "    }\n",
       "\n",
       "    .dataframe thead th {\n",
       "        text-align: right;\n",
       "    }\n",
       "</style>\n",
       "<table border=\"1\" class=\"dataframe\">\n",
       "  <thead>\n",
       "    <tr style=\"text-align: right;\">\n",
       "      <th></th>\n",
       "      <th>id</th>\n",
       "      <th>neighborhood</th>\n",
       "      <th>latitude</th>\n",
       "      <th>longitude</th>\n",
       "      <th>price</th>\n",
       "      <th>size_in_sqft</th>\n",
       "      <th>price_per_sqft</th>\n",
       "      <th>no_of_bedrooms</th>\n",
       "      <th>no_of_bathrooms</th>\n",
       "      <th>quality</th>\n",
       "      <th>...</th>\n",
       "      <th>private_pool</th>\n",
       "      <th>security</th>\n",
       "      <th>shared_gym</th>\n",
       "      <th>shared_pool</th>\n",
       "      <th>shared_spa</th>\n",
       "      <th>study</th>\n",
       "      <th>vastu_compliant</th>\n",
       "      <th>view_of_landmark</th>\n",
       "      <th>view_of_water</th>\n",
       "      <th>walk_in_closet</th>\n",
       "    </tr>\n",
       "  </thead>\n",
       "  <tbody>\n",
       "    <tr>\n",
       "      <th>0</th>\n",
       "      <td>5528049</td>\n",
       "      <td>Palm Jumeirah</td>\n",
       "      <td>25.113208</td>\n",
       "      <td>55.138932</td>\n",
       "      <td>2700000</td>\n",
       "      <td>1079</td>\n",
       "      <td>2502.32</td>\n",
       "      <td>1</td>\n",
       "      <td>2</td>\n",
       "      <td>Medium</td>\n",
       "      <td>...</td>\n",
       "      <td>False</td>\n",
       "      <td>False</td>\n",
       "      <td>True</td>\n",
       "      <td>False</td>\n",
       "      <td>False</td>\n",
       "      <td>False</td>\n",
       "      <td>False</td>\n",
       "      <td>False</td>\n",
       "      <td>True</td>\n",
       "      <td>False</td>\n",
       "    </tr>\n",
       "    <tr>\n",
       "      <th>1</th>\n",
       "      <td>6008529</td>\n",
       "      <td>Palm Jumeirah</td>\n",
       "      <td>25.106809</td>\n",
       "      <td>55.151201</td>\n",
       "      <td>2850000</td>\n",
       "      <td>1582</td>\n",
       "      <td>1801.52</td>\n",
       "      <td>2</td>\n",
       "      <td>2</td>\n",
       "      <td>Medium</td>\n",
       "      <td>...</td>\n",
       "      <td>False</td>\n",
       "      <td>False</td>\n",
       "      <td>True</td>\n",
       "      <td>True</td>\n",
       "      <td>False</td>\n",
       "      <td>False</td>\n",
       "      <td>False</td>\n",
       "      <td>False</td>\n",
       "      <td>True</td>\n",
       "      <td>False</td>\n",
       "    </tr>\n",
       "    <tr>\n",
       "      <th>2</th>\n",
       "      <td>6034542</td>\n",
       "      <td>Jumeirah Lake Towers</td>\n",
       "      <td>25.063302</td>\n",
       "      <td>55.137728</td>\n",
       "      <td>1150000</td>\n",
       "      <td>1951</td>\n",
       "      <td>589.44</td>\n",
       "      <td>3</td>\n",
       "      <td>5</td>\n",
       "      <td>Medium</td>\n",
       "      <td>...</td>\n",
       "      <td>False</td>\n",
       "      <td>True</td>\n",
       "      <td>True</td>\n",
       "      <td>True</td>\n",
       "      <td>False</td>\n",
       "      <td>False</td>\n",
       "      <td>False</td>\n",
       "      <td>True</td>\n",
       "      <td>True</td>\n",
       "      <td>True</td>\n",
       "    </tr>\n",
       "    <tr>\n",
       "      <th>3</th>\n",
       "      <td>6326063</td>\n",
       "      <td>Culture Village</td>\n",
       "      <td>25.227295</td>\n",
       "      <td>55.341761</td>\n",
       "      <td>2850000</td>\n",
       "      <td>2020</td>\n",
       "      <td>1410.89</td>\n",
       "      <td>2</td>\n",
       "      <td>3</td>\n",
       "      <td>Low</td>\n",
       "      <td>...</td>\n",
       "      <td>False</td>\n",
       "      <td>False</td>\n",
       "      <td>False</td>\n",
       "      <td>False</td>\n",
       "      <td>False</td>\n",
       "      <td>False</td>\n",
       "      <td>False</td>\n",
       "      <td>False</td>\n",
       "      <td>False</td>\n",
       "      <td>False</td>\n",
       "    </tr>\n",
       "    <tr>\n",
       "      <th>4</th>\n",
       "      <td>6356778</td>\n",
       "      <td>Palm Jumeirah</td>\n",
       "      <td>25.114275</td>\n",
       "      <td>55.139764</td>\n",
       "      <td>1729200</td>\n",
       "      <td>507</td>\n",
       "      <td>3410.65</td>\n",
       "      <td>0</td>\n",
       "      <td>1</td>\n",
       "      <td>Medium</td>\n",
       "      <td>...</td>\n",
       "      <td>False</td>\n",
       "      <td>True</td>\n",
       "      <td>True</td>\n",
       "      <td>True</td>\n",
       "      <td>True</td>\n",
       "      <td>False</td>\n",
       "      <td>False</td>\n",
       "      <td>True</td>\n",
       "      <td>True</td>\n",
       "      <td>False</td>\n",
       "    </tr>\n",
       "  </tbody>\n",
       "</table>\n",
       "<p>5 rows × 38 columns</p>\n",
       "</div>"
      ],
      "text/plain": [
       "        id          neighborhood   latitude  longitude    price  size_in_sqft  \\\n",
       "0  5528049         Palm Jumeirah  25.113208  55.138932  2700000          1079   \n",
       "1  6008529         Palm Jumeirah  25.106809  55.151201  2850000          1582   \n",
       "2  6034542  Jumeirah Lake Towers  25.063302  55.137728  1150000          1951   \n",
       "3  6326063       Culture Village  25.227295  55.341761  2850000          2020   \n",
       "4  6356778         Palm Jumeirah  25.114275  55.139764  1729200           507   \n",
       "\n",
       "   price_per_sqft  no_of_bedrooms  no_of_bathrooms quality  ...  private_pool  \\\n",
       "0         2502.32               1                2  Medium  ...         False   \n",
       "1         1801.52               2                2  Medium  ...         False   \n",
       "2          589.44               3                5  Medium  ...         False   \n",
       "3         1410.89               2                3     Low  ...         False   \n",
       "4         3410.65               0                1  Medium  ...         False   \n",
       "\n",
       "   security  shared_gym  shared_pool  shared_spa  study  vastu_compliant  \\\n",
       "0     False        True        False       False  False            False   \n",
       "1     False        True         True       False  False            False   \n",
       "2      True        True         True       False  False            False   \n",
       "3     False       False        False       False  False            False   \n",
       "4      True        True         True        True  False            False   \n",
       "\n",
       "   view_of_landmark  view_of_water  walk_in_closet  \n",
       "0             False           True           False  \n",
       "1             False           True           False  \n",
       "2              True           True            True  \n",
       "3             False          False           False  \n",
       "4              True           True           False  \n",
       "\n",
       "[5 rows x 38 columns]"
      ]
     },
     "execution_count": 41,
     "metadata": {},
     "output_type": "execute_result"
    }
   ],
   "source": [
    "df=wrangle(r\"C:\\Users\\Nassoh\\Desktop\\DataSienceMyProject\\Dubai Houses\\Data\\Dubai.csv\")\n",
    "print(df.shape)\n",
    "df.head(5)"
   ]
  },
  {
   "cell_type": "code",
   "execution_count": 42,
   "metadata": {},
   "outputs": [],
   "source": [
    "# Select the 'price' column\n",
    "price_col = df['price']"
   ]
  },
  {
   "cell_type": "code",
   "execution_count": 43,
   "metadata": {},
   "outputs": [
    {
     "data": {
      "image/png": "[encoded data removed]",
      "text/plain": [
       "<Figure size 640x480 with 1 Axes>"
      ]
     },
     "metadata": {},
     "output_type": "display_data"
    }
   ],
   "source": [
    "# Create a histogram of the 'price' column\n",
    "plt.hist(price_col, bins=20)\n",
    "plt.xlabel('Price')\n",
    "plt.ylabel('Frequency')\n",
    "plt.title('Histogram of Price')\n",
    "plt.show()"
   ]
  },
  {
   "cell_type": "code",
   "execution_count": 44,
   "metadata": {},
   "outputs": [
    {
     "data": {
      "image/png": "[encoded data removed]",
      "text/plain": [
       "<Figure size 640x480 with 1 Axes>"
      ]
     },
     "metadata": {},
     "output_type": "display_data"
    }
   ],
   "source": [
    "# Create a kernel density plot of the 'price' column\n",
    "sns.kdeplot(price_col)\n",
    "plt.xlabel('Price')\n",
    "plt.ylabel('Density')\n",
    "plt.title('Kernel Density Plot of Price')\n",
    "plt.show()"
   ]
  },
  {
   "cell_type": "code",
   "execution_count": 45,
   "metadata": {},
   "outputs": [
    {
     "name": "stdout",
     "output_type": "stream",
     "text": [
      "Sample skewness: 1.16\n",
      "Sample kurtosis: 0.95\n"
     ]
    }
   ],
   "source": [
    "from scipy.stats import skew, kurtosis, norm\n",
    "# Calculate the skewness and kurtosis of the sample\n",
    "sample_skewness = skew(price_col)\n",
    "sample_kurtosis = kurtosis(price_col)\n",
    "\n",
    "# Print the results\n",
    "print(f\"Sample skewness: {sample_skewness:.2f}\")\n",
    "print(f\"Sample kurtosis: {sample_kurtosis:.2f}\")"
   ]
  },
  {
   "cell_type": "code",
   "execution_count": 46,
   "metadata": {},
   "outputs": [
    {
     "name": "stdout",
     "output_type": "stream",
     "text": [
      "<class 'pandas.core.frame.DataFrame'>\n",
      "Int64Index: 1619 entries, 0 to 1904\n",
      "Data columns (total 38 columns):\n",
      " #   Column               Non-Null Count  Dtype  \n",
      "---  ------               --------------  -----  \n",
      " 0   id                   1619 non-null   int64  \n",
      " 1   neighborhood         1619 non-null   object \n",
      " 2   latitude             1619 non-null   float64\n",
      " 3   longitude            1619 non-null   float64\n",
      " 4   price                1619 non-null   int64  \n",
      " 5   size_in_sqft         1619 non-null   int64  \n",
      " 6   price_per_sqft       1619 non-null   float64\n",
      " 7   no_of_bedrooms       1619 non-null   int64  \n",
      " 8   no_of_bathrooms      1619 non-null   int64  \n",
      " 9   quality              1619 non-null   object \n",
      " 10  maid_room            1619 non-null   bool   \n",
      " 11  unfurnished          1619 non-null   bool   \n",
      " 12  balcony              1619 non-null   bool   \n",
      " 13  barbecue_area        1619 non-null   bool   \n",
      " 14  built_in_wardrobes   1619 non-null   bool   \n",
      " 15  central_ac           1619 non-null   bool   \n",
      " 16  childrens_play_area  1619 non-null   bool   \n",
      " 17  childrens_pool       1619 non-null   bool   \n",
      " 18  concierge            1619 non-null   bool   \n",
      " 19  covered_parking      1619 non-null   bool   \n",
      " 20  kitchen_appliances   1619 non-null   bool   \n",
      " 21  lobby_in_building    1619 non-null   bool   \n",
      " 22  maid_service         1619 non-null   bool   \n",
      " 23  networked            1619 non-null   bool   \n",
      " 24  pets_allowed         1619 non-null   bool   \n",
      " 25  private_garden       1619 non-null   bool   \n",
      " 26  private_gym          1619 non-null   bool   \n",
      " 27  private_jacuzzi      1619 non-null   bool   \n",
      " 28  private_pool         1619 non-null   bool   \n",
      " 29  security             1619 non-null   bool   \n",
      " 30  shared_gym           1619 non-null   bool   \n",
      " 31  shared_pool          1619 non-null   bool   \n",
      " 32  shared_spa           1619 non-null   bool   \n",
      " 33  study                1619 non-null   bool   \n",
      " 34  vastu_compliant      1619 non-null   bool   \n",
      " 35  view_of_landmark     1619 non-null   bool   \n",
      " 36  view_of_water        1619 non-null   bool   \n",
      " 37  walk_in_closet       1619 non-null   bool   \n",
      "dtypes: bool(28), float64(3), int64(5), object(2)\n",
      "memory usage: 247.9+ KB\n"
     ]
    }
   ],
   "source": [
    "df.info()"
   ]
  },
  {
   "cell_type": "code",
   "execution_count": 58,
   "metadata": {},
   "outputs": [],
   "source": [
    "# Get a list of numerical columns\n",
    "numerical_cols = list(df.select_dtypes(include=['int64', 'float64']).columns)\n",
    "# Get a list of categorical and boolean columns\n",
    "categorical_cols = list(df.select_dtypes(include=['object']).columns)\n",
    "# Get a list of categorical and boolean columns\n",
    "boolean_cols = list(df.select_dtypes(include=['bool']).columns)"
   ]
  },
  {
   "cell_type": "code",
   "execution_count": 59,
   "metadata": {},
   "outputs": [
    {
     "data": {
      "text/html": [
       "<div>\n",
       "<style scoped>\n",
       "    .dataframe tbody tr th:only-of-type {\n",
       "        vertical-align: middle;\n",
       "    }\n",
       "\n",
       "    .dataframe tbody tr th {\n",
       "        vertical-align: top;\n",
       "    }\n",
       "\n",
       "    .dataframe thead th {\n",
       "        text-align: right;\n",
       "    }\n",
       "</style>\n",
       "<table border=\"1\" class=\"dataframe\">\n",
       "  <thead>\n",
       "    <tr style=\"text-align: right;\">\n",
       "      <th></th>\n",
       "      <th>id</th>\n",
       "      <th>latitude</th>\n",
       "      <th>longitude</th>\n",
       "      <th>price</th>\n",
       "      <th>size_in_sqft</th>\n",
       "      <th>price_per_sqft</th>\n",
       "      <th>no_of_bedrooms</th>\n",
       "      <th>no_of_bathrooms</th>\n",
       "    </tr>\n",
       "  </thead>\n",
       "  <tbody>\n",
       "    <tr>\n",
       "      <th>count</th>\n",
       "      <td>1.619000e+03</td>\n",
       "      <td>1619.000000</td>\n",
       "      <td>1619.000000</td>\n",
       "      <td>1.619000e+03</td>\n",
       "      <td>1619.000000</td>\n",
       "      <td>1619.000000</td>\n",
       "      <td>1619.000000</td>\n",
       "      <td>1619.000000</td>\n",
       "    </tr>\n",
       "    <tr>\n",
       "      <th>mean</th>\n",
       "      <td>7.569097e+06</td>\n",
       "      <td>25.120556</td>\n",
       "      <td>55.209970</td>\n",
       "      <td>1.708282e+06</td>\n",
       "      <td>1368.836936</td>\n",
       "      <td>1290.251575</td>\n",
       "      <td>1.834466</td>\n",
       "      <td>2.534280</td>\n",
       "    </tr>\n",
       "    <tr>\n",
       "      <th>std</th>\n",
       "      <td>1.991788e+05</td>\n",
       "      <td>0.060922</td>\n",
       "      <td>0.068012</td>\n",
       "      <td>8.982773e+05</td>\n",
       "      <td>604.436385</td>\n",
       "      <td>496.783917</td>\n",
       "      <td>0.809262</td>\n",
       "      <td>0.952794</td>\n",
       "    </tr>\n",
       "    <tr>\n",
       "      <th>min</th>\n",
       "      <td>5.528049e+06</td>\n",
       "      <td>24.865992</td>\n",
       "      <td>55.105457</td>\n",
       "      <td>6.105030e+05</td>\n",
       "      <td>314.000000</td>\n",
       "      <td>361.870000</td>\n",
       "      <td>0.000000</td>\n",
       "      <td>1.000000</td>\n",
       "    </tr>\n",
       "    <tr>\n",
       "      <th>25%</th>\n",
       "      <td>7.557670e+06</td>\n",
       "      <td>25.075409</td>\n",
       "      <td>55.144174</td>\n",
       "      <td>1.020944e+06</td>\n",
       "      <td>898.000000</td>\n",
       "      <td>907.545000</td>\n",
       "      <td>1.000000</td>\n",
       "      <td>2.000000</td>\n",
       "    </tr>\n",
       "    <tr>\n",
       "      <th>50%</th>\n",
       "      <td>7.629446e+06</td>\n",
       "      <td>25.099422</td>\n",
       "      <td>55.205980</td>\n",
       "      <td>1.499000e+06</td>\n",
       "      <td>1303.000000</td>\n",
       "      <td>1194.680000</td>\n",
       "      <td>2.000000</td>\n",
       "      <td>2.000000</td>\n",
       "    </tr>\n",
       "    <tr>\n",
       "      <th>75%</th>\n",
       "      <td>7.669401e+06</td>\n",
       "      <td>25.189840</td>\n",
       "      <td>55.271797</td>\n",
       "      <td>2.100000e+06</td>\n",
       "      <td>1680.000000</td>\n",
       "      <td>1603.655000</td>\n",
       "      <td>2.000000</td>\n",
       "      <td>3.000000</td>\n",
       "    </tr>\n",
       "    <tr>\n",
       "      <th>max</th>\n",
       "      <td>7.706643e+06</td>\n",
       "      <td>25.273623</td>\n",
       "      <td>55.441623</td>\n",
       "      <td>4.900000e+06</td>\n",
       "      <td>5757.000000</td>\n",
       "      <td>4090.910000</td>\n",
       "      <td>4.000000</td>\n",
       "      <td>6.000000</td>\n",
       "    </tr>\n",
       "  </tbody>\n",
       "</table>\n",
       "</div>"
      ],
      "text/plain": [
       "                 id     latitude    longitude         price  size_in_sqft  \\\n",
       "count  1.619000e+03  1619.000000  1619.000000  1.619000e+03   1619.000000   \n",
       "mean   7.569097e+06    25.120556    55.209970  1.708282e+06   1368.836936   \n",
       "std    1.991788e+05     0.060922     0.068012  8.982773e+05    604.436385   \n",
       "min    5.528049e+06    24.865992    55.105457  6.105030e+05    314.000000   \n",
       "25%    7.557670e+06    25.075409    55.144174  1.020944e+06    898.000000   \n",
       "50%    7.629446e+06    25.099422    55.205980  1.499000e+06   1303.000000   \n",
       "75%    7.669401e+06    25.189840    55.271797  2.100000e+06   1680.000000   \n",
       "max    7.706643e+06    25.273623    55.441623  4.900000e+06   5757.000000   \n",
       "\n",
       "       price_per_sqft  no_of_bedrooms  no_of_bathrooms  \n",
       "count     1619.000000     1619.000000      1619.000000  \n",
       "mean      1290.251575        1.834466         2.534280  \n",
       "std        496.783917        0.809262         0.952794  \n",
       "min        361.870000        0.000000         1.000000  \n",
       "25%        907.545000        1.000000         2.000000  \n",
       "50%       1194.680000        2.000000         2.000000  \n",
       "75%       1603.655000        2.000000         3.000000  \n",
       "max       4090.910000        4.000000         6.000000  "
      ]
     },
     "execution_count": 59,
     "metadata": {},
     "output_type": "execute_result"
    }
   ],
   "source": [
    "df[numerical_cols].describe()"
   ]
  },
  {
   "cell_type": "code",
   "execution_count": 60,
   "metadata": {},
   "outputs": [
    {
     "data": {
      "text/html": [
       "<div>\n",
       "<style scoped>\n",
       "    .dataframe tbody tr th:only-of-type {\n",
       "        vertical-align: middle;\n",
       "    }\n",
       "\n",
       "    .dataframe tbody tr th {\n",
       "        vertical-align: top;\n",
       "    }\n",
       "\n",
       "    .dataframe thead th {\n",
       "        text-align: right;\n",
       "    }\n",
       "</style>\n",
       "<table border=\"1\" class=\"dataframe\">\n",
       "  <thead>\n",
       "    <tr style=\"text-align: right;\">\n",
       "      <th></th>\n",
       "      <th>neighborhood</th>\n",
       "      <th>quality</th>\n",
       "    </tr>\n",
       "  </thead>\n",
       "  <tbody>\n",
       "    <tr>\n",
       "      <th>count</th>\n",
       "      <td>1619</td>\n",
       "      <td>1619</td>\n",
       "    </tr>\n",
       "    <tr>\n",
       "      <th>unique</th>\n",
       "      <td>49</td>\n",
       "      <td>4</td>\n",
       "    </tr>\n",
       "    <tr>\n",
       "      <th>top</th>\n",
       "      <td>Dubai Marina</td>\n",
       "      <td>Medium</td>\n",
       "    </tr>\n",
       "    <tr>\n",
       "      <th>freq</th>\n",
       "      <td>278</td>\n",
       "      <td>963</td>\n",
       "    </tr>\n",
       "  </tbody>\n",
       "</table>\n",
       "</div>"
      ],
      "text/plain": [
       "        neighborhood quality\n",
       "count           1619    1619\n",
       "unique            49       4\n",
       "top     Dubai Marina  Medium\n",
       "freq             278     963"
      ]
     },
     "execution_count": 60,
     "metadata": {},
     "output_type": "execute_result"
    }
   ],
   "source": [
    "df[categorical_cols].describe()"
   ]
  },
  {
   "cell_type": "code",
   "execution_count": 61,
   "metadata": {},
   "outputs": [
    {
     "data": {
      "text/html": [
       "<div>\n",
       "<style scoped>\n",
       "    .dataframe tbody tr th:only-of-type {\n",
       "        vertical-align: middle;\n",
       "    }\n",
       "\n",
       "    .dataframe tbody tr th {\n",
       "        vertical-align: top;\n",
       "    }\n",
       "\n",
       "    .dataframe thead th {\n",
       "        text-align: right;\n",
       "    }\n",
       "</style>\n",
       "<table border=\"1\" class=\"dataframe\">\n",
       "  <thead>\n",
       "    <tr style=\"text-align: right;\">\n",
       "      <th></th>\n",
       "      <th>maid_room</th>\n",
       "      <th>unfurnished</th>\n",
       "      <th>balcony</th>\n",
       "      <th>barbecue_area</th>\n",
       "      <th>built_in_wardrobes</th>\n",
       "      <th>central_ac</th>\n",
       "      <th>childrens_play_area</th>\n",
       "      <th>childrens_pool</th>\n",
       "      <th>concierge</th>\n",
       "      <th>covered_parking</th>\n",
       "      <th>...</th>\n",
       "      <th>private_pool</th>\n",
       "      <th>security</th>\n",
       "      <th>shared_gym</th>\n",
       "      <th>shared_pool</th>\n",
       "      <th>shared_spa</th>\n",
       "      <th>study</th>\n",
       "      <th>vastu_compliant</th>\n",
       "      <th>view_of_landmark</th>\n",
       "      <th>view_of_water</th>\n",
       "      <th>walk_in_closet</th>\n",
       "    </tr>\n",
       "  </thead>\n",
       "  <tbody>\n",
       "    <tr>\n",
       "      <th>count</th>\n",
       "      <td>1619</td>\n",
       "      <td>1619</td>\n",
       "      <td>1619</td>\n",
       "      <td>1619</td>\n",
       "      <td>1619</td>\n",
       "      <td>1619</td>\n",
       "      <td>1619</td>\n",
       "      <td>1619</td>\n",
       "      <td>1619</td>\n",
       "      <td>1619</td>\n",
       "      <td>...</td>\n",
       "      <td>1619</td>\n",
       "      <td>1619</td>\n",
       "      <td>1619</td>\n",
       "      <td>1619</td>\n",
       "      <td>1619</td>\n",
       "      <td>1619</td>\n",
       "      <td>1619</td>\n",
       "      <td>1619</td>\n",
       "      <td>1619</td>\n",
       "      <td>1619</td>\n",
       "    </tr>\n",
       "    <tr>\n",
       "      <th>unique</th>\n",
       "      <td>2</td>\n",
       "      <td>2</td>\n",
       "      <td>2</td>\n",
       "      <td>2</td>\n",
       "      <td>2</td>\n",
       "      <td>2</td>\n",
       "      <td>2</td>\n",
       "      <td>2</td>\n",
       "      <td>2</td>\n",
       "      <td>2</td>\n",
       "      <td>...</td>\n",
       "      <td>2</td>\n",
       "      <td>2</td>\n",
       "      <td>2</td>\n",
       "      <td>2</td>\n",
       "      <td>2</td>\n",
       "      <td>2</td>\n",
       "      <td>2</td>\n",
       "      <td>2</td>\n",
       "      <td>2</td>\n",
       "      <td>2</td>\n",
       "    </tr>\n",
       "    <tr>\n",
       "      <th>top</th>\n",
       "      <td>False</td>\n",
       "      <td>True</td>\n",
       "      <td>True</td>\n",
       "      <td>False</td>\n",
       "      <td>True</td>\n",
       "      <td>True</td>\n",
       "      <td>False</td>\n",
       "      <td>False</td>\n",
       "      <td>False</td>\n",
       "      <td>True</td>\n",
       "      <td>...</td>\n",
       "      <td>False</td>\n",
       "      <td>False</td>\n",
       "      <td>True</td>\n",
       "      <td>True</td>\n",
       "      <td>False</td>\n",
       "      <td>False</td>\n",
       "      <td>False</td>\n",
       "      <td>False</td>\n",
       "      <td>False</td>\n",
       "      <td>False</td>\n",
       "    </tr>\n",
       "    <tr>\n",
       "      <th>freq</th>\n",
       "      <td>1388</td>\n",
       "      <td>1038</td>\n",
       "      <td>1157</td>\n",
       "      <td>1393</td>\n",
       "      <td>1136</td>\n",
       "      <td>1075</td>\n",
       "      <td>1084</td>\n",
       "      <td>1477</td>\n",
       "      <td>1028</td>\n",
       "      <td>991</td>\n",
       "      <td>...</td>\n",
       "      <td>1568</td>\n",
       "      <td>1061</td>\n",
       "      <td>1077</td>\n",
       "      <td>1199</td>\n",
       "      <td>1454</td>\n",
       "      <td>1453</td>\n",
       "      <td>1540</td>\n",
       "      <td>1274</td>\n",
       "      <td>1043</td>\n",
       "      <td>1379</td>\n",
       "    </tr>\n",
       "  </tbody>\n",
       "</table>\n",
       "<p>4 rows × 28 columns</p>\n",
       "</div>"
      ],
      "text/plain": [
       "       maid_room unfurnished balcony barbecue_area built_in_wardrobes  \\\n",
       "count       1619        1619    1619          1619               1619   \n",
       "unique         2           2       2             2                  2   \n",
       "top        False        True    True         False               True   \n",
       "freq        1388        1038    1157          1393               1136   \n",
       "\n",
       "       central_ac childrens_play_area childrens_pool concierge  \\\n",
       "count        1619                1619           1619      1619   \n",
       "unique          2                   2              2         2   \n",
       "top          True               False          False     False   \n",
       "freq         1075                1084           1477      1028   \n",
       "\n",
       "       covered_parking  ... private_pool security shared_gym shared_pool  \\\n",
       "count             1619  ...         1619     1619       1619        1619   \n",
       "unique               2  ...            2        2          2           2   \n",
       "top               True  ...        False    False       True        True   \n",
       "freq               991  ...         1568     1061       1077        1199   \n",
       "\n",
       "       shared_spa  study vastu_compliant view_of_landmark view_of_water  \\\n",
       "count        1619   1619            1619             1619          1619   \n",
       "unique          2      2               2                2             2   \n",
       "top         False  False           False            False         False   \n",
       "freq         1454   1453            1540             1274          1043   \n",
       "\n",
       "       walk_in_closet  \n",
       "count            1619  \n",
       "unique              2  \n",
       "top             False  \n",
       "freq             1379  \n",
       "\n",
       "[4 rows x 28 columns]"
      ]
     },
     "execution_count": 61,
     "metadata": {},
     "output_type": "execute_result"
    }
   ],
   "source": [
    "df[boolean_cols].describe()"
   ]
  },
  {
   "cell_type": "code",
   "execution_count": 62,
   "metadata": {},
   "outputs": [
    {
     "data": {
      "text/html": [
       "<div>\n",
       "<style scoped>\n",
       "    .dataframe tbody tr th:only-of-type {\n",
       "        vertical-align: middle;\n",
       "    }\n",
       "\n",
       "    .dataframe tbody tr th {\n",
       "        vertical-align: top;\n",
       "    }\n",
       "\n",
       "    .dataframe thead th {\n",
       "        text-align: right;\n",
       "    }\n",
       "</style>\n",
       "<table border=\"1\" class=\"dataframe\">\n",
       "  <thead>\n",
       "    <tr style=\"text-align: right;\">\n",
       "      <th></th>\n",
       "      <th>maid_room</th>\n",
       "      <th>unfurnished</th>\n",
       "      <th>balcony</th>\n",
       "      <th>barbecue_area</th>\n",
       "      <th>built_in_wardrobes</th>\n",
       "      <th>central_ac</th>\n",
       "      <th>childrens_play_area</th>\n",
       "      <th>childrens_pool</th>\n",
       "      <th>concierge</th>\n",
       "      <th>covered_parking</th>\n",
       "      <th>...</th>\n",
       "      <th>private_pool</th>\n",
       "      <th>security</th>\n",
       "      <th>shared_gym</th>\n",
       "      <th>shared_pool</th>\n",
       "      <th>shared_spa</th>\n",
       "      <th>study</th>\n",
       "      <th>vastu_compliant</th>\n",
       "      <th>view_of_landmark</th>\n",
       "      <th>view_of_water</th>\n",
       "      <th>walk_in_closet</th>\n",
       "    </tr>\n",
       "  </thead>\n",
       "  <tbody>\n",
       "    <tr>\n",
       "      <th>False</th>\n",
       "      <td>0.857319</td>\n",
       "      <td>0.358863</td>\n",
       "      <td>0.285361</td>\n",
       "      <td>0.860408</td>\n",
       "      <td>0.298332</td>\n",
       "      <td>0.33601</td>\n",
       "      <td>0.669549</td>\n",
       "      <td>0.912292</td>\n",
       "      <td>0.63496</td>\n",
       "      <td>0.387894</td>\n",
       "      <td>...</td>\n",
       "      <td>0.968499</td>\n",
       "      <td>0.655343</td>\n",
       "      <td>0.334775</td>\n",
       "      <td>0.259419</td>\n",
       "      <td>0.898085</td>\n",
       "      <td>0.897468</td>\n",
       "      <td>0.951204</td>\n",
       "      <td>0.786905</td>\n",
       "      <td>0.644225</td>\n",
       "      <td>0.85176</td>\n",
       "    </tr>\n",
       "    <tr>\n",
       "      <th>True</th>\n",
       "      <td>0.142681</td>\n",
       "      <td>0.641137</td>\n",
       "      <td>0.714639</td>\n",
       "      <td>0.139592</td>\n",
       "      <td>0.701668</td>\n",
       "      <td>0.66399</td>\n",
       "      <td>0.330451</td>\n",
       "      <td>0.087708</td>\n",
       "      <td>0.36504</td>\n",
       "      <td>0.612106</td>\n",
       "      <td>...</td>\n",
       "      <td>0.031501</td>\n",
       "      <td>0.344657</td>\n",
       "      <td>0.665225</td>\n",
       "      <td>0.740581</td>\n",
       "      <td>0.101915</td>\n",
       "      <td>0.102532</td>\n",
       "      <td>0.048796</td>\n",
       "      <td>0.213095</td>\n",
       "      <td>0.355775</td>\n",
       "      <td>0.14824</td>\n",
       "    </tr>\n",
       "  </tbody>\n",
       "</table>\n",
       "<p>2 rows × 28 columns</p>\n",
       "</div>"
      ],
      "text/plain": [
       "       maid_room  unfurnished   balcony  barbecue_area  built_in_wardrobes  \\\n",
       "False   0.857319     0.358863  0.285361       0.860408            0.298332   \n",
       "True    0.142681     0.641137  0.714639       0.139592            0.701668   \n",
       "\n",
       "       central_ac  childrens_play_area  childrens_pool  concierge  \\\n",
       "False     0.33601             0.669549        0.912292    0.63496   \n",
       "True      0.66399             0.330451        0.087708    0.36504   \n",
       "\n",
       "       covered_parking  ...  private_pool  security  shared_gym  shared_pool  \\\n",
       "False         0.387894  ...      0.968499  0.655343    0.334775     0.259419   \n",
       "True          0.612106  ...      0.031501  0.344657    0.665225     0.740581   \n",
       "\n",
       "       shared_spa     study  vastu_compliant  view_of_landmark  view_of_water  \\\n",
       "False    0.898085  0.897468         0.951204          0.786905       0.644225   \n",
       "True     0.101915  0.102532         0.048796          0.213095       0.355775   \n",
       "\n",
       "       walk_in_closet  \n",
       "False         0.85176  \n",
       "True          0.14824  \n",
       "\n",
       "[2 rows x 28 columns]"
      ]
     },
     "execution_count": 62,
     "metadata": {},
     "output_type": "execute_result"
    }
   ],
   "source": [
    "Boolen_value_counts_df =pd.DataFrame()\n",
    "for col in boolean_cols :\n",
    "    Boolen_value_counts_df[col] =df[col].value_counts(normalize=True).to_frame()\n",
    "    #print(f\"Value counts for column '{col}':\\n{value_counts_df}\\n{'-'*50}\\n\")\n",
    "Boolen_value_counts_df\n",
    "\n"
   ]
  },
  {
   "cell_type": "code",
   "execution_count": 63,
   "metadata": {},
   "outputs": [
    {
     "data": {
      "image/png": "[encoded data removed]",
      "text/plain": [
       "<Figure size 640x480 with 2 Axes>"
      ]
     },
     "metadata": {},
     "output_type": "display_data"
    }
   ],
   "source": [
    "corr=df[numerical_cols].corr()\n",
    "sns.heatmap(corr)\n",
    "plt.show()"
   ]
  },
  {
   "cell_type": "code",
   "execution_count": 64,
   "metadata": {},
   "outputs": [
    {
     "data": {
      "image/png": "[encoded data removed]",
      "text/plain": [
       "<Figure size 1500x600 with 1 Axes>"
      ]
     },
     "metadata": {},
     "output_type": "display_data"
    }
   ],
   "source": [
    "# create a figure with larger size\n",
    "plt.figure(figsize=(15, 6))\n",
    "\n",
    "# Build histogram\n",
    "plt.hist(df[\"neighborhood\"],40)\n",
    "\n",
    "\n",
    "# Label axes\n",
    "\n",
    "plt.xlabel(\"neighborhood\")\n",
    "plt.ylabel('Frequency')\n",
    "\n",
    "# Add title\n",
    "plt.title(\"Distribution of Home neighborhood\")\n",
    "\n",
    "plt.xticks(rotation='vertical')\n",
    "\n",
    "plt.show()"
   ]
  },
  {
   "cell_type": "code",
   "execution_count": 65,
   "metadata": {},
   "outputs": [],
   "source": [
    "mean_price_by_neighborhood =df.groupby('neighborhood')['price'].mean().sort_values(ascending=True)\n"
   ]
  },
  {
   "cell_type": "code",
   "execution_count": 66,
   "metadata": {},
   "outputs": [
    {
     "data": {
      "image/png": "[encoded data removed]",
      "text/plain": [
       "<Figure size 640x480 with 1 Axes>"
      ]
     },
     "metadata": {},
     "output_type": "display_data"
    }
   ],
   "source": [
    "# Build bar chart, label axes, add title\n",
    "mean_price_by_neighborhood.tail(10).plot(kind=\"bar\")\n",
    "\n",
    "plt.xlabel(\"neighborhood\")\n",
    "plt.ylabel(\"Mean Price [AED]\")\n",
    "\n",
    "# Add title\n",
    "plt.title('Top 10 Mean Home Price by neighborhood')\n",
    "\n",
    "plt.show()\n"
   ]
  },
  {
   "cell_type": "code",
   "execution_count": 67,
   "metadata": {},
   "outputs": [
    {
     "data": {
      "image/png": "[encoded data removed]",
      "text/plain": [
       "<Figure size 640x480 with 1 Axes>"
      ]
     },
     "metadata": {},
     "output_type": "display_data"
    }
   ],
   "source": [
    "# Build bar chart, label axes, add title\n",
    "mean_price_by_neighborhood.head(10).plot(kind=\"bar\")\n",
    "\n",
    "plt.xlabel(\"neighborhood\")\n",
    "plt.ylabel(\"Mean Price [AED]\")\n",
    "\n",
    "# Add title\n",
    "plt.title('Less 10 Mean Home Price by neighborhood')\n",
    "\n",
    "plt.show()\n"
   ]
  },
  {
   "cell_type": "code",
   "execution_count": 70,
   "metadata": {},
   "outputs": [
    {
     "data": {
      "application/vnd.plotly.v1+json": {
       "config": {
        "plotlyServerURL": "https://plot.ly"
       },
       "data": [
        {
         "customdata": [
          [
           2700000,
           "Palm Jumeirah",
           1079
          ],
          [
           2850000,
           "Palm Jumeirah",
           1582
          ],
          [
           1150000,
           "Jumeirah Lake Towers",
           1951
          ],
          [
           2850000,
           "Culture Village",
           2020
          ],
          [
           1729200,
           "Palm Jumeirah",
           507
          ],
          [
           3119900,
           "Palm Jumeirah",
           1015
          ],
          [
           3119900,
           "Palm Jumeirah",
           1015
          ],
          [
           2100000,
           "Palm Jumeirah",
           2186
          ],
          [
           2690000,
           "Downtown Dubai",
           1521
          ],
          [
           3550000,
           "Downtown Dubai",
           1918
          ],
          [
           2094999,
           "Dubai Marina",
           1058
          ],
          [
           1049999,
           "Dubai Marina",
           609
          ],
          [
           1849000,
           "Palm Jumeirah",
           1071
          ],
          [
           2089999,
           "Palm Jumeirah",
           1051
          ],
          [
           2349990,
           "Palm Jumeirah",
           1109
          ],
          [
           3499000,
           "Palm Jumeirah",
           1633
          ],
          [
           2700000,
           "Downtown Dubai",
           1348
          ],
          [
           1490000,
           "Downtown Dubai",
           1167
          ],
          [
           950000,
           "Business Bay",
           894
          ],
          [
           1100000,
           "Dubai Marina",
           985
          ],
          [
           1390000,
           "Dubai Marina",
           1307
          ],
          [
           3999900,
           "Downtown Dubai",
           2323
          ],
          [
           3349000,
           "Dubai Marina",
           3930
          ],
          [
           2499000,
           "Dubai Marina",
           2490
          ],
          [
           2800000,
           "Downtown Dubai",
           1712
          ],
          [
           1875000,
           "Downtown Dubai",
           1543
          ],
          [
           1275000,
           "Old Town",
           938
          ],
          [
           1465777,
           "Al Kifaf",
           999
          ],
          [
           1260000,
           "Palm Jumeirah",
           1646
          ],
          [
           1386795,
           "Meydan",
           1084
          ],
          [
           4500000,
           "Culture Village",
           3048
          ],
          [
           750000,
           "Arjan",
           796
          ],
          [
           991000,
           "Arjan",
           1162
          ],
          [
           3599999,
           "Jumeirah Beach Residence",
           1966
          ],
          [
           2625000,
           "Dubai Marina",
           1786
          ],
          [
           1270000,
           "Dubai Creek Harbour (The Lagoons)",
           900
          ],
          [
           1398000,
           "Dubai Creek Harbour (The Lagoons)",
           1168
          ],
          [
           1795000,
           "Dubai Marina",
           1002
          ],
          [
           1600000,
           "Old Town",
           1221
          ],
          [
           1050000,
           "Palm Jumeirah",
           549
          ],
          [
           1150000,
           "Greens",
           1133
          ],
          [
           1800000,
           "City Walk",
           1191
          ],
          [
           1349999,
           "Al Furjan",
           1861
          ],
          [
           1800000,
           "Dubai Creek Harbour (The Lagoons)",
           1582
          ],
          [
           2353146,
           "Business Bay",
           1168
          ],
          [
           2800000,
           "Dubai Marina",
           3172
          ],
          [
           1980000,
           "Palm Jumeirah",
           935
          ],
          [
           2300000,
           "Dubai Marina",
           775
          ],
          [
           2200000,
           "Dubai Marina",
           1277
          ],
          [
           1270000,
           "Dubai Creek Harbour (The Lagoons)",
           981
          ],
          [
           2650000,
           "Jumeirah Beach Residence",
           1703
          ],
          [
           1150000,
           "Jumeirah Golf Estates",
           1367
          ],
          [
           2400000,
           "Business Bay",
           1965
          ],
          [
           1700000,
           "Business Bay",
           1358
          ],
          [
           1709847,
           "Business Bay",
           1367
          ],
          [
           1850000,
           "Dubai Hills Estate",
           1993
          ],
          [
           2090000,
           "Umm Suqeim",
           1365
          ],
          [
           1425000,
           "Meydan",
           1535
          ],
          [
           1595000,
           "Dubai Marina",
           1350
          ],
          [
           975000,
           "Dubai Marina",
           627
          ],
          [
           3400000,
           "Jumeirah Beach Residence",
           1672
          ],
          [
           2050000,
           "Business Bay",
           2197
          ],
          [
           995000,
           "Motor City",
           1670
          ],
          [
           1300000,
           "Dubai Hills Estate",
           1182
          ],
          [
           1100000,
           "Motor City",
           1670
          ],
          [
           750000,
           "DAMAC Hills",
           851
          ],
          [
           1999999,
           "DIFC",
           1755
          ],
          [
           2990000,
           "Downtown Dubai",
           1903
          ],
          [
           2400000,
           "Palm Jumeirah",
           1717
          ],
          [
           2600000,
           "Downtown Dubai",
           1360
          ],
          [
           2000000,
           "Dubai Marina",
           1477
          ],
          [
           1800000,
           "Downtown Dubai",
           1622
          ],
          [
           930000,
           "Downtown Dubai",
           774
          ],
          [
           3200000,
           "Palm Jumeirah",
           1572
          ],
          [
           714000,
           "Jumeirah Village Circle",
           732
          ],
          [
           1075000,
           "Dubai Marina",
           1300
          ],
          [
           2299900,
           "Downtown Dubai",
           1133
          ],
          [
           1200000,
           "Dubai Marina",
           1180
          ],
          [
           1525000,
           "Dubai Marina",
           1440
          ],
          [
           2700000,
           "City Walk",
           1685
          ],
          [
           815000,
           "Jumeirah Beach Residence",
           779
          ],
          [
           860000,
           "Jumeirah Lake Towers",
           971
          ],
          [
           1200000,
           "Barsha Heights (Tecom)",
           1450
          ],
          [
           1300000,
           "Jumeirah Beach Residence",
           763
          ],
          [
           2100000,
           "Downtown Dubai",
           1135
          ],
          [
           2100000,
           "Downtown Dubai",
           1974
          ],
          [
           2100000,
           "Palm Jumeirah",
           1051
          ],
          [
           2100000,
           "Downtown Dubai",
           826
          ],
          [
           3499000,
           "Palm Jumeirah",
           1633
          ],
          [
           2100000,
           "Dubai Marina",
           1579
          ],
          [
           1845000,
           "DIFC",
           1526
          ],
          [
           1800000,
           "Al Barari",
           1964
          ],
          [
           1155000,
           "Downtown Dubai",
           753
          ],
          [
           2095000,
           "The Hills",
           1436
          ],
          [
           1900000,
           "Downtown Dubai",
           1438
          ],
          [
           1800000,
           "Palm Jumeirah",
           1490
          ],
          [
           1800000,
           "Palm Jumeirah",
           1490
          ],
          [
           890000,
           "Jumeirah Village Circle",
           1400
          ],
          [
           3600000,
           "Palm Jumeirah",
           1724
          ],
          [
           1845000,
           "Dubai Marina",
           1346
          ],
          [
           1850000,
           "DIFC",
           1623
          ],
          [
           3000000,
           "Palm Jumeirah",
           2201
          ],
          [
           2850000,
           "City Walk",
           1734
          ],
          [
           3315000,
           "City Walk",
           1950
          ],
          [
           1800000,
           "Downtown Dubai",
           1209
          ],
          [
           2100000,
           "Downtown Dubai",
           1354
          ],
          [
           1400000,
           "Downtown Dubai",
           860
          ],
          [
           2300000,
           "Old Town",
           1338
          ],
          [
           2300000,
           "Business Bay",
           1442
          ],
          [
           1335000,
           "The Views",
           1336
          ],
          [
           2200000,
           "Downtown Dubai",
           1891
          ],
          [
           1100000,
           "Dubai Hills Estate",
           1087
          ],
          [
           700000,
           "Dubai Hills Estate",
           646
          ],
          [
           700000,
           "Dubai Sports City",
           883
          ],
          [
           3680000,
           "City Walk",
           2574
          ],
          [
           2200000,
           "Downtown Dubai",
           1447
          ],
          [
           1820000,
           "Old Town",
           1185
          ],
          [
           655888,
           "Palm Jumeirah",
           380
          ],
          [
           2300000,
           "Dubai Hills Estate",
           1953
          ],
          [
           3200000,
           "City Walk",
           1830
          ],
          [
           2175000,
           "Dubai Marina",
           1385
          ],
          [
           700000,
           "Jumeirah Village Circle",
           846
          ],
          [
           850000,
           "Dubai Marina",
           759
          ],
          [
           1066888,
           "Dubai Hills Estate",
           718
          ],
          [
           2500000,
           "Palm Jumeirah",
           1356
          ],
          [
           1502000,
           "Jumeirah Village Circle",
           1460
          ],
          [
           860000,
           "Dubai Silicon Oasis",
           1800
          ],
          [
           1000000,
           "Downtown Dubai",
           915
          ],
          [
           850000,
           "Dubai Marina",
           545
          ],
          [
           3400000,
           "Downtown Dubai",
           1566
          ],
          [
           813000,
           "Jumeirah Village Circle",
           935
          ],
          [
           3399000,
           "City Walk",
           2084
          ],
          [
           1589950,
           "Dubai Marina",
           1302
          ],
          [
           1650000,
           "The Views",
           1458
          ],
          [
           1200000,
           "Jumeirah Beach Residence",
           1262
          ],
          [
           1700000,
           "Palm Jumeirah",
           1509
          ],
          [
           810000,
           "Jumeirah Beach Residence",
           779
          ],
          [
           2350000,
           "Downtown Dubai",
           1391
          ],
          [
           3000000,
           "Downtown Dubai",
           796
          ],
          [
           920000,
           "Jumeirah Lake Towers",
           1315
          ],
          [
           2000000,
           "Palm Jumeirah",
           1040
          ],
          [
           1325000,
           "Palm Jumeirah",
           1144
          ],
          [
           2850000,
           "Downtown Dubai",
           1244
          ],
          [
           1650000,
           "Downtown Dubai",
           792
          ],
          [
           3700000,
           "Umm Suqeim",
           1860
          ],
          [
           670000,
           "Jumeirah Village Circle",
           726
          ],
          [
           1100000,
           "Downtown Dubai",
           1182
          ],
          [
           620000,
           "Greens",
           767
          ],
          [
           2000000,
           "Business Bay",
           1414
          ],
          [
           662000,
           "Jumeirah Village Circle",
           634
          ],
          [
           1992888,
           "Downtown Dubai",
           858
          ],
          [
           1990000,
           "Dubai Marina",
           1556
          ],
          [
           767000,
           "Jumeirah Lake Towers",
           811
          ],
          [
           1096888,
           "Dubai Hills Estate",
           650
          ],
          [
           749888,
           "Dubai Hills Estate",
           482
          ],
          [
           900000,
           "Jumeirah Village Circle",
           1439
          ],
          [
           1650000,
           "Palm Jumeirah",
           1974
          ],
          [
           1600000,
           "Dubai Marina",
           977
          ],
          [
           1900000,
           "The Hills",
           1436
          ],
          [
           1700000,
           "Dubai Marina",
           1694
          ],
          [
           1150000,
           "Jumeirah Beach Residence",
           1289
          ],
          [
           1200000,
           "Dubai Marina",
           1468
          ],
          [
           1400000,
           "Business Bay",
           864
          ],
          [
           875000,
           "Jumeirah Lake Towers",
           1327
          ],
          [
           640000,
           "Jumeirah Lake Towers",
           897
          ],
          [
           1150000,
           "Dubai Marina",
           1684
          ],
          [
           1275000,
           "Downtown Dubai",
           812
          ],
          [
           3000000,
           "Downtown Dubai",
           1150
          ],
          [
           2500000,
           "Downtown Dubai",
           1900
          ],
          [
           1450000,
           "Downtown Dubai",
           1020
          ],
          [
           949000,
           "Downtown Dubai",
           916
          ],
          [
           880000,
           "Downtown Dubai",
           847
          ],
          [
           1850000,
           "DIFC",
           1634
          ],
          [
           2700000,
           "Jumeirah Beach Residence",
           3000
          ],
          [
           2950000,
           "Palm Jumeirah",
           2248
          ],
          [
           3600000,
           "Palm Jumeirah",
           2279
          ],
          [
           3999900,
           "Downtown Dubai",
           2008
          ],
          [
           2100000,
           "Mohammed Bin Rashid City",
           1457
          ],
          [
           1464888,
           "Dubai Harbour",
           867
          ],
          [
           1199999,
           "Dubai Marina",
           1072
          ],
          [
           3150000,
           "Bluewaters",
           1448
          ],
          [
           1150000,
           "Dubai Marina",
           768
          ],
          [
           925000,
           "Business Bay",
           1395
          ],
          [
           4500000,
           "Downtown Dubai",
           1751
          ],
          [
           800000,
           "Dubai Marina",
           1219
          ],
          [
           625000,
           "Jumeirah Village Circle",
           1007
          ],
          [
           2650000,
           "Downtown Dubai",
           1365
          ],
          [
           2400000,
           "DIFC",
           2030
          ],
          [
           2050000,
           "DIFC",
           1724
          ],
          [
           1450000,
           "Dubai Marina",
           1970
          ],
          [
           758500,
           "Meydan",
           590
          ],
          [
           1051938,
           "Al Furjan",
           1191
          ],
          [
           1699999,
           "The Views",
           1642
          ],
          [
           1300000,
           "Dubai Hills Estate",
           1356
          ],
          [
           1250000,
           "Old Town",
           954
          ],
          [
           1250000,
           "Dubai Marina",
           1348
          ],
          [
           2350000,
           "Palm Jumeirah",
           2524
          ],
          [
           1400000,
           "Dubai Marina",
           822
          ],
          [
           2750000,
           "Dubai Marina",
           1674
          ],
          [
           683001,
           "Arjan",
           561
          ],
          [
           1690000,
           "Jumeirah Beach Residence",
           1877
          ],
          [
           1450000,
           "Downtown Dubai",
           1390
          ],
          [
           2606000,
           "Palm Jumeirah",
           1303
          ],
          [
           1375000,
           "The Views",
           1349
          ],
          [
           2600000,
           "Palm Jumeirah",
           1475
          ],
          [
           2400000,
           "Dubai Marina",
           1508
          ],
          [
           800000,
           "Dubai Marina",
           522
          ],
          [
           629000,
           "Motor City",
           1051
          ],
          [
           1690000,
           "The Views",
           1305
          ],
          [
           2100000,
           "Downtown Dubai",
           1312
          ],
          [
           650000,
           "DAMAC Hills",
           825
          ],
          [
           1290000,
           "Dubai Marina",
           2173
          ],
          [
           1950000,
           "Dubai Marina",
           1410
          ],
          [
           1600000,
           "Downtown Dubai",
           1450
          ],
          [
           685000,
           "Dubai Marina",
           844
          ],
          [
           1399900,
           "Downtown Dubai",
           767
          ],
          [
           3400000,
           "Downtown Dubai",
           1703
          ],
          [
           1389900,
           "Downtown Dubai",
           900
          ],
          [
           850000,
           "Dubai Marina",
           708
          ],
          [
           1425000,
           "Dubai Marina",
           950
          ],
          [
           825828,
           "Mohammed Bin Rashid City",
           539
          ],
          [
           850000,
           "Dubai Production City (IMPZ)",
           1083
          ],
          [
           3050000,
           "Dubai Marina",
           3201
          ],
          [
           808520,
           "Mohammed Bin Rashid City",
           492
          ],
          [
           1760000,
           "Palm Jumeirah",
           1943
          ],
          [
           850000,
           "Dubai Marina",
           592
          ],
          [
           1690000,
           "Dubai Marina",
           1176
          ],
          [
           617000,
           "Jumeirah Village Circle",
           850
          ],
          [
           3850000,
           "Downtown Dubai",
           2024
          ],
          [
           1355000,
           "Dubai Marina",
           1760
          ],
          [
           1375000,
           "Downtown Dubai",
           856
          ],
          [
           1599999,
           "Dubai Marina",
           2172
          ],
          [
           863400,
           "Falcon City of Wonders",
           549
          ],
          [
           641700,
           "Falcon City of Wonders",
           405
          ],
          [
           1250000,
           "Palm Jumeirah",
           1355
          ],
          [
           3200000,
           "Dubai Marina",
           2280
          ],
          [
           1700000,
           "Downtown Dubai",
           1663
          ],
          [
           2050000,
           "Dubai Marina",
           1500
          ],
          [
           1441498,
           "Business Bay",
           1417
          ],
          [
           2299880,
           "Business Bay",
           2370
          ],
          [
           1789000,
           "Downtown Dubai",
           986
          ],
          [
           3450000,
           "Dubai Marina",
           1746
          ],
          [
           3094900,
           "Downtown Dubai",
           1285
          ],
          [
           1890000,
           "Palm Jumeirah",
           1587
          ],
          [
           1500000,
           "Dubai Marina",
           926
          ],
          [
           1800000,
           "Dubai Marina",
           1056
          ],
          [
           2800000,
           "Dubai Creek Harbour (The Lagoons)",
           1930
          ],
          [
           2800000,
           "Palm Jumeirah",
           2250
          ],
          [
           2399999,
           "Palm Jumeirah",
           2439
          ],
          [
           864000,
           "Dubai Creek Harbour (The Lagoons)",
           690
          ],
          [
           1540000,
           "Jumeirah Beach Residence",
           640
          ],
          [
           1600000,
           "Jumeirah Beach Residence",
           639
          ],
          [
           2320000,
           "Jumeirah Beach Residence",
           1160
          ],
          [
           2320000,
           "Jumeirah Beach Residence",
           1981
          ],
          [
           2450000,
           "Jumeirah Beach Residence",
           1181
          ],
          [
           2450000,
           "Jumeirah Beach Residence",
           1181
          ],
          [
           2700000,
           "Downtown Dubai",
           1300
          ],
          [
           2167888,
           "Downtown Dubai",
           800
          ],
          [
           1700000,
           "Downtown Dubai",
           977
          ],
          [
           1667888,
           "Dubai Creek Harbour (The Lagoons)",
           1170
          ],
          [
           1399888,
           "Dubai Creek Harbour (The Lagoons)",
           820
          ],
          [
           1051888,
           "Dubai Hills Estate",
           727
          ],
          [
           1050888,
           "Dubai Hills Estate",
           723
          ],
          [
           1021888,
           "Dubai Hills Estate",
           742
          ],
          [
           1040000,
           "Dubai Creek Harbour (The Lagoons)",
           643
          ],
          [
           1964888,
           "Dubai Marina",
           992
          ],
          [
           1370888,
           "Dubai Harbour",
           746
          ],
          [
           1722888,
           "Dubai Harbour",
           789
          ],
          [
           1949888,
           "Dubai Harbour",
           1139
          ],
          [
           4000000,
           "Dubai Harbour",
           2097
          ],
          [
           1500000,
           "Dubai Harbour",
           745
          ],
          [
           1150000,
           "Dubai Harbour",
           729
          ],
          [
           2500000,
           "Dubai Creek Harbour (The Lagoons)",
           1501
          ],
          [
           1739999,
           "Dubai Creek Harbour (The Lagoons)",
           1143
          ],
          [
           1471888,
           "Dubai Hills Estate",
           996
          ],
          [
           1165000,
           "Dubai Hills Estate",
           998
          ],
          [
           1900000,
           "Dubai Marina",
           2352
          ],
          [
           3621888,
           "Dubai Creek Harbour (The Lagoons)",
           1847
          ],
          [
           1780888,
           "Downtown Dubai",
           998
          ],
          [
           1780888,
           "Downtown Dubai",
           994
          ],
          [
           2042888,
           "Dubai Creek Harbour (The Lagoons)",
           1393
          ],
          [
           1710000,
           "Jumeirah",
           1301
          ],
          [
           1234000,
           "Jumeirah",
           817
          ],
          [
           1737000,
           "Jumeirah",
           1290
          ],
          [
           1459000,
           "Jumeirah",
           794
          ],
          [
           1868000,
           "Jumeirah",
           1216
          ],
          [
           2008000,
           "Umm Suqeim",
           1348
          ],
          [
           1592892,
           "Business Bay",
           1323
          ],
          [
           1650000,
           "Business Bay",
           1300
          ],
          [
           649888,
           "Palm Jumeirah",
           314
          ],
          [
           876888,
           "Palm Jumeirah",
           353
          ],
          [
           1600000,
           "Dubai Marina",
           975
          ],
          [
           1750000,
           "Dubai Harbour",
           1109
          ],
          [
           1950000,
           "Downtown Dubai",
           1120
          ],
          [
           1550000,
           "Downtown Dubai",
           1216
          ],
          [
           850000,
           "Dubai Silicon Oasis",
           1650
          ],
          [
           1500000,
           "Culture Village",
           1357
          ],
          [
           657903,
           "Jumeirah Village Circle",
           851
          ],
          [
           1367000,
           "Jumeirah",
           818
          ],
          [
           1500888,
           "Mina Rashid",
           2070
          ],
          [
           1900000,
           "Dubai Marina",
           2314
          ],
          [
           1750000,
           "Palm Jumeirah",
           1750
          ],
          [
           4500000,
           "Al Barari",
           3845
          ],
          [
           3000000,
           "Dubai Marina",
           3180
          ],
          [
           1750000,
           "Dubai Hills Estate",
           1606
          ],
          [
           1375000,
           "The Views",
           1380
          ],
          [
           3100000,
           "Bluewaters",
           1488
          ],
          [
           1690000,
           "Downtown Dubai",
           1150
          ],
          [
           799900,
           "Business Bay",
           989
          ],
          [
           1700000,
           "Old Town",
           1335
          ],
          [
           1699000,
           "Palm Jumeirah",
           1338
          ],
          [
           1400000,
           "Downtown Dubai",
           1299
          ],
          [
           2450000,
           "Dubai Marina",
           2204
          ],
          [
           2298999,
           "City Walk",
           1862
          ],
          [
           4681888,
           "Downtown Dubai",
           1720
          ],
          [
           2500000,
           "Jumeirah Beach Residence",
           1817
          ],
          [
           1800000,
           "Dubai Marina",
           1281
          ],
          [
           1890000,
           "Dubai Marina",
           1255
          ],
          [
           1750000,
           "Palm Jumeirah",
           1812
          ],
          [
           1100000,
           "Downtown Dubai",
           730
          ],
          [
           900000,
           "Dubai Hills Estate",
           989
          ],
          [
           1295000,
           "Green Community",
           2554
          ],
          [
           1640000,
           "Dubai Marina",
           1302
          ],
          [
           1200000,
           "Jumeirah",
           733
          ],
          [
           1150000,
           "Dubai Marina",
           1210
          ],
          [
           1670000,
           "Dubai Marina",
           1366
          ],
          [
           1550000,
           "Motor City",
           2931
          ],
          [
           1650000,
           "Downtown Dubai",
           872
          ],
          [
           2650000,
           "Palm Jumeirah",
           1493
          ],
          [
           1930000,
           "Palm Jumeirah",
           2046
          ],
          [
           3900000,
           "Downtown Dubai",
           1978
          ],
          [
           1500000,
           "Dubai Marina",
           1727
          ],
          [
           1650000,
           "Downtown Dubai",
           1104
          ],
          [
           1150000,
           "Jumeirah Village Circle",
           1607
          ],
          [
           1890000,
           "Jumeirah",
           1023
          ],
          [
           3000000,
           "Downtown Dubai",
           1317
          ],
          [
           4000000,
           "Downtown Dubai",
           1908
          ],
          [
           1625000,
           "Dubai Marina",
           875
          ],
          [
           2243000,
           "Downtown Dubai",
           1293
          ],
          [
           800000,
           "Jumeirah Lake Towers",
           1028
          ],
          [
           2650000,
           "Downtown Dubai",
           1616
          ],
          [
           1239000,
           "Downtown Dubai",
           747
          ],
          [
           4100000,
           "Downtown Dubai",
           1774
          ],
          [
           2600888,
           "Dubai Hills Estate",
           1583
          ],
          [
           1200000,
           "Jumeirah",
           733
          ],
          [
           3150000,
           "Palm Jumeirah",
           1645
          ],
          [
           1100000,
           "Jumeirah Beach Residence",
           1101
          ],
          [
           2499000,
           "Jumeirah Beach Residence",
           1463
          ],
          [
           1061888,
           "Dubai Hills Estate",
           730
          ],
          [
           930888,
           "Town Square",
           930
          ],
          [
           2040888,
           "Dubai Hills Estate",
           1607
          ],
          [
           1100000,
           "Dubai Marina",
           829
          ],
          [
           1261142,
           "Mohammed Bin Rashid City",
           742
          ],
          [
           1170000,
           "Dubai Marina",
           980
          ],
          [
           2499000,
           "Palm Jumeirah",
           1367
          ],
          [
           1642777,
           "Al Kifaf",
           998
          ],
          [
           1450000,
           "Dubai Hills Estate",
           1487
          ],
          [
           1276686,
           "Mohammed Bin Rashid City",
           760
          ],
          [
           1550000,
           "Al Kifaf",
           990
          ],
          [
           2046777,
           "Al Kifaf",
           1634
          ],
          [
           3700000,
           "City Walk",
           2270
          ],
          [
           2800000,
           "Palm Jumeirah",
           2156
          ],
          [
           2999900,
           "Downtown Dubai",
           1778
          ],
          [
           2650000,
           "Dubai Marina",
           1786
          ],
          [
           3500000,
           "Palm Jumeirah",
           1766
          ],
          [
           1300000,
           "DIFC",
           1133
          ],
          [
           2950000,
           "Jumeirah Beach Residence",
           1503
          ],
          [
           1780000,
           "Jumeirah Beach Residence",
           1028
          ],
          [
           675000,
           "Meydan",
           826
          ],
          [
           1450000,
           "DIFC",
           1274
          ],
          [
           1010000,
           "Downtown Dubai",
           860
          ],
          [
           1250000,
           "DIFC",
           1133
          ],
          [
           4649900,
           "Downtown Dubai",
           2663
          ],
          [
           1250000,
           "Dubai Marina",
           1210
          ],
          [
           2049999,
           "Downtown Dubai",
           1039
          ],
          [
           888000,
           "Town Square",
           888
          ],
          [
           1225000,
           "Dubai Harbour",
           735
          ],
          [
           2577888,
           "Downtown Dubai",
           1352
          ],
          [
           1025888,
           "Palm Jumeirah",
           720
          ],
          [
           913548,
           "Dubai Marina",
           529
          ],
          [
           2250000,
           "Downtown Dubai",
           1700
          ],
          [
           1275000,
           "DIFC",
           893
          ],
          [
           780000,
           "Dubai Creek Harbour (The Lagoons)",
           707
          ],
          [
           1650000,
           "Downtown Dubai",
           1049
          ],
          [
           1800000,
           "Palm Jumeirah",
           1100
          ],
          [
           3175000,
           "Palm Jumeirah",
           2281
          ],
          [
           1500000,
           "Dubai Marina",
           1525
          ],
          [
           1850000,
           "Palm Jumeirah",
           935
          ],
          [
           990000,
           "Dubai Hills Estate",
           722
          ],
          [
           750000,
           "Dubai Hills Estate",
           648
          ],
          [
           900000,
           "Business Bay",
           1036
          ],
          [
           1700000,
           "Jumeirah",
           1164
          ],
          [
           1271000,
           "Jumeirah",
           732
          ],
          [
           1125000,
           "Palm Jumeirah",
           1300
          ],
          [
           1000000,
           "Downtown Dubai",
           681
          ],
          [
           700000,
           "Business Bay",
           563
          ],
          [
           725000,
           "Business Bay",
           692
          ],
          [
           1300000,
           "Palm Jumeirah",
           1799
          ],
          [
           778000,
           "Al Barsha",
           730
          ],
          [
           2099999,
           "Dubai Marina",
           1382
          ],
          [
           700000,
           "Al Furjan",
           1000
          ],
          [
           1275000,
           "Downtown Dubai",
           1282
          ],
          [
           1246305,
           "Mohammed Bin Rashid City",
           780
          ],
          [
           2085804,
           "Mohammed Bin Rashid City",
           1109
          ],
          [
           1246305,
           "Mohammed Bin Rashid City",
           780
          ],
          [
           1400000,
           "Dubai Hills Estate",
           1358
          ],
          [
           2850000,
           "Palm Jumeirah",
           1350
          ],
          [
           1100000,
           "Palm Jumeirah",
           1144
          ],
          [
           3800000,
           "Palm Jumeirah",
           4053
          ],
          [
           1100000,
           "Business Bay",
           952
          ],
          [
           650000,
           "Greens",
           767
          ],
          [
           2800000,
           "Dubai Hills Estate",
           1993
          ],
          [
           1400000,
           "Town Square",
           1450
          ],
          [
           1700000,
           "Jumeirah Lake Towers",
           1992
          ],
          [
           3000000,
           "Palm Jumeirah",
           2279
          ],
          [
           1125888,
           "Town Square",
           1850
          ],
          [
           1150000,
           "Jumeirah Beach Residence",
           1396
          ],
          [
           1499000,
           "Dubai Marina",
           1721
          ],
          [
           990000,
           "Al Sufouh",
           722
          ],
          [
           1400000,
           "Jumeirah Lake Towers",
           1680
          ],
          [
           749888,
           "Dubai Hills Estate",
           482
          ],
          [
           796195,
           "Mohammed Bin Rashid City",
           493
          ],
          [
           700000,
           "Meydan",
           835
          ],
          [
           1055000,
           "Palm Jumeirah",
           1173
          ],
          [
           1100000,
           "Town Square",
           1462
          ],
          [
           3600000,
           "Downtown Dubai",
           2583
          ],
          [
           1575000,
           "Dubai Marina",
           1150
          ],
          [
           2000000,
           "Greens",
           1693
          ],
          [
           900000,
           "Dubai Hills Estate",
           1000
          ],
          [
           2099999,
           "Dubai Marina",
           1381
          ],
          [
           849999,
           "Business Bay",
           685
          ],
          [
           4900000,
           "Downtown Dubai",
           2157
          ],
          [
           750000,
           "Greens",
           758
          ],
          [
           1900000,
           "Palm Jumeirah",
           2223
          ],
          [
           1400000,
           "Meydan",
           1534
          ],
          [
           1780000,
           "Jumeirah",
           1200
          ],
          [
           1754888,
           "Palm Jumeirah",
           1131
          ],
          [
           2350000,
           "Downtown Dubai",
           1858
          ],
          [
           2350000,
           "Palm Jumeirah",
           2524
          ],
          [
           1100000,
           "Dubai Marina",
           1005
          ],
          [
           1095000,
           "Old Town",
           781
          ],
          [
           1290000,
           "Jumeirah",
           831
          ],
          [
           990000,
           "Dubai Marina",
           1500
          ],
          [
           1025000,
           "Downtown Dubai",
           740
          ],
          [
           761888,
           "Dubai Hills Estate",
           486
          ],
          [
           1430000,
           "Downtown Dubai",
           723
          ],
          [
           1550000,
           "The Views",
           1418
          ],
          [
           2750000,
           "Downtown Dubai",
           1236
          ],
          [
           1150000,
           "Downtown Dubai",
           713
          ],
          [
           1150000,
           "Palm Jumeirah",
           1184
          ],
          [
           2000000,
           "Palm Jumeirah",
           2164
          ],
          [
           1290000,
           "Dubai Hills Estate",
           1362
          ],
          [
           1700000,
           "Downtown Dubai",
           934
          ],
          [
           2349000,
           "Dubai Marina",
           2979
          ],
          [
           1976504,
           "Business Bay",
           1165
          ],
          [
           1900000,
           "Downtown Dubai",
           1538
          ],
          [
           1900000,
           "Palm Jumeirah",
           1890
          ],
          [
           1100000,
           "Palm Jumeirah",
           1101
          ],
          [
           1300000,
           "The Views",
           1342
          ],
          [
           1460000,
           "Dubai Marina",
           868
          ],
          [
           3450000,
           "Palm Jumeirah",
           2260
          ],
          [
           1999999,
           "The Views",
           1660
          ],
          [
           1650000,
           "Dubai Marina",
           1860
          ],
          [
           820000,
           "Jumeirah Lake Towers",
           640
          ],
          [
           1525000,
           "Downtown Dubai",
           1740
          ],
          [
           1299999,
           "Dubai Hills Estate",
           1361
          ],
          [
           950000,
           "The Views",
           863
          ],
          [
           1850000,
           "Palm Jumeirah",
           1070
          ],
          [
           1500000,
           "DIFC",
           968
          ],
          [
           1850000,
           "Palm Jumeirah",
           2055
          ],
          [
           3250000,
           "DIFC",
           2087
          ],
          [
           670000,
           "Jumeirah Village Circle",
           910
          ],
          [
           850000,
           "Dubai Marina",
           760
          ],
          [
           3250000,
           "Dubai Festival City",
           4071
          ],
          [
           1500000,
           "Old Town",
           1313
          ],
          [
           1950000,
           "Palm Jumeirah",
           1040
          ],
          [
           2300000,
           "Jumeirah Beach Residence",
           1704
          ],
          [
           2500000,
           "Palm Jumeirah",
           2177
          ],
          [
           1400000,
           "Dubai Marina",
           1206
          ],
          [
           1150000,
           "Jumeirah Village Circle",
           1778
          ],
          [
           1300000,
           "Dubai Marina",
           950
          ],
          [
           1400000,
           "Dubai Marina",
           1302
          ],
          [
           2200000,
           "Dubai Marina",
           1748
          ],
          [
           1300000,
           "DIFC",
           938
          ],
          [
           800000,
           "Dubai Marina",
           908
          ],
          [
           850000,
           "The Views",
           733
          ],
          [
           1540000,
           "Dubai Marina",
           772
          ],
          [
           2600000,
           "DIFC",
           2119
          ],
          [
           700000,
           "Dubai Marina",
           915
          ],
          [
           1100000,
           "Downtown Dubai",
           855
          ],
          [
           699999,
           "Jumeirah Lake Towers",
           929
          ],
          [
           1900000,
           "Dubai Marina",
           975
          ],
          [
           900000,
           "Greens",
           1093
          ],
          [
           2949999,
           "Dubai Creek Harbour (The Lagoons)",
           2309
          ],
          [
           980000,
           "Jumeirah Beach Residence",
           1080
          ],
          [
           2500000,
           "Palm Jumeirah",
           2439
          ],
          [
           3050000,
           "Downtown Dubai",
           1851
          ],
          [
           1650000,
           "Downtown Dubai",
           1105
          ],
          [
           850000,
           "The Views",
           748
          ],
          [
           3350000,
           "Al Barari",
           3017
          ],
          [
           1749510,
           "Dubai Hills Estate",
           1602
          ],
          [
           1100000,
           "Downtown Dubai",
           965
          ],
          [
           1950000,
           "Dubai Marina",
           1347
          ],
          [
           815000,
           "Jumeirah Beach Residence",
           779
          ],
          [
           849000,
           "The Views",
           754
          ],
          [
           2120000,
           "Palm Jumeirah",
           1465
          ],
          [
           1750000,
           "Downtown Dubai",
           1400
          ],
          [
           808255,
           "Dubai Hills Estate",
           648
          ],
          [
           2300000,
           "Jumeirah Beach Residence",
           1703
          ],
          [
           1675000,
           "Jumeirah Lake Towers",
           2326
          ],
          [
           1373000,
           "Jumeirah Lake Towers",
           1909
          ],
          [
           1980000,
           "Jumeirah",
           1703
          ],
          [
           2200000,
           "Palm Jumeirah",
           1709
          ],
          [
           1850000,
           "Dubai Marina",
           1347
          ],
          [
           1500000,
           "Jumeirah Beach Residence",
           1903
          ],
          [
           1055093,
           "Al Furjan",
           1191
          ],
          [
           2650000,
           "Dubai Hills Estate",
           2127
          ],
          [
           1253686,
           "Mohammed Bin Rashid City",
           747
          ],
          [
           4400000,
           "Palm Jumeirah",
           2005
          ],
          [
           1000000,
           "Downtown Dubai",
           833
          ],
          [
           675000,
           "Motor City",
           1053
          ],
          [
           1050000,
           "Jumeirah Beach Residence",
           761
          ],
          [
           1225000,
           "DIFC",
           877
          ],
          [
           1720000,
           "Jumeirah Beach Residence",
           1929
          ],
          [
           1700000,
           "Downtown Dubai",
           1265
          ],
          [
           1230000,
           "Palm Jumeirah",
           1116
          ],
          [
           739000,
           "Al Furjan",
           928
          ],
          [
           2800000,
           "World Trade Center",
           2938
          ],
          [
           1350000,
           "Dubai Marina",
           1741
          ],
          [
           850000,
           "Jumeirah Lake Towers",
           1184
          ],
          [
           2300000,
           "Jumeirah Beach Residence",
           1610
          ],
          [
           1445888,
           "Downtown Dubai",
           666
          ],
          [
           1286000,
           "Mudon",
           986
          ],
          [
           999950,
           "Dubai Marina",
           922
          ],
          [
           1849000,
           "Jumeirah Beach Residence",
           3003
          ],
          [
           1450000,
           "Dubai Marina",
           848
          ],
          [
           790000,
           "Motor City",
           1358
          ],
          [
           830000,
           "Jumeirah Village Circle",
           871
          ],
          [
           1640000,
           "Dubai Marina",
           1693
          ],
          [
           3200000,
           "Dubai Marina",
           1822
          ],
          [
           699000,
           "Jumeirah Village Circle",
           782
          ],
          [
           1700000,
           "Palm Jumeirah",
           1997
          ],
          [
           610503,
           "Jumeirah Village Circle",
           815
          ],
          [
           1275000,
           "Jumeirah Beach Residence",
           1381
          ],
          [
           1295000,
           "Palm Jumeirah",
           737
          ],
          [
           3300000,
           "Dubai Marina",
           2756
          ],
          [
           1300000,
           "Downtown Dubai",
           1092
          ],
          [
           900502,
           "Jumeirah Village Circle",
           1137
          ],
          [
           901345,
           "Jumeirah Village Circle",
           1147
          ],
          [
           3489900,
           "Downtown Dubai",
           1888
          ],
          [
           760000,
           "Dubai Marina",
           709
          ],
          [
           700000,
           "Dubai Marina",
           736
          ],
          [
           1675000,
           "Palm Jumeirah",
           1746
          ],
          [
           625000,
           "Dubai Marina",
           916
          ],
          [
           1390000,
           "Palm Jumeirah",
           1954
          ],
          [
           1700000,
           "Palm Jumeirah",
           1142
          ],
          [
           1400000,
           "Downtown Dubai",
           886
          ],
          [
           3600000,
           "Dubai Marina",
           3172
          ],
          [
           1434000,
           "Jumeirah",
           758
          ],
          [
           1200000,
           "Dubai Harbour",
           745
          ],
          [
           1795000,
           "Jumeirah",
           1220
          ],
          [
           2444888,
           "Downtown Dubai",
           1064
          ],
          [
           2650000,
           "Jumeirah Beach Residence",
           1198
          ],
          [
           3750000,
           "Jumeirah Beach Residence",
           1968
          ],
          [
           2399999,
           "Jumeirah Beach Residence",
           1180
          ],
          [
           1700000,
           "Dubai Marina",
           1302
          ],
          [
           1550000,
           "Dubai Marina",
           1188
          ],
          [
           1775000,
           "Downtown Dubai",
           1420
          ],
          [
           2450000,
           "Dubai Marina",
           2552
          ],
          [
           624888,
           "Palm Jumeirah",
           360
          ],
          [
           992888,
           "Palm Jumeirah",
           713
          ],
          [
           1234000,
           "Jumeirah",
           754
          ],
          [
           1300000,
           "Dubai Creek Harbour (The Lagoons)",
           1089
          ],
          [
           1150000,
           "Mudon",
           965
          ],
          [
           1400000,
           "The Views",
           1450
          ],
          [
           1690000,
           "The Views",
           1305
          ],
          [
           1050000,
           "Jumeirah Village Circle",
           1620
          ],
          [
           1500000,
           "The Views",
           1665
          ],
          [
           2892000,
           "Mirdif",
           2704
          ],
          [
           1688000,
           "Mirdif",
           1581
          ],
          [
           1399000,
           "Mirdif",
           1321
          ],
          [
           3750000,
           "Downtown Dubai",
           1362
          ],
          [
           1574950,
           "Dubai Marina",
           755
          ],
          [
           999000,
           "Jumeirah Village Circle",
           1249
          ],
          [
           2445000,
           "Palm Jumeirah",
           1550
          ],
          [
           1700000,
           "Jumeirah",
           1200
          ],
          [
           4294888,
           "Downtown Dubai",
           1636
          ],
          [
           2975000,
           "Dubai Marina",
           1694
          ],
          [
           2600000,
           "Palm Jumeirah",
           1994
          ],
          [
           1450000,
           "Palm Jumeirah",
           1100
          ],
          [
           1400206,
           "Jumeirah Village Circle",
           1215
          ],
          [
           3299950,
           "The Views",
           2825
          ],
          [
           1395000,
           "Palm Jumeirah",
           1953
          ],
          [
           1380888,
           "Dubai Harbour",
           745
          ],
          [
           1275000,
           "Palm Jumeirah",
           1886
          ],
          [
           1300000,
           "Downtown Dubai",
           917
          ],
          [
           1350000,
           "Jumeirah Village Circle",
           2045
          ],
          [
           3000000,
           "Dubai Creek Harbour (The Lagoons)",
           1932
          ],
          [
           1490000,
           "Dubai Marina",
           838
          ],
          [
           612870,
           "Jumeirah Village Circle",
           695
          ],
          [
           2250000,
           "Palm Jumeirah",
           2182
          ],
          [
           1350000,
           "Jumeirah Beach Residence",
           1850
          ],
          [
           1575000,
           "Dubai Marina",
           775
          ],
          [
           639777,
           "Jumeirah Village Circle",
           817
          ],
          [
           627777,
           "Jumeirah Village Circle",
           750
          ],
          [
           620000,
           "Jumeirah Village Circle",
           744
          ],
          [
           706000,
           "Jumeirah Village Circle",
           767
          ],
          [
           993999,
           "Jumeirah Village Circle",
           1163
          ],
          [
           670000,
           "Jumeirah Village Circle",
           880
          ],
          [
           914000,
           "Jumeirah Village Circle",
           1196
          ],
          [
           1113000,
           "Jumeirah Village Circle",
           1465
          ],
          [
           1131000,
           "Jumeirah Village Circle",
           1558
          ],
          [
           635000,
           "Jumeirah Village Circle",
           692
          ],
          [
           941000,
           "Jumeirah Village Circle",
           1316
          ],
          [
           1080000,
           "Jumeirah Village Circle",
           1421
          ],
          [
           4222888,
           "Dubai Harbour",
           1968
          ],
          [
           1737000,
           "Jumeirah",
           1213
          ],
          [
           1200000,
           "Jumeirah Beach Residence",
           1295
          ],
          [
           1450000,
           "Dubai Marina",
           1329
          ],
          [
           3400000,
           "Dubai Creek Harbour (The Lagoons)",
           1931
          ],
          [
           1259999,
           "Palm Jumeirah",
           1583
          ],
          [
           1550000,
           "Dubai Marina",
           1207
          ],
          [
           790000,
           "Dubai Marina",
           1219
          ],
          [
           1020000,
           "Barsha Heights (Tecom)",
           1307
          ],
          [
           954505,
           "Jumeirah Village Circle",
           1312
          ],
          [
           999999,
           "Downtown Dubai",
           838
          ],
          [
           1750000,
           "Greens",
           2070
          ],
          [
           1475000,
           "Downtown Dubai",
           782
          ],
          [
           3380000,
           "Jumeirah Beach Residence",
           1901
          ],
          [
           1801000,
           "Dubai Marina",
           800
          ],
          [
           1270000,
           "Jumeirah Village Circle",
           1538
          ],
          [
           635356,
           "Jumeirah Village Circle",
           629
          ],
          [
           1220000,
           "Greens",
           1281
          ],
          [
           999905,
           "Dubai Marina",
           1271
          ],
          [
           1700000,
           "Dubai Hills Estate",
           1493
          ],
          [
           1550000,
           "Jumeirah Beach Residence",
           1922
          ],
          [
           3600000,
           "Palm Jumeirah",
           2535
          ],
          [
           620000,
           "Jumeirah Village Circle",
           666
          ],
          [
           1110000,
           "Greens",
           1408
          ],
          [
           1399999,
           "Jumeirah Beach Residence",
           1305
          ],
          [
           799999,
           "Jumeirah Village Circle",
           1268
          ],
          [
           850000,
           "Jumeirah Village Circle",
           900
          ],
          [
           1850000,
           "Dubai Hills Estate",
           1960
          ],
          [
           626999,
           "Jumeirah Village Circle",
           813
          ],
          [
           1269999,
           "Jumeirah Village Circle",
           1500
          ],
          [
           1625000,
           "Dubai Marina",
           1550
          ],
          [
           1450000,
           "Jumeirah Lake Towers",
           1680
          ],
          [
           950000,
           "Downtown Dubai",
           936
          ],
          [
           699000,
           "Arjan",
           800
          ],
          [
           1650000,
           "Palm Jumeirah",
           1734
          ],
          [
           2150000,
           "Palm Jumeirah",
           2439
          ],
          [
           850000,
           "Dubai Creek Harbour (The Lagoons)",
           695
          ],
          [
           1490000,
           "Dubai Marina",
           616
          ],
          [
           1492000,
           "Dubai Marina",
           616
          ],
          [
           2599950,
           "Palm Jumeirah",
           2055
          ],
          [
           1250000,
           "Downtown Dubai",
           653
          ],
          [
           1300000,
           "Downtown Dubai",
           619
          ],
          [
           626999,
           "Jumeirah Village Circle",
           813
          ],
          [
           2235000,
           "Old Town",
           1966
          ],
          [
           925000,
           "Motor City",
           1439
          ],
          [
           1400000,
           "The Hills",
           1282
          ],
          [
           2099950,
           "Dubai Marina",
           1405
          ],
          [
           2485000,
           "Dubai Marina",
           1688
          ],
          [
           880000,
           "Downtown Dubai",
           865
          ],
          [
           699000,
           "Dubai Sports City",
           775
          ],
          [
           1280000,
           "Dubai Hills Estate",
           1296
          ],
          [
           1680000,
           "Dubai Marina",
           1653
          ],
          [
           1750000,
           "Dubai Hills Estate",
           1607
          ],
          [
           2950000,
           "Palm Jumeirah",
           2250
          ],
          [
           1350000,
           "Palm Jumeirah",
           1603
          ],
          [
           870000,
           "Jumeirah Village Circle",
           1145
          ],
          [
           1200000,
           "Downtown Dubai",
           827
          ],
          [
           1900000,
           "Palm Jumeirah",
           1377
          ],
          [
           2000000,
           "Palm Jumeirah",
           950
          ],
          [
           1000000,
           "Downtown Dubai",
           915
          ],
          [
           1690000,
           "Palm Jumeirah",
           1777
          ],
          [
           789999,
           "Jumeirah Beach Residence",
           756
          ],
          [
           4100000,
           "DIFC",
           2440
          ],
          [
           999999,
           "Downtown Dubai",
           836
          ],
          [
           1275000,
           "Downtown Dubai",
           1282
          ],
          [
           2900000,
           "Palm Jumeirah",
           2603
          ],
          [
           1600000,
           "Dubai Marina",
           2455
          ],
          [
           2587000,
           "Dubai Marina",
           1211
          ],
          [
           914888,
           "Town Square",
           916
          ],
          [
           610577,
           "Jumeirah Village Circle",
           771
          ],
          [
           948307,
           "Mohammed Bin Rashid City",
           792
          ],
          [
           1890000,
           "Dubai Marina",
           1277
          ],
          [
           1250000,
           "Green Community",
           2100
          ],
          [
           3750000,
           "Palm Jumeirah",
           2279
          ],
          [
           3200000,
           "Downtown Dubai",
           1976
          ],
          [
           650000,
           "Motor City",
           1066
          ],
          [
           1398000,
           "City Walk",
           956
          ],
          [
           1300000,
           "Jumeirah Lake Towers",
           2063
          ],
          [
           3950000,
           "Dubai Marina",
           3882
          ],
          [
           1299999,
           "Jumeirah Beach Residence",
           1450
          ],
          [
           906888,
           "Jumeirah Village Circle",
           1110
          ],
          [
           2500000,
           "Palm Jumeirah",
           1512
          ],
          [
           2900000,
           "Jumeirah",
           2007
          ],
          [
           1700000,
           "Jumeirah",
           1200
          ],
          [
           1250000,
           "Al Furjan",
           1797
          ],
          [
           745000,
           "Jumeirah Village Circle",
           1272
          ],
          [
           3500000,
           "Palm Jumeirah",
           1800
          ],
          [
           890000,
           "The Views",
           754
          ],
          [
           1000000,
           "Dubai Marina",
           699
          ],
          [
           1200000,
           "Town Square",
           2408
          ],
          [
           1700000,
           "Dubai Creek Harbour (The Lagoons)",
           1164
          ],
          [
           2800000,
           "Downtown Dubai",
           1607
          ],
          [
           770000,
           "Dubai Marina",
           807
          ],
          [
           1900000,
           "Al Sufouh",
           1782
          ],
          [
           4500000,
           "Dubai Marina",
           3554
          ],
          [
           1250000,
           "Downtown Dubai",
           967
          ],
          [
           2400000,
           "Palm Jumeirah",
           1723
          ],
          [
           1350000,
           "Business Bay",
           891
          ],
          [
           3800000,
           "DIFC",
           2437
          ],
          [
           2650000,
           "Downtown Dubai",
           1449
          ],
          [
           4700000,
           "Downtown Dubai",
           2184
          ],
          [
           820845,
           "Mohammed Bin Rashid City",
           493
          ],
          [
           1785000,
           "Greens",
           2398
          ],
          [
           1399000,
           "The Views",
           1237
          ],
          [
           1540000,
           "Jumeirah Beach Residence",
           640
          ],
          [
           1483350,
           "Mohammed Bin Rashid City",
           899
          ],
          [
           1550000,
           "Jumeirah Beach Residence",
           1105
          ],
          [
           689999,
           "Town Square",
           1064
          ],
          [
           2450000,
           "Jumeirah Beach Residence",
           1181
          ],
          [
           2700000,
           "Al Barari",
           2745
          ],
          [
           740000,
           "Dubai Creek Harbour (The Lagoons)",
           725
          ],
          [
           675000,
           "Town Square",
           883
          ],
          [
           1650000,
           "The Views",
           1364
          ],
          [
           1900000,
           "Downtown Dubai",
           880
          ],
          [
           950000,
           "Jumeirah Lake Towers",
           980
          ],
          [
           1100000,
           "Greens",
           1441
          ],
          [
           2100000,
           "Downtown Dubai",
           1678
          ],
          [
           2290000,
           "Downtown Dubai",
           1442
          ],
          [
           1110200,
           "Mohammed Bin Rashid City",
           700
          ],
          [
           1699000,
           "Palm Jumeirah",
           1890
          ],
          [
           700000,
           "Business Bay",
           713
          ],
          [
           808000,
           "Town Square",
           1340
          ],
          [
           650000,
           "Motor City",
           907
          ],
          [
           4000000,
           "The Hills",
           2035
          ],
          [
           4500000,
           "Downtown Dubai",
           1271
          ],
          [
           2100000,
           "Downtown Dubai",
           1242
          ],
          [
           1950000,
           "Downtown Dubai",
           1400
          ],
          [
           650000,
           "Al Furjan",
           795
          ],
          [
           2300000,
           "Downtown Dubai",
           1470
          ],
          [
           1110888,
           "Business Bay",
           669
          ],
          [
           2000000,
           "Dubai Creek Harbour (The Lagoons)",
           1592
          ],
          [
           1300000,
           "Al Sufouh",
           1366
          ],
          [
           675000,
           "Motor City",
           907
          ],
          [
           1125000,
           "Dubai Hills Estate",
           844
          ],
          [
           3499900,
           "Downtown Dubai",
           2379
          ],
          [
           3378000,
           "Dubai Marina",
           1516
          ],
          [
           4202898,
           "Culture Village",
           1764
          ],
          [
           1000000,
           "Culture Village",
           707
          ],
          [
           749000,
           "Culture Village",
           561
          ],
          [
           4300000,
           "Culture Village",
           2289
          ],
          [
           3650000,
           "Jumeirah Beach Residence",
           1899
          ],
          [
           677250,
           "DAMAC Hills",
           407
          ],
          [
           982800,
           "DAMAC Hills",
           591
          ],
          [
           950000,
           "Jumeirah Lake Towers",
           1389
          ],
          [
           936000,
           "Mirdif",
           780
          ],
          [
           825888,
           "Jumeirah Village Circle",
           745
          ],
          [
           835000,
           "Jumeirah Village Circle",
           890
          ],
          [
           1500000,
           "Jumeirah Lake Towers",
           1561
          ],
          [
           1349000,
           "Dubai Sports City",
           1921
          ],
          [
           980000,
           "Jumeirah Village Circle",
           1089
          ],
          [
           4600000,
           "City Walk",
           2678
          ],
          [
           615000,
           "Jumeirah Golf Estates",
           776
          ],
          [
           1770000,
           "Downtown Dubai",
           1625
          ],
          [
           1512888,
           "Downtown Dubai",
           607
          ],
          [
           1195000,
           "Old Town",
           919
          ],
          [
           1600000,
           "Downtown Dubai",
           1202
          ],
          [
           1399999,
           "Jumeirah Lake Towers",
           2063
          ],
          [
           649888,
           "Palm Jumeirah",
           314
          ],
          [
           2750000,
           "Bluewaters",
           1510
          ],
          [
           1300000,
           "The Views",
           1269
          ],
          [
           1200000,
           "Dubai Marina",
           1503
          ],
          [
           1825000,
           "Dubai Festival City",
           2182
          ],
          [
           1550000,
           "Jumeirah Beach Residence",
           639
          ],
          [
           2320000,
           "Jumeirah Beach Residence",
           1160
          ],
          [
           1425000,
           "Jumeirah Lake Towers",
           1690
          ],
          [
           4500000,
           "Downtown Dubai",
           2530
          ],
          [
           3200000,
           "Jumeirah Lake Towers",
           3756
          ],
          [
           3050000,
           "Dubai Marina",
           1958
          ],
          [
           850000,
           "Jumeirah Village Circle",
           1492
          ],
          [
           1300000,
           "Dubai Marina",
           950
          ],
          [
           1650000,
           "Downtown Dubai",
           1241
          ],
          [
           1650000,
           "Downtown Dubai",
           1325
          ],
          [
           2300000,
           "Downtown Dubai",
           1755
          ],
          [
           850000,
           "Jumeirah Beach Residence",
           760
          ],
          [
           1000000,
           "Downtown Dubai",
           915
          ],
          [
           2800000,
           "Downtown Dubai",
           1507
          ],
          [
           1200000,
           "Al Sufouh",
           1201
          ],
          [
           1350000,
           "Jumeirah Village Circle",
           2184
          ],
          [
           690000,
           "Jumeirah Lake Towers",
           852
          ],
          [
           1423000,
           "Umm Suqeim",
           772
          ],
          [
           1590000,
           "Dubai Marina",
           1192
          ],
          [
           750000,
           "Dubai Marina",
           890
          ],
          [
           1400000,
           "Downtown Dubai",
           1487
          ],
          [
           2325000,
           "Downtown Dubai",
           1338
          ],
          [
           2700000,
           "Downtown Dubai",
           1649
          ],
          [
           3195000,
           "Dubai Marina",
           2514
          ],
          [
           1100000,
           "Greens",
           1294
          ],
          [
           1300000,
           "Palm Jumeirah",
           1886
          ],
          [
           3199999,
           "Downtown Dubai",
           1969
          ],
          [
           3600000,
           "Palm Jumeirah",
           1739
          ],
          [
           3600000,
           "Dubai Marina",
           2050
          ],
          [
           2000000,
           "Dubai Marina",
           1314
          ],
          [
           3110000,
           "Downtown Dubai",
           1550
          ],
          [
           1240000,
           "Palm Jumeirah",
           790
          ],
          [
           888000,
           "Dubai Marina",
           713
          ],
          [
           1300000,
           "Downtown Dubai",
           974
          ],
          [
           3615000,
           "Jumeirah Beach Residence",
           1515
          ],
          [
           970000,
           "Business Bay",
           685
          ],
          [
           2175000,
           "Dubai Marina",
           1312
          ],
          [
           1300000,
           "Meydan",
           1494
          ],
          [
           750000,
           "Business Bay",
           1007
          ],
          [
           4499000,
           "Jumeirah",
           1620
          ],
          [
           1483888,
           "Downtown Dubai",
           611
          ],
          [
           1390000,
           "Downtown Dubai",
           1162
          ],
          [
           1650000,
           "Dubai Marina",
           1900
          ],
          [
           2900000,
           "Jumeirah Beach Residence",
           3090
          ],
          [
           1595000,
           "Dubai Marina",
           1376
          ],
          [
           1100000,
           "Downtown Dubai",
           940
          ],
          [
           900000,
           "Dubai Hills Estate",
           989
          ],
          [
           1700000,
           "Al Kifaf",
           1616
          ],
          [
           3450000,
           "Palm Jumeirah",
           1800
          ],
          [
           1700000,
           "Jumeirah Lake Towers",
           1966
          ],
          [
           1855000,
           "Dubai Creek Harbour (The Lagoons)",
           1441
          ],
          [
           999999,
           "Downtown Dubai",
           838
          ],
          [
           1266000,
           "Palm Jumeirah",
           712
          ],
          [
           1999995,
           "Dubai Marina",
           2800
          ],
          [
           650000,
           "Town Square",
           1064
          ],
          [
           1100000,
           "Greens",
           1441
          ],
          [
           1825000,
           "Downtown Dubai",
           1336
          ],
          [
           750000,
           "Dubai Land",
           1806
          ],
          [
           1950000,
           "Mohammed Bin Rashid City",
           1215
          ],
          [
           2063888,
           "Downtown Dubai",
           1078
          ],
          [
           2060888,
           "Downtown Dubai",
           1077
          ],
          [
           1926888,
           "Downtown Dubai",
           1016
          ],
          [
           1979888,
           "Downtown Dubai",
           1047
          ],
          [
           2079888,
           "Downtown Dubai",
           1016
          ],
          [
           1300000,
           "Dubai Marina",
           891
          ],
          [
           1245888,
           "Dubai Creek Harbour (The Lagoons)",
           978
          ],
          [
           2547000,
           "Jumeirah Beach Residence",
           1401
          ],
          [
           1400000,
           "Dubai Marina",
           1334
          ],
          [
           935000,
           "Jumeirah Village Circle",
           1350
          ],
          [
           1286000,
           "Jumeirah Village Circle",
           1500
          ],
          [
           940000,
           "Jumeirah Village Circle",
           1100
          ],
          [
           1398000,
           "Jumeirah Village Circle",
           1600
          ],
          [
           625000,
           "Jumeirah Village Circle",
           750
          ],
          [
           679000,
           "Business Bay",
           410
          ],
          [
           2930000,
           "Bluewaters",
           1512
          ],
          [
           620000,
           "Jumeirah Village Circle",
           800
          ],
          [
           1175000,
           "Jumeirah Village Circle",
           1600
          ],
          [
           759000,
           "Jumeirah Village Circle",
           900
          ],
          [
           2585000,
           "Palm Jumeirah",
           2055
          ],
          [
           1325000,
           "Dubai Hills Estate",
           1264
          ],
          [
           1220000,
           "Jumeirah Village Circle",
           1203
          ],
          [
           850000,
           "Motor City",
           1442
          ],
          [
           1250000,
           "The Hills",
           828
          ],
          [
           3000000,
           "Downtown Dubai",
           1841
          ],
          [
           1390000,
           "Downtown Dubai",
           717
          ],
          [
           2200000,
           "Dubai Marina",
           1788
          ],
          [
           656000,
           "Jumeirah Village Circle",
           727
          ],
          [
           2990000,
           "Dubai Marina",
           1746
          ],
          [
           1000000,
           "Motor City",
           1880
          ],
          [
           2600000,
           "Dubai Creek Harbour (The Lagoons)",
           1480
          ],
          [
           2110000,
           "Jumeirah Beach Residence",
           766
          ],
          [
           1880000,
           "Jumeirah Beach Residence",
           807
          ],
          [
           1600000,
           "The Views",
           1477
          ],
          [
           2300000,
           "Downtown Dubai",
           1350
          ],
          [
           1123000,
           "Business Bay",
           940
          ],
          [
           1650000,
           "Dubai Marina",
           1861
          ],
          [
           1095000,
           "Dubai Marina",
           1225
          ],
          [
           950000,
           "Jumeirah Lake Towers",
           1389
          ],
          [
           1120000,
           "Greens",
           1305
          ],
          [
           1300000,
           "Greens",
           761
          ],
          [
           2250000,
           "The Views",
           2233
          ],
          [
           1200000,
           "DIFC",
           877
          ],
          [
           1350000,
           "Dubai Hills Estate",
           1361
          ],
          [
           615000,
           "Dubai Sports City",
           822
          ],
          [
           1900000,
           "Downtown Dubai",
           1538
          ],
          [
           1695000,
           "Palm Jumeirah",
           1338
          ],
          [
           1200000,
           "Dubai Marina",
           895
          ],
          [
           1650000,
           "Dubai Marina",
           1109
          ],
          [
           3799900,
           "Downtown Dubai",
           1580
          ],
          [
           2250000,
           "Downtown Dubai",
           2219
          ],
          [
           1200000,
           "Downtown Dubai",
           850
          ],
          [
           3990000,
           "Dubai Marina",
           2352
          ],
          [
           1895000,
           "Dubai Hills Estate",
           1968
          ],
          [
           950000,
           "Dubai Marina",
           936
          ],
          [
           1288888,
           "Mohammed Bin Rashid City",
           742
          ],
          [
           1288888,
           "Mohammed Bin Rashid City",
           742
          ],
          [
           1288888,
           "Mohammed Bin Rashid City",
           742
          ],
          [
           4900000,
           "Old Town",
           2678
          ],
          [
           1780000,
           "Downtown Dubai",
           822
          ],
          [
           2100000,
           "Dubai Hills Estate",
           1969
          ],
          [
           615000,
           "Dubai Sports City",
           822
          ],
          [
           2395000,
           "Dubai Marina",
           1875
          ],
          [
           654000,
           "Dubai Marina",
           624
          ],
          [
           1599999,
           "Dubai Marina",
           1180
          ],
          [
           3000000,
           "Dubai Marina",
           1746
          ],
          [
           1250000,
           "DIFC",
           942
          ],
          [
           624888,
           "Palm Jumeirah",
           321
          ],
          [
           1950000,
           "Dubai Festival City",
           2256
          ],
          [
           2702000,
           "Palm Jumeirah",
           1034
          ],
          [
           4610000,
           "Jumeirah Beach Residence",
           1789
          ],
          [
           1980000,
           "Jumeirah Beach Residence",
           705
          ],
          [
           3650000,
           "Jumeirah Beach Residence",
           1967
          ],
          [
           1300000,
           "The Views",
           1343
          ],
          [
           1600000,
           "Jumeirah Beach Residence",
           1731
          ],
          [
           2140000,
           "Jumeirah Beach Residence",
           766
          ],
          [
           3300000,
           "Palm Jumeirah",
           2250
          ],
          [
           1550000,
           "Downtown Dubai",
           1040
          ],
          [
           2250000,
           "Downtown Dubai",
           1378
          ],
          [
           888888,
           "Old Town",
           810
          ],
          [
           815000,
           "The Views",
           857
          ],
          [
           1175000,
           "Downtown Dubai",
           1088
          ],
          [
           1049950,
           "Dubai Marina",
           1258
          ],
          [
           1650000,
           "Palm Jumeirah",
           1589
          ],
          [
           1359000,
           "Al Kifaf",
           990
          ],
          [
           1600000,
           "Downtown Dubai",
           1105
          ],
          [
           1650000,
           "Downtown Dubai",
           1725
          ],
          [
           2950000,
           "Dubai Marina",
           2590
          ],
          [
           1700000,
           "Downtown Dubai",
           1560
          ],
          [
           1500000,
           "The Views",
           2528
          ],
          [
           1075000,
           "Meydan",
           1703
          ],
          [
           695000,
           "Jumeirah Village Circle",
           1474
          ],
          [
           1200000,
           "Jumeirah Beach Residence",
           1286
          ],
          [
           1120000,
           "Greens",
           1286
          ],
          [
           950000,
           "Downtown Dubai",
           774
          ],
          [
           1761627,
           "Mohammed Bin Rashid City",
           1018
          ],
          [
           828241,
           "Mohammed Bin Rashid City",
           670
          ],
          [
           1439112,
           "Mohammed Bin Rashid City",
           1129
          ],
          [
           1650000,
           "Mohammed Bin Rashid City",
           1228
          ],
          [
           3499000,
           "Dubai Marina",
           5757
          ],
          [
           1350000,
           "Jumeirah Beach Residence",
           1400
          ],
          [
           1999950,
           "Dubai Marina",
           1875
          ],
          [
           1225000,
           "Al Furjan",
           1700
          ],
          [
           750000,
           "Jumeirah Village Circle",
           1321
          ],
          [
           3950000,
           "DIFC",
           2621
          ],
          [
           3700000,
           "Downtown Dubai",
           1518
          ],
          [
           1050000,
           "Downtown Dubai",
           860
          ],
          [
           1450000,
           "Downtown Dubai",
           1198
          ],
          [
           2300000,
           "Jumeirah Beach Residence",
           1180
          ],
          [
           1599999,
           "The Views",
           1478
          ],
          [
           1235251,
           "Meydan",
           853
          ],
          [
           1599900,
           "Downtown Dubai",
           1450
          ],
          [
           700000,
           "Jumeirah Lake Towers",
           759
          ],
          [
           699503,
           "Jumeirah Village Circle",
           852
          ],
          [
           1199789,
           "Jumeirah Village Circle",
           1392
          ],
          [
           620502,
           "Jumeirah Village Circle",
           851
          ],
          [
           759502,
           "Jumeirah Village Circle",
           848
          ],
          [
           1204504,
           "Jumeirah Village Circle",
           1820
          ],
          [
           661300,
           "Jumeirah Village Circle",
           678
          ],
          [
           954206,
           "Jumeirah Village Circle",
           1312
          ],
          [
           995786,
           "Jumeirah Village Circle",
           1592
          ],
          [
           1045734,
           "Jumeirah Village Circle",
           1592
          ],
          [
           670728,
           "Jumeirah Village Circle",
           728
          ],
          [
           1800000,
           "Dubai Marina",
           775
          ],
          [
           2050000,
           "Dubai Marina",
           1480
          ],
          [
           660606,
           "Jumeirah Village Circle",
           678
          ],
          [
           619490,
           "Jumeirah Village Circle",
           851
          ],
          [
           692503,
           "Jumeirah Village Circle",
           751
          ],
          [
           660600,
           "Jumeirah Village Circle",
           675
          ],
          [
           954502,
           "Jumeirah Village Circle",
           1311
          ],
          [
           630205,
           "Jumeirah Village Circle",
           870
          ],
          [
           990876,
           "Jumeirah Village Circle",
           1592
          ],
          [
           670728,
           "Jumeirah Village Circle",
           728
          ],
          [
           620720,
           "Jumeirah Village Circle",
           803
          ],
          [
           759081,
           "Jumeirah Village Circle",
           998
          ],
          [
           2200000,
           "Dubai Marina",
           1973
          ],
          [
           1019000,
           "Downtown Dubai",
           915
          ],
          [
           1050000,
           "Downtown Dubai",
           838
          ],
          [
           1199000,
           "Dubai Marina",
           848
          ],
          [
           2000000,
           "The Hills",
           1459
          ],
          [
           1450000,
           "Dubai Marina",
           838
          ],
          [
           1800000,
           "Dubai Creek Harbour (The Lagoons)",
           1567
          ],
          [
           848950,
           "The Views",
           750
          ],
          [
           992888,
           "Palm Jumeirah",
           637
          ],
          [
           750000,
           "Culture Village",
           607
          ],
          [
           1650000,
           "Palm Jumeirah",
           2000
          ],
          [
           1975000,
           "Dubai Marina",
           1386
          ],
          [
           1900000,
           "Dubai Marina",
           1386
          ],
          [
           759502,
           "Jumeirah Village Circle",
           956
          ],
          [
           661205,
           "Jumeirah Village Circle",
           671
          ],
          [
           965789,
           "Jumeirah Village Circle",
           1313
          ],
          [
           630503,
           "Jumeirah Village Circle",
           751
          ],
          [
           990598,
           "Jumeirah Village Circle",
           1425
          ],
          [
           4365888,
           "Downtown Dubai",
           1709
          ],
          [
           1250000,
           "Meydan",
           1535
          ],
          [
           3499999,
           "Palm Jumeirah",
           2281
          ],
          [
           1750000,
           "Old Town",
           1024
          ],
          [
           1900000,
           "Old Town",
           1442
          ],
          [
           1800000,
           "Dubai Marina",
           2164
          ],
          [
           3000000,
           "Downtown Dubai",
           2056
          ],
          [
           2199950,
           "Downtown Dubai",
           1510
          ],
          [
           620504,
           "Jumeirah Village Circle",
           820
          ],
          [
           759503,
           "Jumeirah Village Circle",
           978
          ],
          [
           954503,
           "Jumeirah Village Circle",
           1314
          ],
          [
           630504,
           "Jumeirah Village Circle",
           718
          ],
          [
           950504,
           "Jumeirah Village Circle",
           1415
          ],
          [
           1650000,
           "Downtown Dubai",
           1455
          ],
          [
           929999,
           "Jumeirah Village Circle",
           1093
          ],
          [
           626999,
           "Jumeirah Village Circle",
           950
          ],
          [
           1900000,
           "Downtown Dubai",
           1400
          ],
          [
           1250000,
           "Jumeirah Village Circle",
           2490
          ],
          [
           620503,
           "Jumeirah Village Circle",
           835
          ],
          [
           1190502,
           "Jumeirah Village Circle",
           1492
          ],
          [
           850000,
           "Dubai Marina",
           592
          ],
          [
           661615,
           "Jumeirah Village Circle",
           692
          ],
          [
           954366,
           "Jumeirah Village Circle",
           1316
          ],
          [
           895000,
           "Dubai Marina",
           982
          ],
          [
           766000,
           "Business Bay",
           468
          ],
          [
           619502,
           "Jumeirah Village Circle",
           851
          ],
          [
           2750000,
           "Dubai Hills Estate",
           2195
          ],
          [
           1200000,
           "DAMAC Hills",
           1085
          ],
          [
           2050906,
           "Jumeirah Village Circle",
           3688
          ],
          [
           1400000,
           "Dubai Harbour",
           750
          ],
          [
           2450000,
           "Dubai Harbour",
           1200
          ],
          [
           1175000,
           "Dubai Harbour",
           745
          ],
          [
           1500000,
           "The Hills",
           1282
          ],
          [
           731000,
           "International City",
           933
          ],
          [
           1500000,
           "Dubai Marina",
           968
          ],
          [
           2500000,
           "Palm Jumeirah",
           1223
          ],
          [
           700000,
           "Jumeirah Lake Towers",
           829
          ],
          [
           1200000,
           "Jumeirah Beach Residence",
           638
          ],
          [
           2150000,
           "Dubai Marina",
           1006
          ],
          [
           3100000,
           "Downtown Dubai",
           1995
          ],
          [
           1390000,
           "Dubai Marina",
           1775
          ],
          [
           1350000,
           "Jumeirah Beach Residence",
           1882
          ],
          [
           1900000,
           "Dubai Marina",
           1067
          ],
          [
           1130000,
           "Dubai Marina",
           1226
          ],
          [
           2100000,
           "Dubai Marina",
           1663
          ],
          [
           1300000,
           "Motor City",
           1932
          ],
          [
           2249888,
           "Downtown Dubai",
           1103
          ],
          [
           3999888,
           "Downtown Dubai",
           1639
          ],
          [
           1000000,
           "Dubai Marina",
           725
          ],
          [
           700000,
           "Dubai Land",
           1390
          ],
          [
           2400000,
           "Downtown Dubai",
           1049
          ],
          [
           748888,
           "Business Bay",
           427
          ],
          [
           1400000,
           "City Walk",
           943
          ],
          [
           2200000,
           "Dubai Marina",
           2314
          ],
          [
           1650000,
           "Dubai Marina",
           1793
          ],
          [
           725000,
           "Al Furjan",
           950
          ],
          [
           900000,
           "Motor City",
           1845
          ],
          [
           950000,
           "Dubai Marina",
           1198
          ],
          [
           2000000,
           "The Views",
           1680
          ],
          [
           1600000,
           "Dubai Creek Harbour (The Lagoons)",
           1162
          ],
          [
           1971905,
           "Dubai Creek Harbour (The Lagoons)",
           1441
          ],
          [
           1600000,
           "Jumeirah Village Circle",
           2512
          ],
          [
           1299999,
           "Business Bay",
           896
          ],
          [
           1525000,
           "Old Town",
           934
          ],
          [
           2800000,
           "Business Bay",
           2370
          ],
          [
           1095000,
           "Greens",
           1295
          ],
          [
           720000,
           "Business Bay",
           584
          ],
          [
           1300000,
           "The Views",
           850
          ],
          [
           2700000,
           "Downtown Dubai",
           2056
          ],
          [
           3500000,
           "Dubai Marina",
           3562
          ],
          [
           1280000,
           "Dubai Hills Estate",
           1200
          ],
          [
           1600000,
           "The Views",
           1408
          ],
          [
           725000,
           "Jumeirah Village Circle",
           814
          ],
          [
           1305000,
           "Jumeirah Lake Towers",
           1338
          ],
          [
           1675000,
           "Dubai Marina",
           1376
          ],
          [
           1400000,
           "Jumeirah Beach Residence",
           1402
          ],
          [
           1550000,
           "Downtown Dubai",
           844
          ],
          [
           2100000,
           "Old Town",
           1433
          ],
          [
           1750000,
           "Downtown Dubai",
           1635
          ],
          [
           1875000,
           "Palm Jumeirah",
           1008
          ],
          [
           1350000,
           "Jumeirah Lake Towers",
           1650
          ],
          [
           795000,
           "Dubai Marina",
           592
          ],
          [
           1450000,
           "Dubai Hills Estate",
           1362
          ],
          [
           1150000,
           "Dubai Marina",
           1300
          ],
          [
           849000,
           "The Views",
           755
          ],
          [
           2400000,
           "Downtown Dubai",
           1453
          ],
          [
           4100000,
           "Downtown Dubai",
           1790
          ],
          [
           1550000,
           "Jumeirah Beach Residence",
           1374
          ],
          [
           2000000,
           "Downtown Dubai",
           1443
          ],
          [
           1750000,
           "World Trade Center",
           1744
          ],
          [
           2750000,
           "World Trade Center",
           2939
          ],
          [
           1300000,
           "World Trade Center",
           1453
          ],
          [
           4150000,
           "World Trade Center",
           3466
          ],
          [
           1250000,
           "World Trade Center",
           1249
          ],
          [
           3650000,
           "Downtown Dubai",
           1435
          ],
          [
           2425000,
           "Old Town",
           1966
          ],
          [
           1299000,
           "Downtown Dubai",
           1300
          ],
          [
           1390000,
           "The Views",
           1329
          ],
          [
           620000,
           "Al Barsha",
           764
          ],
          [
           1290000,
           "Jumeirah Village Circle",
           1993
          ],
          [
           880000,
           "The Views",
           751
          ],
          [
           780000,
           "Business Bay",
           401
          ],
          [
           1410888,
           "Dubai Harbour",
           746
          ],
          [
           3500000,
           "Downtown Dubai",
           1485
          ],
          [
           1150000,
           "Dubai Creek Harbour (The Lagoons)",
           801
          ],
          [
           1550000,
           "The Views",
           1334
          ],
          [
           1350000,
           "DAMAC Hills",
           1569
          ],
          [
           680000,
           "The Views",
           430
          ],
          [
           697790,
           "Al Barsha",
           620
          ],
          [
           950000,
           "Dubai Marina",
           768
          ],
          [
           1300000,
           "Dubai Marina",
           1076
          ],
          [
           1850000,
           "Downtown Dubai",
           1406
          ],
          [
           860000,
           "Motor City",
           1358
          ],
          [
           2150000,
           "Downtown Dubai",
           1711
          ],
          [
           2000000,
           "Dubai Marina",
           2352
          ],
          [
           1500000,
           "Dubai Creek Harbour (The Lagoons)",
           1141
          ],
          [
           2500000,
           "Downtown Dubai",
           1817
          ],
          [
           730000,
           "Jumeirah Lake Towers",
           946
          ],
          [
           2800000,
           "World Trade Center",
           2937
          ],
          [
           1500000,
           "Jumeirah Beach Residence",
           1902
          ],
          [
           1471888,
           "Dubai Hills Estate",
           998
          ],
          [
           1199999,
           "Jumeirah Village Circle",
           1361
          ],
          [
           1602000,
           "Business Bay",
           1349
          ],
          [
           1200000,
           "DIFC",
           1025
          ],
          [
           2300000,
           "Palm Jumeirah",
           1869
          ],
          [
           2225000,
           "Downtown Dubai",
           1378
          ],
          [
           2100000,
           "Al Barari",
           1917
          ],
          [
           2300000,
           "Al Barari",
           1915
          ],
          [
           2350000,
           "Downtown Dubai",
           1848
          ],
          [
           2000000,
           "Dubai Marina",
           1290
          ],
          [
           2200000,
           "Dubai Marina",
           1487
          ],
          [
           2499950,
           "Dubai Marina",
           1553
          ],
          [
           1700000,
           "Palm Jumeirah",
           1770
          ],
          [
           1949888,
           "Dubai Harbour",
           1139
          ],
          [
           1100000,
           "Palm Jumeirah",
           1303
          ],
          [
           2450000,
           "Palm Jumeirah",
           2414
          ],
          [
           999998,
           "The Views",
           1351
          ],
          [
           3100000,
           "Dubai Festival City",
           3116
          ],
          [
           1650000,
           "Downtown Dubai",
           1450
          ],
          [
           1100000,
           "Downtown Dubai",
           933
          ],
          [
           720000,
           "Arjan",
           1052
          ],
          [
           1700000,
           "Downtown Dubai",
           1105
          ],
          [
           1056711,
           "Downtown Dubai",
           674
          ],
          [
           2500000,
           "Downtown Dubai",
           1451
          ],
          [
           4500000,
           "Downtown Dubai",
           2220
          ],
          [
           1898000,
           "Dubai Hills Estate",
           2491
          ],
          [
           650000,
           "Jumeirah Lake Towers",
           980
          ],
          [
           2900000,
           "Downtown Dubai",
           1555
          ],
          [
           1650000,
           "Dubai Marina",
           1376
          ],
          [
           1800000,
           "Jumeirah Beach Residence",
           1966
          ],
          [
           1483888,
           "Dubai Harbour",
           745
          ],
          [
           1390000,
           "Dubai Marina",
           1356
          ],
          [
           2000000,
           "Jumeirah Beach Residence",
           2921
          ],
          [
           1250000,
           "Downtown Dubai",
           1062
          ],
          [
           965000,
           "Downtown Dubai",
           1002
          ],
          [
           2300000,
           "Jumeirah Beach Residence",
           1370
          ],
          [
           1050000,
           "Dubai Marina",
           768
          ],
          [
           799000,
           "Jumeirah Village Circle",
           1016
          ],
          [
           799000,
           "Dubai Sports City",
           1343
          ],
          [
           1250000,
           "Motor City",
           2131
          ],
          [
           650000,
           "Business Bay",
           619
          ],
          [
           670000,
           "Town Square",
           885
          ],
          [
           999000,
           "Downtown Dubai",
           880
          ],
          [
           1650000,
           "Downtown Dubai",
           1517
          ],
          [
           700000,
           "DAMAC Hills",
           851
          ],
          [
           2975000,
           "Meydan",
           2795
          ],
          [
           3600000,
           "Palm Jumeirah",
           2931
          ],
          [
           3250000,
           "Palm Jumeirah",
           4053
          ],
          [
           650000,
           "Remraam",
           1006
          ],
          [
           870000,
           "Town Square",
           1431
          ],
          [
           4300000,
           "Al Barari",
           4026
          ],
          [
           1230000,
           "Mohammed Bin Rashid City",
           760
          ],
          [
           1250000,
           "Palm Jumeirah",
           1590
          ],
          [
           4200000,
           "Palm Jumeirah",
           4053
          ],
          [
           930000,
           "Dubai Production City (IMPZ)",
           1070
          ],
          [
           1600000,
           "Greens",
           1767
          ],
          [
           2700000,
           "Downtown Dubai",
           1838
          ],
          [
           1399999,
           "The Views",
           1237
          ],
          [
           2400000,
           "Bluewaters",
           1154
          ],
          [
           1180000,
           "Jumeirah Beach Residence",
           1294
          ],
          [
           1050000,
           "Dubai Marina",
           1490
          ],
          [
           2495000,
           "Bluewaters",
           1155
          ],
          [
           1600000,
           "Downtown Dubai",
           1104
          ],
          [
           2400000,
           "Dubai Marina",
           1850
          ],
          [
           2100000,
           "Dubai Marina",
           2430
          ],
          [
           1200000,
           "Business Bay",
           1967
          ],
          [
           620190,
           "Jumeirah Village Circle",
           840
          ],
          [
           759000,
           "Jumeirah Village Circle",
           895
          ],
          [
           919000,
           "Dubai Marina",
           529
          ],
          [
           2399998,
           "Downtown Dubai",
           1338
          ],
          [
           759000,
           "Jumeirah Village Circle",
           895
          ],
          [
           1190500,
           "Jumeirah Village Circle",
           1575
          ],
          [
           620190,
           "Jumeirah Village Circle",
           840
          ],
          [
           1190000,
           "Jumeirah Village Circle",
           1575
          ],
          [
           620190,
           "Jumeirah Village Circle",
           840
          ],
          [
           759000,
           "Jumeirah Village Circle",
           895
          ],
          [
           1190500,
           "Jumeirah Village Circle",
           1575
          ],
          [
           1750000,
           "Dubai Marina",
           1480
          ],
          [
           1430000,
           "Dubai Marina",
           868
          ],
          [
           2500000,
           "Meydan",
           2800
          ],
          [
           2500000,
           "Downtown Dubai",
           1445
          ],
          [
           3119900,
           "Palm Jumeirah",
           1057
          ],
          [
           2649999,
           "Al Barari",
           2809
          ],
          [
           620190,
           "Jumeirah Village Circle",
           840
          ],
          [
           759000,
           "Jumeirah Village Circle",
           895
          ],
          [
           2000000,
           "Dubai Marina",
           1282
          ],
          [
           1190500,
           "Jumeirah Village Circle",
           1575
          ],
          [
           1800000,
           "Downtown Dubai",
           1167
          ],
          [
           620190,
           "Jumeirah Village Circle",
           840
          ],
          [
           759000,
           "Jumeirah Village Circle",
           895
          ],
          [
           900000,
           "Al Sufouh",
           1044
          ],
          [
           629999,
           "Greens",
           754
          ],
          [
           849000,
           "Al Sufouh",
           773
          ],
          [
           1190500,
           "Jumeirah Village Circle",
           1573
          ],
          [
           1991888,
           "Downtown Dubai",
           1041
          ],
          [
           2850000,
           "Downtown Dubai",
           1262
          ],
          [
           1396000,
           "Jumeirah Beach Residence",
           849
          ],
          [
           1525000,
           "Downtown Dubai",
           739
          ],
          [
           3500000,
           "Downtown Dubai",
           1271
          ],
          [
           3100000,
           "Jumeirah Lake Towers",
           2903
          ],
          [
           1600000,
           "Downtown Dubai",
           1150
          ],
          [
           1926888,
           "Dubai Harbour",
           747
          ],
          [
           1254888,
           "Dubai Hills Estate",
           959
          ],
          [
           2900000,
           "Downtown Dubai",
           1484
          ],
          [
           1550000,
           "Palm Jumeirah",
           1975
          ],
          [
           2900000,
           "Business Bay",
           3007
          ],
          [
           1276000,
           "Mudon",
           1605
          ],
          [
           1790000,
           "Mudon",
           1485
          ],
          [
           1700000,
           "Dubai Marina",
           1366
          ],
          [
           949999,
           "Dubai Marina",
           619
          ],
          [
           1099000,
           "Dubai Marina",
           1444
          ],
          [
           2400000,
           "Jumeirah Beach Residence",
           1813
          ],
          [
           2700000,
           "DIFC",
           1757
          ],
          [
           1284888,
           "Downtown Dubai",
           637
          ],
          [
           1270888,
           "Downtown Dubai",
           637
          ],
          [
           2200000,
           "Dubai Marina",
           1787
          ],
          [
           1850000,
           "Business Bay",
           1967
          ],
          [
           2800000,
           "Downtown Dubai",
           1607
          ],
          [
           795000,
           "Motor City",
           1642
          ],
          [
           1599888,
           "Downtown Dubai",
           1443
          ],
          [
           1425000,
           "Palm Jumeirah",
           1800
          ],
          [
           899000,
           "Jumeirah Beach Residence",
           1285
          ],
          [
           1599950,
           "Dubai Marina",
           1324
          ],
          [
           1399000,
           "Palm Jumeirah",
           1145
          ],
          [
           1750000,
           "Downtown Dubai",
           1186
          ],
          [
           3500000,
           "Downtown Dubai",
           1506
          ],
          [
           2999999,
           "Jumeirah Beach Residence",
           2500
          ],
          [
           2399950,
           "Dubai Marina",
           1509
          ],
          [
           4500000,
           "Bluewaters",
           2102
          ],
          [
           2999999,
           "Dubai Marina",
           1674
          ],
          [
           1500000,
           "Jumeirah Beach Residence",
           640
          ],
          [
           3399999,
           "Jumeirah Beach Residence",
           1181
          ],
          [
           1400000,
           "Dubai Marina",
           616
          ],
          [
           2490000,
           "Dubai Marina",
           2490
          ],
          [
           799000,
           "Mohammed Bin Rashid City",
           493
          ],
          [
           1510000,
           "Business Bay",
           1741
          ],
          [
           1500000,
           "Business Bay",
           1741
          ],
          [
           1350000,
           "Dubai Marina",
           1105
          ],
          [
           3100000,
           "Jumeirah Beach Residence",
           2918
          ],
          [
           620190,
           "Jumeirah Village Circle",
           840
          ],
          [
           759000,
           "Jumeirah Village Circle",
           895
          ],
          [
           1190500,
           "Jumeirah Village Circle",
           1575
          ],
          [
           1600000,
           "Dubai Marina",
           1480
          ],
          [
           1395000,
           "Jumeirah Beach Residence",
           1807
          ],
          [
           3090000,
           "Downtown Dubai",
           1714
          ],
          [
           4100000,
           "Downtown Dubai",
           2000
          ],
          [
           800000,
           "Dubai Marina",
           1739
          ],
          [
           720000,
           "Dubai Marina",
           941
          ],
          [
           780000,
           "Dubai Marina",
           542
          ],
          [
           4800000,
           "Palm Jumeirah",
           2873
          ],
          [
           1250000,
           "The Views",
           1722
          ],
          [
           1499998,
           "Dubai Marina",
           2352
          ],
          [
           1420888,
           "Town Square",
           1438
          ],
          [
           725888,
           "Town Square",
           700
          ],
          [
           1010888,
           "Town Square",
           1655
          ],
          [
           2400000,
           "The Hills",
           1780
          ],
          [
           1650000,
           "Dubai Marina",
           1861
          ],
          [
           1698000,
           "Business Bay",
           1512
          ],
          [
           1800000,
           "Bluewaters",
           1117
          ],
          [
           1737000,
           "Jumeirah",
           1163
          ],
          [
           1271000,
           "Jumeirah",
           732
          ],
          [
           4127000,
           "Jumeirah",
           1966
          ],
          [
           1230000,
           "Jumeirah Beach Residence",
           1294
          ],
          [
           940000,
           "Downtown Dubai",
           915
          ],
          [
           2600000,
           "Business Bay",
           2791
          ],
          [
           1789999,
           "Business Bay",
           2050
          ],
          [
           690000,
           "Jumeirah Beach Residence",
           714
          ],
          [
           2100000,
           "Downtown Dubai",
           1624
          ],
          [
           2100000,
           "Downtown Dubai",
           1539
          ],
          [
           1600000,
           "Palm Jumeirah",
           1144
          ],
          [
           625000,
           "Al Furjan",
           823
          ],
          [
           658000,
           "Jumeirah Village Circle",
           733
          ],
          [
           845000,
           "Arjan",
           859
          ],
          [
           1550000,
           "Dubai Marina",
           860
          ],
          [
           2299000,
           "Dubai Marina",
           2328
          ],
          [
           4100000,
           "Jumeirah Beach Residence",
           1800
          ],
          [
           890000,
           "Business Bay",
           1155
          ],
          [
           2140000,
           "Dubai Marina",
           1736
          ],
          [
           701150,
           "Jumeirah Lake Towers",
           758
          ],
          [
           1100000,
           "Dubai Marina",
           1120
          ],
          [
           2999900,
           "Downtown Dubai",
           1888
          ],
          [
           1724900,
           "Downtown Dubai",
           1096
          ],
          [
           1250000,
           "Dubai Marina",
           1140
          ],
          [
           1254462,
           "Jumeirah Lake Towers",
           1378
          ],
          [
           750000,
           "Jumeirah Village Circle",
           1478
          ],
          [
           1318000,
           "Dubai Marina",
           1255
          ],
          [
           2100000,
           "Downtown Dubai",
           1049
          ],
          [
           2949900,
           "Downtown Dubai",
           1778
          ],
          [
           1300000,
           "Greens",
           1441
          ],
          [
           1300000,
           "Dubai Marina",
           1330
          ],
          [
           950000,
           "Motor City",
           1413
          ],
          [
           1075000,
           "Dubai Marina",
           662
          ],
          [
           730000,
           "Dubai Marina",
           761
          ],
          [
           870000,
           "Business Bay",
           981
          ],
          [
           1900000,
           "Dubai Harbour",
           1139
          ],
          [
           875000,
           "Dubai Marina",
           964
          ],
          [
           1550000,
           "Palm Jumeirah",
           1777
          ],
          [
           1200000,
           "Dubai Silicon Oasis",
           2168
          ],
          [
           3600000,
           "Downtown Dubai",
           880
          ],
          [
           875000,
           "Jumeirah Lake Towers",
           1380
          ],
          [
           2100000,
           "DIFC",
           1836
          ],
          [
           3400000,
           "Jumeirah Beach Residence",
           2918
          ],
          [
           2360000,
           "Downtown Dubai",
           1712
          ],
          [
           989888,
           "Al Furjan",
           1400
          ],
          [
           1253980,
           "Jumeirah Lake Towers",
           1378
          ],
          [
           712250,
           "Jumeirah Lake Towers",
           770
          ],
          [
           1200000,
           "Dubai Marina",
           1291
          ],
          [
           4500000,
           "Downtown Dubai",
           2360
          ],
          [
           1850000,
           "Downtown Dubai",
           982
          ],
          [
           3100000,
           "Dubai Marina",
           1806
          ],
          [
           1100000,
           "Dubai Harbour",
           655
          ],
          [
           1275000,
           "Jumeirah Lake Towers",
           1435
          ],
          [
           1050000,
           "Jumeirah Beach Residence",
           1350
          ],
          [
           700000,
           "Dubai Marina",
           975
          ],
          [
           900000,
           "Al Furjan",
           1504
          ],
          [
           1200000,
           "Business Bay",
           1332
          ],
          [
           1210000,
           "Business Bay",
           1567
          ],
          [
           950000,
           "Greens",
           1094
          ],
          [
           1250000,
           "Jumeirah Beach Residence",
           1388
          ],
          [
           2350000,
           "Downtown Dubai",
           1447
          ],
          [
           2700000,
           "DIFC",
           2070
          ],
          [
           1900000,
           "Downtown Dubai",
           1300
          ],
          [
           1050000,
           "Greens",
           1408
          ],
          [
           1500000,
           "Palm Jumeirah",
           1583
          ],
          [
           1900000,
           "Dubai Marina",
           1443
          ],
          [
           2789900,
           "Downtown Dubai",
           1546
          ],
          [
           3600000,
           "Downtown Dubai",
           2081
          ],
          [
           865000,
           "Jumeirah Lake Towers",
           1249
          ],
          [
           3159888,
           "Dubai Creek Harbour (The Lagoons)",
           1589
          ],
          [
           2000000,
           "Downtown Dubai",
           1400
          ],
          [
           1250000,
           "Dubai Marina",
           1734
          ],
          [
           1275000,
           "Jumeirah Lake Towers",
           2031
          ],
          [
           1548000,
           "The Views",
           1318
          ],
          [
           625000,
           "Motor City",
           919
          ],
          [
           1400000,
           "Dubai Marina",
           1376
          ],
          [
           949000,
           "Dubai Marina",
           958
          ],
          [
           1200000,
           "Dubai Creek Harbour (The Lagoons)",
           1133
          ],
          [
           1599999,
           "Dubai Marina",
           1547
          ],
          [
           2800000,
           "Downtown Dubai",
           1571
          ],
          [
           2099950,
           "Dubai Marina",
           1443
          ],
          [
           2100000,
           "Downtown Dubai",
           1618
          ],
          [
           1248975,
           "Mohammed Bin Rashid City",
           793
          ],
          [
           757809,
           "Mohammed Bin Rashid City",
           493
          ],
          [
           1190000,
           "Dubai Marina",
           1734
          ],
          [
           1100000,
           "Arjan",
           1857
          ],
          [
           950000,
           "Barsha Heights (Tecom)",
           1397
          ],
          [
           1400000,
           "Jumeirah Lake Towers",
           1690
          ],
          [
           2650000,
           "Jumeirah Beach Residence",
           3022
          ],
          [
           700000,
           "Dubai Hills Estate",
           654
          ],
          [
           1000000,
           "Dubai Marina",
           1305
          ],
          [
           720000,
           "Dubai Marina",
           737
          ],
          [
           1800000,
           "Palm Jumeirah",
           1991
          ],
          [
           925000,
           "Dubai Marina",
           841
          ],
          [
           1490000,
           "Dubai Marina",
           2161
          ],
          [
           2027888,
           "Dubai Creek Harbour (The Lagoons)",
           1070
          ],
          [
           840477,
           "Dubai Marina",
           474
          ],
          [
           2700000,
           "Dubai Marina",
           2363
          ],
          [
           1349888,
           "Business Bay",
           1055
          ],
          [
           1349888,
           "Business Bay",
           1388
          ],
          [
           949999,
           "Dubai Marina",
           971
          ],
          [
           1025000,
           "Downtown Dubai",
           1062
          ],
          [
           645000,
           "Greens",
           754
          ],
          [
           2899999,
           "Jumeirah Beach Residence",
           1181
          ],
          [
           900000,
           "Business Bay",
           616
          ],
          [
           1550000,
           "Business Bay",
           1300
          ],
          [
           2974999,
           "Meydan",
           2795
          ],
          [
           1601000,
           "DAMAC Hills",
           1525
          ],
          [
           2142888,
           "Dubai Harbour",
           1133
          ],
          [
           1715000,
           "Dubai Harbour",
           789
          ],
          [
           2551888,
           "Dubai Harbour",
           1252
          ],
          [
           3800000,
           "Jumeirah Beach Residence",
           2150
          ],
          [
           1050000,
           "Dubai Creek Harbour (The Lagoons)",
           760
          ],
          [
           2300943,
           "Palm Jumeirah",
           1095
          ],
          [
           1265000,
           "Downtown Dubai",
           1241
          ],
          [
           1350000,
           "Dubai Marina",
           1330
          ],
          [
           3125000,
           "Dubai Marina",
           1814
          ],
          [
           1340000,
           "The Views",
           1347
          ],
          [
           810000,
           "Downtown Dubai",
           727
          ],
          [
           1000000,
           "Dubai Marina",
           660
          ],
          [
           930000,
           "Dubai Marina",
           723
          ],
          [
           1800000,
           "Dubai Marina",
           1328
          ],
          [
           850000,
           "Al Furjan",
           1398
          ],
          [
           1600000,
           "Downtown Dubai",
           742
          ],
          [
           675000,
           "Al Furjan",
           877
          ],
          [
           1170000,
           "Business Bay",
           914
          ],
          [
           2000000,
           "Business Bay",
           2043
          ],
          [
           1698000,
           "Business Bay",
           1512
          ],
          [
           4335888,
           "Dubai Harbour",
           1700
          ],
          [
           3029888,
           "Dubai Creek Harbour (The Lagoons)",
           1662
          ],
          [
           2166888,
           "Downtown Dubai",
           1087
          ],
          [
           4507888,
           "Downtown Dubai",
           1604
          ],
          [
           718000,
           "DAMAC Hills",
           769
          ],
          [
           718000,
           "DAMAC Hills",
           769
          ],
          [
           718000,
           "DAMAC Hills",
           769
          ],
          [
           1870000,
           "Business Bay",
           1237
          ],
          [
           1442977,
           "DAMAC Hills",
           1302
          ],
          [
           1645000,
           "DAMAC Hills",
           1619
          ],
          [
           3690888,
           "Dubai Marina",
           1747
          ],
          [
           709000,
           "Business Bay",
           469
          ],
          [
           710000,
           "Business Bay",
           465
          ],
          [
           713000,
           "Business Bay",
           470
          ],
          [
           786000,
           "Business Bay",
           466
          ],
          [
           794000,
           "Business Bay",
           471
          ],
          [
           1288000,
           "Business Bay",
           913
          ],
          [
           690000,
           "Business Bay",
           428
          ],
          [
           999000,
           "Business Bay",
           696
          ],
          [
           2437000,
           "Business Bay",
           1696
          ],
          [
           2439000,
           "Business Bay",
           1686
          ],
          [
           2448000,
           "Business Bay",
           1696
          ],
          [
           2312000,
           "Business Bay",
           1046
          ],
          [
           1644000,
           "Business Bay",
           991
          ],
          [
           3863000,
           "Dubai Marina",
           1923
          ],
          [
           3890000,
           "Dubai Marina",
           1939
          ],
          [
           1915000,
           "Business Bay",
           2000
          ],
          [
           1340000,
           "The Views",
           1400
          ],
          [
           999000,
           "Jumeirah Village Circle",
           1574
          ],
          [
           1300000,
           "Jumeirah Village Circle",
           1481
          ],
          [
           2750000,
           "Dubai Marina",
           1657
          ],
          [
           2160888,
           "Dubai Harbour",
           1171
          ],
          [
           4278888,
           "The Hills",
           3607
          ],
          [
           950000,
           "Al Furjan",
           1556
          ],
          [
           3900000,
           "Jumeirah Beach Residence",
           2170
          ],
          [
           620000,
           "Greens",
           764
          ],
          [
           700000,
           "Meydan",
           676
          ],
          [
           1200000,
           "Downtown Dubai",
           831
          ],
          [
           810000,
           "Jumeirah Lake Towers",
           889
          ],
          [
           1100000,
           "Downtown Dubai",
           744
          ],
          [
           3762888,
           "The Hills",
           2191
          ],
          [
           2299000,
           "Downtown Dubai",
           1445
          ],
          [
           1800000,
           "Palm Jumeirah",
           1158
          ],
          [
           1000000,
           "Motor City",
           1642
          ],
          [
           850000,
           "Business Bay",
           410
          ],
          [
           650000,
           "Dubai Marina",
           693
          ],
          [
           680000,
           "Jumeirah Village Circle",
           770
          ],
          [
           1500000,
           "Downtown Dubai",
           985
          ],
          [
           3950000,
           "Downtown Dubai",
           2010
          ],
          [
           1780000,
           "Greens",
           2050
          ],
          [
           1550000,
           "Jumeirah Village Triangle",
           1566
          ],
          [
           935000,
           "Dubai Marina",
           609
          ],
          [
           4362888,
           "Downtown Dubai",
           1192
          ],
          [
           1790000,
           "Greens",
           2128
          ],
          [
           1586888,
           "Downtown Dubai",
           607
          ],
          [
           2000000,
           "Jumeirah Beach Residence",
           2921
          ],
          [
           1175000,
           "Motor City",
           2218
          ],
          [
           900000,
           "Motor City",
           1550
          ],
          [
           850000,
           "Business Bay",
           455
          ],
          [
           1088888,
           "Town Square",
           1410
          ],
          [
           1088888,
           "Town Square",
           1365
          ],
          [
           650000,
           "Jumeirah Lake Towers",
           896
          ],
          [
           920000,
           "Jumeirah Lake Towers",
           1184
          ],
          [
           3000000,
           "Jumeirah Lake Towers",
           3593
          ],
          [
           3350000,
           "Jumeirah Beach Residence",
           3112
          ],
          [
           4400000,
           "Palm Jumeirah",
           2398
          ],
          [
           2100000,
           "Dubai Festival City",
           2267
          ],
          [
           695000,
           "Jumeirah Beach Residence",
           713
          ],
          [
           2100000,
           "Al Kifaf",
           1612
          ],
          [
           2749000,
           "Jumeirah Beach Residence",
           2455
          ],
          [
           839000,
           "Al Sufouh",
           906
          ],
          [
           3000000,
           "Dubai Marina",
           1867
          ],
          [
           711000,
           "Jumeirah Village Circle",
           747
          ],
          [
           1444000,
           "Umm Suqeim",
           875
          ],
          [
           1750000,
           "The Views",
           1642
          ],
          [
           3511888,
           "Palm Jumeirah",
           1666
          ],
          [
           624888,
           "Palm Jumeirah",
           321
          ],
          [
           2270000,
           "Jumeirah",
           1216
          ],
          [
           1200000,
           "Jumeirah Village Circle",
           1218
          ],
          [
           1750000,
           "Dubai Marina",
           2761
          ],
          [
           2150000,
           "Downtown Dubai",
           1367
          ],
          [
           699999,
           "Jumeirah Beach Residence",
           713
          ],
          [
           896000,
           "Dubai Hills Estate",
           915
          ],
          [
           777950,
           "Dubai Marina",
           709
          ],
          [
           1000000,
           "Dubai Marina",
           1305
          ],
          [
           1307392,
           "Al Barari",
           966
          ],
          [
           690777,
           "wasl gate",
           730
          ],
          [
           1850000,
           "Palm Jumeirah",
           1296
          ],
          [
           650000,
           "Jumeirah Village Circle",
           514
          ],
          [
           1249999,
           "Meydan",
           1534
          ],
          [
           2500000,
           "DIFC",
           1757
          ],
          [
           2000000,
           "Al Sufouh",
           1783
          ],
          [
           1200000,
           "Palm Jumeirah",
           1633
          ],
          [
           1250000,
           "Palm Jumeirah",
           791
          ],
          [
           4600000,
           "Downtown Dubai",
           2019
          ],
          [
           674000,
           "Jumeirah Lake Towers",
           940
          ],
          [
           1490000,
           "Downtown Dubai",
           1198
          ],
          [
           1300000,
           "Dubai Marina",
           822
          ],
          [
           1750000,
           "The Views",
           1642
          ],
          [
           850000,
           "Dubai Marina",
           1328
          ],
          [
           1419000,
           "Mirdif",
           1330
          ],
          [
           1696000,
           "Mirdif",
           1600
          ],
          [
           2500000,
           "Downtown Dubai",
           1329
          ],
          [
           1590000,
           "Business Bay",
           1325
          ],
          [
           1400000,
           "Downtown Dubai",
           1356
          ],
          [
           1700000,
           "Dubai Hills Estate",
           1541
          ],
          [
           1500000,
           "Dubai Hills Estate",
           1315
          ],
          [
           1150000,
           "Business Bay",
           943
          ],
          [
           1500000,
           "Downtown Dubai",
           856
          ],
          [
           799999,
           "Business Bay",
           929
          ],
          [
           2425000,
           "Business Bay",
           2000
          ],
          [
           1698000,
           "Business Bay",
           1512
          ],
          [
           2300000,
           "Umm Suqeim",
           1623
          ],
          [
           1366000,
           "Jumeirah",
           816
          ],
          [
           730000,
           "DAMAC Hills",
           777
          ],
          [
           1200000,
           "Downtown Dubai",
           1026
          ],
          [
           3499888,
           "Downtown Dubai",
           1639
          ],
          [
           2099888,
           "Downtown Dubai",
           1133
          ],
          [
           1375000,
           "Business Bay",
           1270
          ],
          [
           1400000,
           "Dubai Marina",
           1371
          ],
          [
           1000000,
           "Downtown Dubai",
           909
          ],
          [
           1980000,
           "Dubai Marina",
           1853
          ],
          [
           1113661,
           "Jumeirah Village Circle",
           1194
          ],
          [
           649411,
           "Jumeirah Village Circle",
           690
          ],
          [
           1850000,
           "Dubai Hills Estate",
           1638
          ],
          [
           2600000,
           "Downtown Dubai",
           1485
          ],
          [
           770000,
           "Al Furjan",
           906
          ],
          [
           940000,
           "Meydan",
           758
          ],
          [
           1800000,
           "Downtown Dubai",
           1232
          ],
          [
           2512000,
           "Umm Suqeim",
           1504
          ],
          [
           995000,
           "Business Bay",
           696
          ],
          [
           1045000,
           "Dubai Marina",
           1185
          ],
          [
           1600000,
           "Business Bay",
           1751
          ],
          [
           2500000,
           "Dubai Marina",
           2992
          ],
          [
           1540000,
           "Jumeirah Beach Residence",
           763
          ],
          [
           1350000,
           "Jumeirah Village Circle",
           1358
          ],
          [
           1350000,
           "Jumeirah Village Circle",
           1357
          ],
          [
           899999,
           "Jumeirah Lake Towers",
           1328
          ],
          [
           1350000,
           "Jumeirah Village Circle",
           1354
          ],
          [
           3800000,
           "Jumeirah Beach Residence",
           1897
          ],
          [
           1350205,
           "Jumeirah Village Circle",
           1342
          ],
          [
           2000000,
           "Downtown Dubai",
           1133
          ],
          [
           3300000,
           "Dubai Marina",
           3456
          ],
          [
           1650000,
           "The Hills",
           1558
          ],
          [
           661504,
           "Jumeirah Village Circle",
           675
          ],
          [
           958205,
           "Jumeirah Village Circle",
           1311
          ],
          [
           840000,
           "Jumeirah Lake Towers",
           1152
          ],
          [
           1600000,
           "Greens",
           1797
          ],
          [
           1650000,
           "Dubai Marina",
           1303
          ],
          [
           619500,
           "Jumeirah Village Circle",
           851
          ],
          [
           750204,
           "Jumeirah Village Circle",
           1045
          ],
          [
           2400000,
           "DIFC",
           1782
          ],
          [
           900000,
           "Jumeirah Village Circle",
           967
          ],
          [
           650503,
           "Jumeirah Village Circle",
           751
          ],
          [
           999505,
           "Jumeirah Village Circle",
           1198
          ],
          [
           2250000,
           "Jumeirah",
           1341
          ],
          [
           1550000,
           "DIFC",
           960
          ],
          [
           3400000,
           "Jumeirah Beach Residence",
           2918
          ],
          [
           2192000,
           "Umm Suqeim",
           1351
          ],
          [
           2448000,
           "Umm Suqeim",
           1702
          ],
          [
           2112000,
           "Umm Suqeim",
           1359
          ],
          [
           699505,
           "Jumeirah Village Circle",
           840
          ],
          [
           2121000,
           "Umm Suqeim",
           1378
          ],
          [
           1525000,
           "Business Bay",
           1300
          ],
          [
           950000,
           "Dubai Marina",
           841
          ],
          [
           2245888,
           "Dubai Harbour",
           1143
          ],
          [
           1550000,
           "Dubai Marina",
           1323
          ],
          [
           1212000,
           "The Views",
           1302
          ],
          [
           1550000,
           "Dubai Marina",
           1233
          ],
          [
           1100000,
           "Dubai Marina",
           884
          ],
          [
           2800000,
           "Al Barari",
           2745
          ],
          [
           2100000,
           "Umm Suqeim",
           1300
          ],
          [
           1500000,
           "Jumeirah Beach Residence",
           1058
          ],
          [
           1250000,
           "Dubai Marina",
           1377
          ],
          [
           1750000,
           "The Views",
           1642
          ],
          [
           1100000,
           "Dubai Creek Harbour (The Lagoons)",
           899
          ],
          [
           3200000,
           "Downtown Dubai",
           1709
          ],
          [
           2950000,
           "Business Bay",
           3039
          ],
          [
           2112000,
           "Umm Suqeim",
           1359
          ],
          [
           4000000,
           "Downtown Dubai",
           2023
          ],
          [
           700000,
           "Dubai Marina",
           591
          ],
          [
           920000,
           "Business Bay",
           778
          ],
          [
           1650000,
           "Palm Jumeirah",
           1890
          ],
          [
           1599990,
           "Greens",
           2059
          ],
          [
           1500000,
           "Dubai Marina",
           2412
          ],
          [
           760888,
           "Jumeirah Lake Towers",
           904
          ],
          [
           1005888,
           "Jumeirah Lake Towers",
           1073
          ],
          [
           1550888,
           "Jumeirah Lake Towers",
           1517
          ],
          [
           1750000,
           "Dubai Marina",
           1324
          ],
          [
           2600000,
           "Dubai Marina",
           2205
          ],
          [
           2400000,
           "Jumeirah Beach Residence",
           1842
          ],
          [
           795000,
           "DIFC",
           769
          ],
          [
           1975000,
           "Dubai Marina",
           2979
          ],
          [
           838000,
           "Al Furjan",
           928
          ],
          [
           2300000,
           "DIFC",
           1836
          ],
          [
           1781920,
           "Mohammed Bin Rashid City",
           1184
          ],
          [
           1352888,
           "Dubai Harbour",
           745
          ],
          [
           2800000,
           "Mohammed Bin Rashid City",
           2012
          ],
          [
           1459888,
           "Dubai Harbour",
           758
          ],
          [
           1350000,
           "Dubai Marina",
           1579
          ],
          [
           1499000,
           "Jumeirah Beach Residence",
           1884
          ],
          [
           2130888,
           "Downtown Dubai",
           791
          ],
          [
           890000,
           "Dubai Creek Harbour (The Lagoons)",
           760
          ],
          [
           2400000,
           "Jumeirah Lake Towers",
           2798
          ],
          [
           1850000,
           "The Views",
           1400
          ],
          [
           2090000,
           "Dubai Marina",
           1061
          ],
          [
           1970000,
           "Jumeirah Beach Residence",
           882
          ],
          [
           3300000,
           "Jumeirah Beach Residence",
           1180
          ],
          [
           4856888,
           "Dubai Harbour",
           2088
          ],
          [
           1396000,
           "City Walk",
           1672
          ],
          [
           1300000,
           "Dubai Marina",
           1843
          ],
          [
           1400000,
           "Palm Jumeirah",
           1173
          ],
          [
           3800000,
           "Jumeirah Beach Residence",
           1807
          ],
          [
           1175000,
           "Dubai South (Dubai World Central)",
           3247
          ],
          [
           2000000,
           "Jumeirah Beach Residence",
           857
          ],
          [
           980888,
           "Downtown Dubai",
           1088
          ],
          [
           1350000,
           "Dubai Marina",
           1578
          ],
          [
           2700000,
           "Palm Jumeirah",
           1076
          ],
          [
           1500000,
           "Mohammed Bin Rashid City",
           1087
          ],
          [
           1230000,
           "Mohammed Bin Rashid City",
           760
          ],
          [
           2900000,
           "Dubai Creek Harbour (The Lagoons)",
           1930
          ],
          [
           675000,
           "Jumeirah Village Circle",
           740
          ],
          [
           760887,
           "Jumeirah Lake Towers",
           800
          ]
         ],
         "hovertemplate": "latitude=%{lat}<br>longitude=%{lon}<br>price=%{marker.color}<br>neighborhood=%{customdata[1]}<br>size_in_sqft=%{customdata[2]}<extra></extra>",
         "lat": [
          25.113208,
          25.106809,
          25.063302,
          25.227295,
          25.114275,
          25.114275,
          25.114275,
          25.106668,
          25.194935,
          25.198796,
          25.075017000000003,
          25.075017000000003,
          25.132519,
          25.132445,
          25.132021,
          25.132021,
          25.198316,
          25.19702,
          25.180301,
          25.072396,
          25.079783,
          25.197316,
          25.08377,
          25.084331,
          25.194282,
          25.191719,
          25.190044,
          25.233787,
          25.106809,
          25.158305,
          25.227295,
          25.06031,
          25.06031,
          25.07359,
          25.075017000000003,
          25.204631,
          25.206345,
          25.074439,
          25.190275,
          25.114333,
          25.091487,
          25.200221,
          25.02985,
          25.20573,
          25.185337,
          25.089393,
          25.132519,
          25.086376,
          25.086575,
          25.204631,
          25.072954,
          25.029767,
          25.183133,
          25.183133,
          25.183133,
          25.109367,
          25.137409,
          25.145181,
          25.070605,
          25.086376,
          25.072954,
          25.189124,
          25.046147,
          25.109367,
          25.046147,
          25.019361,
          25.212018,
          25.19331,
          25.108728,
          25.194935,
          25.083121,
          25.186457,
          25.196593,
          25.132445,
          25.066791,
          25.072396,
          25.197316,
          25.088431,
          25.08377,
          25.204462,
          25.07851,
          25.080143,
          25.100994,
          25.07359,
          25.197316,
          25.187622,
          25.132445,
          25.197316,
          25.132021,
          25.081243,
          25.211032,
          25.100921,
          25.200926000000003,
          25.07868,
          25.195461,
          25.111433,
          25.111229,
          25.049282,
          25.132021,
          25.081622,
          25.212018,
          25.112604,
          25.205218,
          25.205218,
          25.196398,
          25.196398,
          25.191753,
          25.189554,
          25.185823000000003,
          25.090953,
          25.187093,
          25.11576,
          25.11576,
          25.031902,
          25.200221,
          25.194935,
          25.193542,
          25.111902,
          25.109367,
          25.204462,
          25.073593,
          25.068608,
          25.072396,
          25.106147,
          25.106964,
          25.056225,
          25.123141,
          25.186836,
          25.077327,
          25.194547,
          25.051528,
          25.200221,
          25.073151,
          25.089719,
          25.072791,
          25.112604,
          25.07851,
          25.198796,
          25.194282,
          25.075364,
          25.132519,
          25.106809,
          25.194186,
          25.194186,
          25.137409,
          25.060247,
          25.19045,
          25.091871,
          25.186477,
          25.04675,
          25.196558,
          25.075017000000003,
          25.067137,
          25.111798,
          25.097805,
          25.066013,
          25.106668,
          25.087251,
          25.078492,
          25.081622,
          25.072291,
          25.071504,
          25.183133,
          25.064767,
          25.075364,
          25.073156,
          25.195237,
          25.194186,
          25.198796,
          25.199782,
          25.186836,
          25.197262,
          25.212018,
          25.076319,
          25.111229,
          25.110165,
          25.197316,
          25.178369,
          25.100553,
          25.074307,
          25.077576,
          25.077327,
          25.189282,
          25.200879,
          25.088606,
          25.064191,
          25.191527,
          25.212018,
          25.212018,
          25.079385,
          25.156237,
          25.02462,
          25.09003,
          25.109367,
          25.189039,
          25.090418,
          25.11257,
          25.086376,
          25.072375,
          25.06211,
          25.080327,
          25.190874,
          25.106964,
          25.088533,
          25.125472,
          25.084336,
          25.074958,
          25.046706,
          25.089719,
          25.192471,
          25.015253,
          25.090009,
          25.074307,
          25.187093,
          25.087926,
          25.190267,
          25.201842000000003,
          25.195039,
          25.071504,
          25.087251,
          25.178495,
          25.027415,
          25.088431,
          25.177819,
          25.123294,
          25.068586,
          25.071365,
          25.048461,
          25.201718,
          25.087926,
          25.195039,
          25.090009,
          25.103784,
          25.103784,
          25.110724,
          25.070605,
          25.186913,
          25.087251,
          25.18219,
          25.185772,
          25.193039,
          25.087251,
          25.200879,
          25.115747,
          25.073778,
          25.071365,
          25.206345,
          25.110559,
          25.111108,
          25.201227,
          25.072569,
          25.072569,
          25.072569,
          25.072569,
          25.072569,
          25.072569,
          25.193703,
          25.194877,
          25.201204,
          25.195295,
          25.20863,
          25.099132,
          25.099132,
          25.099132,
          25.195854,
          25.080542,
          25.0967,
          25.099793,
          25.099744,
          25.099793,
          25.09938,
          25.099744,
          25.209767000000003,
          25.203844,
          25.111805,
          25.111805,
          25.071448,
          25.202808,
          25.194031,
          25.194031,
          25.201227,
          25.240419,
          25.240419,
          25.240419,
          25.240419,
          25.240419,
          25.137198,
          25.193359,
          25.193359,
          25.112193,
          25.112193,
          25.087147,
          25.0967,
          25.195483,
          25.202977,
          25.123141,
          25.225739,
          25.04866,
          25.240419,
          25.273623,
          25.073778,
          25.112725,
          25.100921,
          25.088431,
          25.114553,
          25.088533,
          25.079276,
          25.195483,
          25.192522,
          25.188743,
          25.111108,
          25.18984,
          25.075974,
          25.208262,
          25.194282,
          25.078122,
          25.072375,
          25.086376,
          25.112725,
          25.202977,
          25.109367,
          25.007528,
          25.081622,
          25.240419,
          25.07907,
          25.073778,
          25.045661,
          25.201718,
          25.125472,
          25.114513,
          25.198796,
          25.069944,
          25.195235,
          25.052714,
          25.240419,
          25.195237,
          25.195235,
          25.086575,
          25.187556,
          25.074521,
          25.202977,
          25.199782,
          25.200879,
          25.111798,
          25.240419,
          25.104115,
          25.081955,
          25.072954,
          25.121564000000003,
          24.999981,
          25.11576,
          25.069266,
          25.171461,
          25.087251,
          25.106964,
          25.233787,
          25.107984,
          25.171461,
          25.233787,
          25.233787,
          25.20179,
          25.11309,
          25.197316,
          25.075017000000003,
          25.131393,
          25.207533,
          25.076944,
          25.072954,
          25.15899,
          25.206412,
          25.191404,
          25.207533,
          25.197316,
          25.079966,
          25.191642,
          25.015608,
          25.099744,
          25.194031,
          25.111902,
          25.082217,
          25.191634,
          25.211032,
          25.204135,
          25.196592000000003,
          25.125472,
          25.115747,
          25.086726,
          25.132519,
          25.107984,
          25.11576,
          25.181311,
          25.240419,
          25.240419,
          25.111822,
          25.202977,
          25.18543,
          25.185156,
          25.10813,
          25.07001,
          25.086575,
          25.022618,
          25.196593,
          25.171461,
          25.171461,
          25.171461,
          25.109367,
          25.132021,
          25.11241,
          25.113366,
          25.189282,
          25.091283,
          25.107984,
          25.005442,
          25.065886,
          25.111229,
          25.005559,
          25.082397,
          25.087042,
          25.108984,
          25.078262,
          25.099132,
          25.177819,
          25.145181,
          25.107353,
          25.01057,
          25.195236,
          25.08333,
          25.096545000000003,
          25.109367,
          25.086575,
          25.178582,
          25.195751,
          25.0902,
          25.107353,
          25.145181,
          25.240419,
          25.111902,
          25.19331,
          25.11257,
          25.072696,
          25.19236,
          25.240419,
          25.069944,
          25.196398,
          25.099132,
          25.202977,
          25.088728,
          25.202977,
          25.196398,
          25.106668,
          25.108728,
          25.109367,
          25.19168,
          25.089833,
          25.184873,
          25.191719,
          25.110165,
          25.098745,
          25.093319,
          25.086575,
          25.116492,
          25.086886,
          25.085305,
          25.068729,
          25.196398,
          25.109367,
          25.091259,
          25.132519,
          25.207533,
          25.111681,
          25.207533,
          25.058632,
          25.072396,
          25.221028,
          25.189195,
          25.132519,
          25.072954,
          25.110724,
          25.085047,
          25.049301,
          25.087251,
          25.082004,
          25.090418,
          25.211032,
          25.087926,
          25.089719,
          25.086376,
          25.211032,
          25.089463,
          25.200159,
          25.077009,
          25.087147,
          25.09243,
          25.20573,
          25.081955,
          25.114513,
          25.201718,
          25.203035,
          25.088728,
          25.099422,
          25.116799,
          25.190874,
          25.081421,
          25.07851,
          25.088533,
          25.108522,
          25.192132,
          25.113521,
          25.072954,
          25.07696,
          25.07696,
          25.240419,
          25.110559,
          25.082004,
          25.08058,
          25.02462,
          25.107984,
          25.177819,
          25.106964,
          25.191404,
          25.044961,
          25.07851,
          25.207533,
          25.076319,
          25.191544,
          25.09858,
          25.022618,
          25.223728,
          25.087926,
          25.065886,
          25.072954,
          25.195483,
          25.01936,
          25.082591,
          25.076319,
          25.072375,
          25.046706,
          25.060106,
          25.084397,
          25.086575,
          25.054336,
          25.111088,
          25.048095,
          25.073146,
          25.108523,
          25.085305,
          25.191527,
          25.048095,
          25.048095,
          25.197316,
          25.082591,
          25.089393,
          25.116329,
          25.089463,
          25.113366,
          25.107005,
          25.200926000000003,
          25.089393,
          25.240419,
          25.0967,
          25.240419,
          25.195483,
          25.076944,
          25.082647,
          25.082647,
          25.082004,
          25.088431,
          25.191404,
          25.084336,
          25.112237,
          25.112237,
          25.240419,
          25.203553,
          25.023506,
          25.088728,
          25.089719,
          25.053988,
          25.093596,
          25.227337,
          25.227337,
          25.227337,
          25.194761,
          25.086376,
          25.054336,
          25.112604,
          25.240419,
          25.195483,
          25.085305,
          25.111943,
          25.126034,
          25.046403,
          25.087547,
          25.113366,
          25.09938,
          25.107086,
          25.19331,
          25.048095,
          25.206345,
          25.086376,
          25.051513,
          25.111943,
          25.080162,
          25.086376,
          25.048095,
          25.048095,
          25.048095,
          25.051513,
          25.051513,
          25.051528,
          25.051528,
          25.051528,
          25.051528,
          25.046296,
          25.046296,
          25.046296,
          25.09938,
          25.240419,
          25.07715,
          25.089393,
          25.2065,
          25.10798,
          25.090136,
          25.088606,
          25.10004,
          25.046296,
          25.191404,
          25.095179,
          25.195483,
          25.082647,
          25.087147,
          25.04866,
          25.046296,
          25.093469,
          25.071356,
          25.107984,
          25.081265,
          25.112725,
          25.066791,
          25.095723,
          25.072791,
          25.051528,
          25.051384,
          25.109367,
          25.04866,
          25.04866,
          25.085322,
          25.07887,
          25.186457,
          25.0633,
          25.116067,
          25.114513,
          25.194722,
          25.087147,
          25.087147,
          25.111943,
          25.195483,
          25.195483,
          25.04866,
          25.189423,
          25.046818,
          25.077955,
          25.074439,
          25.083483,
          25.191107,
          25.037236,
          25.109367,
          25.083145,
          25.11576,
          25.111229,
          25.111943,
          25.057022,
          25.19702,
          25.11087,
          25.132519,
          25.186836,
          25.113366,
          25.07851,
          25.207533,
          25.19079,
          25.19752,
          25.123294,
          25.087979,
          25.086376,
          25.01057,
          25.048095,
          25.176965,
          25.086575,
          25.006838,
          25.110525,
          25.191719,
          25.046667000000003,
          25.20532,
          25.074521,
          25.087979,
          25.078122,
          25.048095,
          25.104115,
          25.240419,
          25.240419,
          25.030322,
          25.060394,
          25.104582,
          25.088533,
          25.074286,
          25.00373,
          25.204135,
          25.200926000000003,
          25.085047,
          25.108984,
          25.090214000000003,
          25.192975,
          25.108728,
          25.184884,
          25.211032,
          25.200879,
          25.200879,
          25.177819,
          25.096219,
          25.089515,
          25.072569,
          25.177819,
          25.081265,
          25.00373,
          25.072569,
          25.099422,
          25.195295,
          25.01551,
          25.088533,
          25.198796,
          25.07887,
          25.094713,
          25.186457,
          25.19331,
          25.176686,
          25.111229,
          25.180869,
          25.010066,
          25.045763,
          25.078492,
          25.200879,
          25.187855,
          25.192132,
          25.027786,
          25.19331,
          25.184483,
          25.204135,
          25.110967,
          25.045763,
          25.107984,
          25.191285,
          25.087147,
          25.227295,
          25.226946,
          25.226946,
          25.227295,
          25.07359,
          25.018888,
          25.018888,
          25.065886,
          25.22724,
          25.051448,
          25.049772,
          25.069929,
          25.038978,
          25.051384,
          25.204058,
          25.029767,
          25.186457,
          25.195483,
          25.188671,
          25.203035,
          25.074521,
          25.112193,
          25.079276,
          25.092075,
          25.089463,
          25.218977,
          25.072569,
          25.082647,
          25.080238,
          25.191634,
          25.069852,
          25.086575,
          25.065988,
          25.087251,
          25.189617,
          25.189617,
          25.189617,
          25.077072,
          25.186836,
          25.201718,
          25.108984,
          25.057022,
          25.065571,
          25.137409,
          25.090136,
          25.090418,
          25.18984,
          25.192871,
          25.190262,
          25.083483,
          25.095723,
          25.107086,
          25.191719,
          25.105166,
          25.076576,
          25.087251,
          25.195542,
          25.125477,
          25.074286,
          25.187129,
          25.0799,
          25.183515,
          25.086376,
          25.150828,
          25.180869,
          25.215192,
          25.195483,
          25.201842000000003,
          25.087042,
          25.07662,
          25.086726,
          25.19719,
          25.109367,
          25.233787,
          25.105166,
          25.079501,
          25.20863,
          25.191404,
          25.112193,
          25.089833,
          25.010196,
          25.09516,
          25.198796,
          25.111535,
          25.171461,
          25.191642,
          25.191642,
          25.191642,
          25.191642,
          25.191642,
          25.075284,
          25.201227,
          25.079895,
          25.074167000000003,
          25.046296,
          25.056225,
          25.056225,
          25.051513,
          25.051513,
          25.188065,
          25.079276,
          25.04866,
          25.04866,
          25.04866,
          25.111943,
          25.107984,
          25.060106,
          25.046706,
          25.078353,
          25.198316,
          25.190267,
          25.075017000000003,
          25.046383,
          25.087251,
          25.045763,
          25.207227,
          25.082647,
          25.082647,
          25.090953,
          25.191719,
          25.186023,
          25.085305,
          25.080444,
          25.065886,
          25.090455,
          25.096545000000003,
          25.092075,
          25.207533,
          25.109367,
          25.037236,
          25.191719,
          25.111433,
          25.074307,
          25.06873,
          25.194547,
          25.193656,
          25.19331,
          25.086575,
          25.109367,
          25.081634,
          25.171461,
          25.171461,
          25.171461,
          25.193542,
          25.200879,
          25.109367,
          25.037236,
          25.077213,
          25.081576,
          25.088431,
          25.087251,
          25.211032,
          25.111902,
          25.218977,
          25.132021,
          25.07359,
          25.07359,
          25.07359,
          25.093319,
          25.079453,
          25.07359,
          25.110559,
          25.193806,
          25.197316,
          25.192054,
          25.090661,
          25.186457,
          25.087751,
          25.111681,
          25.233787,
          25.201842000000003,
          25.191107,
          25.084336,
          25.186913,
          25.093596,
          25.158106,
          25.057252,
          25.07715,
          25.090455,
          25.19752,
          25.171461,
          25.176965,
          25.176965,
          25.176965,
          25.079385,
          25.073146,
          25.082518,
          25.027686,
          25.059555,
          25.206412,
          25.194761,
          25.196398,
          25.19702,
          25.082647,
          25.090953,
          25.17299,
          25.187093,
          25.067019,
          25.050227,
          25.050227,
          25.04866,
          25.04866,
          25.04866,
          25.046296,
          25.046296,
          25.051528,
          25.051528,
          25.060439,
          25.086376,
          25.081622,
          25.046296,
          25.04866,
          25.050227,
          25.046296,
          25.046296,
          25.051528,
          25.051528,
          25.060439,
          25.04866,
          25.04866,
          25.084418,
          25.186836,
          25.19045,
          25.087251,
          25.078859,
          25.086376,
          25.2065,
          25.088533,
          25.111902,
          25.226946,
          25.109267000000003,
          25.086575,
          25.086575,
          25.04866,
          25.046296,
          25.046296,
          25.051528,
          25.051528,
          25.195236,
          25.145181,
          25.116492,
          25.195098,
          25.193542,
          25.078967,
          25.197316,
          25.194935,
          25.04866,
          25.04866,
          25.046296,
          25.051528,
          25.051528,
          25.187093,
          25.04866,
          25.04866,
          25.198796,
          25.048095,
          25.04866,
          25.04866,
          25.069259,
          25.046296,
          25.046296,
          25.073185,
          25.187004,
          25.04866,
          25.107984,
          25.020437,
          25.064662,
          25.0967,
          25.0967,
          25.09938,
          25.077955,
          25.167982,
          25.087251,
          25.104115,
          25.067476,
          25.082647,
          25.08333,
          25.191719,
          25.083121,
          25.082397,
          25.074958,
          25.078613,
          25.090136,
          25.044961,
          25.197316,
          25.197316,
          25.068933,
          25.115211,
          25.201204,
          25.187683,
          25.202965,
          25.081243,
          25.078367,
          25.022618,
          25.045501,
          25.087751,
          25.086886,
          25.209767000000003,
          25.20863,
          25.058746,
          25.185311,
          25.190044,
          25.185772,
          25.095723,
          25.183515,
          25.088903,
          25.197316,
          25.078491,
          25.109367,
          25.090953,
          25.049301,
          25.067019,
          25.086726,
          25.080327,
          25.198316,
          25.193542,
          25.187622,
          25.132519,
          25.079501,
          25.06873,
          25.109367,
          25.090418,
          25.088533,
          25.198316,
          25.198796,
          25.07715,
          25.191719,
          25.226577,
          25.226577,
          25.226577,
          25.226577,
          25.226577,
          25.198316,
          25.189236,
          25.190874,
          25.090953,
          25.069327,
          25.06727,
          25.088533,
          25.184351,
          25.0967,
          25.195236,
          25.208511,
          25.090953,
          25.020894,
          25.09072,
          25.07001,
          25.075974,
          25.074307,
          25.191719,
          25.046706,
          25.201718,
          25.071448,
          25.209767000000003,
          25.198796,
          25.073851,
          25.226577,
          25.08058,
          25.111805,
          25.049772,
          25.180861,
          25.209806,
          25.115747,
          25.197316,
          25.099422,
          25.099422,
          25.19331,
          25.087251,
          25.087251,
          25.075454,
          25.116329,
          25.099744,
          25.105959,
          25.111822,
          25.093562,
          25.218977,
          25.187093,
          25.187093,
          25.06705,
          25.195236,
          25.195236,
          25.200879,
          25.200879,
          25.109367,
          25.063302,
          25.194282,
          25.086726,
          25.08058,
          25.0967,
          25.071504,
          25.080787,
          25.193641,
          25.193641,
          25.072573,
          25.075974,
          25.051384,
          25.041304,
          25.045775,
          25.18195,
          25.005442,
          25.191107,
          25.19049,
          25.012842000000003,
          25.145181,
          25.116077,
          25.114513,
          25.00292,
          25.008885,
          25.099422,
          25.171461,
          25.112604,
          25.113366,
          25.024387,
          25.094635,
          25.191527,
          25.089515,
          25.079537,
          25.07715,
          25.068151,
          25.077424,
          25.202977,
          25.090418,
          25.076576,
          25.180869,
          25.04866,
          25.04866,
          25.082217,
          25.19331,
          25.04866,
          25.04866,
          25.04866,
          25.04866,
          25.04866,
          25.04866,
          25.04866,
          25.081421,
          25.086575,
          25.145181,
          25.194935,
          25.113208,
          25.100921,
          25.04866,
          25.04866,
          25.087251,
          25.04866,
          25.19702,
          25.04866,
          25.04866,
          25.110967,
          25.093469,
          25.108984,
          25.04866,
          25.195236,
          25.194186,
          25.079895,
          25.194186,
          25.200879,
          25.071246,
          25.195236,
          25.09938,
          25.114013,
          25.198796,
          25.115834,
          25.19003,
          25.01936,
          25.01936,
          25.073778,
          25.086376,
          25.071504,
          25.075624,
          25.211032,
          25.194328,
          25.194328,
          25.086726,
          25.185823000000003,
          25.197198,
          25.0476,
          25.187093,
          25.110345,
          25.081251,
          25.074167000000003,
          25.110632,
          25.191753,
          25.194761,
          25.080787,
          25.084336,
          25.077982,
          25.072375,
          25.072569,
          25.072569,
          25.086376,
          25.082518,
          25.177819,
          25.189020000000003,
          25.189020000000003,
          25.073156,
          25.082397,
          25.04866,
          25.04866,
          25.04866,
          25.082004,
          25.082397,
          25.202977,
          25.201204,
          25.068292,
          25.071718,
          25.074958,
          25.123736,
          25.091001,
          25.071448,
          25.010066,
          25.010572,
          25.010572,
          25.077948000000003,
          25.085305,
          25.183133,
          25.079247,
          25.240419,
          25.240419,
          25.240419,
          25.07715,
          25.186836,
          25.181311,
          25.191772,
          25.081955,
          25.191719,
          25.191719,
          25.109306,
          25.022618,
          25.056225,
          25.064808,
          25.086376,
          25.081243,
          25.072569,
          25.189124,
          25.086726,
          25.067137,
          25.073851,
          25.197316,
          25.197316,
          25.075454,
          25.078148,
          25.047032,
          25.086726,
          25.197059,
          25.197316,
          25.0902,
          25.074167000000003,
          25.044286,
          25.08333,
          25.078967,
          25.186039,
          25.099744,
          25.078967,
          25.113366,
          25.125436,
          25.194282,
          25.0781,
          25.207533,
          25.082397,
          25.194282,
          25.027747,
          25.078148,
          25.078148,
          25.087042,
          25.19331,
          25.19331,
          25.071365,
          25.0967,
          25.078262,
          25.081241,
          25.089463,
          25.030322,
          25.189282,
          25.180869,
          25.0902,
          25.07662,
          25.194935,
          25.211032,
          25.198316,
          25.09516,
          25.109267000000003,
          25.075284,
          25.197316,
          25.19331,
          25.077009,
          25.203553,
          25.198796,
          25.067539,
          25.074521,
          25.091259,
          25.046706,
          25.086726,
          25.08377,
          25.207208,
          25.090418,
          25.201718,
          25.075284,
          25.197262,
          25.177819,
          25.177819,
          25.067539,
          25.062191,
          25.100994,
          25.07887,
          25.076319,
          25.115696,
          25.088431,
          25.089393,
          25.10864,
          25.074167000000003,
          25.089833,
          25.20997,
          25.071897,
          25.08022,
          25.186038,
          25.186038,
          25.090418,
          25.193641,
          25.093469,
          25.07359,
          25.185337,
          25.193359,
          25.150828,
          25.013504,
          25.0967,
          25.099793,
          25.099793,
          25.07851,
          25.20997,
          25.112237,
          25.196593,
          25.089393,
          25.086376,
          25.088533,
          25.190265,
          25.08333,
          25.068933,
          25.089393,
          25.030322,
          25.201842000000003,
          25.025999,
          25.186038,
          25.186038,
          25.183133,
          25.0967,
          25.194898,
          25.203035,
          25.195236,
          25.024108,
          25.024108,
          25.024108,
          25.183515,
          25.013504,
          25.013504,
          25.071077,
          25.183515,
          25.183515,
          25.183515,
          25.18813,
          25.183515,
          25.18813,
          25.183515,
          25.183515,
          25.183515,
          25.183515,
          25.183515,
          25.183515,
          25.183515,
          25.08726,
          25.08726,
          25.185823000000003,
          25.088533,
          25.052742,
          25.047618,
          25.072696,
          25.09938,
          25.07868,
          25.033564,
          25.082485,
          25.092881,
          25.175689,
          25.198796,
          25.066988,
          25.19752,
          25.07868,
          25.194761,
          25.12913,
          25.0476,
          25.181304,
          25.078241,
          25.050516,
          25.186913,
          25.201718,
          25.094173,
          25.033519,
          25.074958,
          25.195237,
          25.094276,
          25.195483,
          25.080787,
          25.048067,
          25.043586,
          25.191189,
          25.005753,
          25.004936,
          25.075364,
          25.069288,
          25.076309,
          25.080327,
          25.11594,
          25.218977,
          25.081955,
          25.233787,
          25.080162,
          25.108627,
          25.077327,
          25.051513,
          25.137198,
          25.09003,
          25.112193,
          25.112193,
          25.240419,
          25.047662,
          25.069516,
          25.191527,
          25.081955,
          25.109367,
          25.082591,
          25.088431,
          25.100474,
          25.023846,
          25.116492,
          25.047618,
          25.150828,
          25.211032,
          25.108984,
          25.107353,
          25.125472,
          25.201718,
          25.073851,
          25.196398,
          25.086376,
          25.09003,
          25.071356,
          25.227337,
          25.227337,
          25.201718,
          25.179868,
          25.19752,
          25.107984,
          25.107984,
          25.177373,
          25.195039,
          25.189282,
          25.183133,
          25.183133,
          25.136864000000003,
          25.240419,
          25.01802,
          25.187129,
          25.197316,
          25.197316,
          25.181311,
          25.085322,
          25.18984,
          25.08377,
          25.051528,
          25.051528,
          25.109367,
          25.194935,
          25.025262,
          25.158305,
          25.19084,
          25.137198,
          25.183515,
          25.085305,
          25.190578,
          25.089833,
          25.07359,
          25.046403,
          25.046403,
          25.064767,
          25.046403,
          25.07359,
          25.046403,
          25.197316,
          25.071448,
          25.077955,
          25.046296,
          25.046296,
          25.069288,
          25.094635,
          25.076576,
          25.04866,
          25.04866,
          25.206412,
          25.049763,
          25.051528,
          25.051528,
          25.240419,
          25.207533,
          25.082397,
          25.137409,
          25.137409,
          25.137409,
          25.050227,
          25.137409,
          25.179868,
          25.073151,
          25.09938,
          25.074167000000003,
          25.090018,
          25.08333,
          25.082217,
          25.100921,
          25.137673,
          25.076319,
          25.071436,
          25.09003,
          25.206125,
          25.195236,
          25.190137,
          25.137409,
          25.201718,
          25.069265,
          25.182869,
          25.111229,
          25.094684,
          25.071436,
          25.078148,
          25.078148,
          25.078148,
          25.077213,
          25.075974,
          25.081241,
          25.209806,
          25.089833,
          25.025262,
          25.207533,
          25.176686,
          25.09938,
          25.171461,
          25.100553,
          25.081243,
          25.072573,
          25.195503,
          25.203553,
          25.079569,
          25.088903,
          25.080542,
          25.072569,
          25.072569,
          25.09938,
          25.208262,
          25.071504,
          25.106668,
          25.072954,
          24.865992,
          25.07359,
          25.191107,
          25.081243,
          25.10433,
          25.176892,
          25.166145,
          25.2065,
          25.073858,
          25.07913
         ],
         "legendgroup": "",
         "lon": [
          55.138932,
          55.151201,
          55.137728,
          55.341761,
          55.139764,
          55.139764,
          55.139764,
          55.149275,
          55.282665,
          55.271342,
          55.137997,
          55.137997,
          55.151574,
          55.152216,
          55.151405,
          55.151405,
          55.270758,
          55.271023,
          55.263892000000006,
          55.132386,
          55.13904599999999,
          55.274196,
          55.145075,
          55.141679,
          55.271884,
          55.270677,
          55.277388,
          55.294217,
          55.151201,
          55.296535,
          55.341761,
          55.241403000000005,
          55.241403000000005,
          55.126352,
          55.137997,
          55.343457,
          55.345142,
          55.133386,
          55.278378,
          55.13750600000001,
          55.172015,
          55.264588,
          55.15156,
          55.34511,
          55.2763,
          55.147796,
          55.151574,
          55.14736,
          55.147768000000006,
          55.343457,
          55.128089,
          55.206417,
          55.25658000000001,
          55.25658000000001,
          55.25658000000001,
          55.247980000000005,
          55.188957,
          55.288017,
          55.133230000000005,
          55.14736,
          55.128089,
          55.26418,
          55.249375,
          55.247980000000005,
          55.249375,
          55.252762,
          55.278772,
          55.280919,
          55.142382,
          55.282665,
          55.141064,
          55.277512,
          55.269631,
          55.152216,
          55.203684,
          55.132386,
          55.274196,
          55.146759,
          55.145075,
          55.262161,
          55.136283,
          55.152381000000005,
          55.178291,
          55.126352,
          55.274196,
          55.278947,
          55.152216,
          55.274196,
          55.151405,
          55.14512,
          55.28205,
          55.313162,
          55.280912,
          55.15786899999999,
          55.269463,
          55.136798,
          55.136449,
          55.205381,
          55.151405,
          55.141977,
          55.278772,
          55.143347,
          55.262688,
          55.262688,
          55.271002,
          55.271002,
          55.27281800000001,
          55.273783,
          55.291922,
          55.16954200000001,
          55.278912,
          55.248755,
          55.248755,
          55.223079000000006,
          55.264588,
          55.282665,
          55.277061,
          55.138103,
          55.247980000000005,
          55.262161,
          55.137516000000005,
          55.207423,
          55.132386,
          55.246977,
          55.111349,
          55.20458000000001,
          55.398644,
          55.276951,
          55.140317,
          55.282429,
          55.212972,
          55.264588,
          55.136982,
          55.170481,
          55.129829,
          55.143347,
          55.136283,
          55.271342,
          55.27886899999999,
          55.14530799999999,
          55.151574,
          55.151201,
          55.269439,
          55.269439,
          55.188957,
          55.203071,
          55.272402,
          55.174751,
          55.282056,
          55.200525,
          55.284162,
          55.137997,
          55.139751,
          55.247341000000006,
          55.245773,
          55.212988,
          55.149275,
          55.145574,
          55.15864200000001,
          55.141977,
          55.130280000000006,
          55.128579,
          55.25658000000001,
          55.138814,
          55.14530799999999,
          55.132798,
          55.271449,
          55.269439,
          55.271342,
          55.277662,
          55.276951,
          55.270028,
          55.278772,
          55.133627,
          55.136449,
          55.137511,
          55.274196,
          55.312595,
          55.141699,
          55.132694,
          55.122612,
          55.140317,
          55.28915799999999,
          55.276331000000006,
          55.148208,
          55.216245,
          55.274545,
          55.278772,
          55.278772,
          55.141933,
          55.301002,
          55.140434,
          55.170014,
          55.247980000000005,
          55.274261,
          55.14874,
          55.136701,
          55.14736,
          55.136286,
          55.24355,
          55.13821899999999,
          55.281666,
          55.111349,
          55.171838,
          55.153066,
          55.14925,
          55.138542,
          55.246714,
          55.170481,
          55.274609,
          55.253831000000005,
          55.146294,
          55.132694,
          55.278912,
          55.149224,
          55.273056,
          55.280473,
          55.26942,
          55.128579,
          55.145574,
          55.311623,
          55.181316,
          55.146759,
          55.308533,
          55.112014,
          55.12905799999999,
          55.124993,
          55.209442,
          55.270983,
          55.149224,
          55.26942,
          55.146294,
          55.339287,
          55.339287,
          55.139576,
          55.133230000000005,
          55.277919,
          55.145574,
          55.271356,
          55.2861,
          55.273284,
          55.145574,
          55.276331000000006,
          55.142615,
          55.132888,
          55.124993,
          55.345142,
          55.137575,
          55.137591,
          55.34911,
          55.126527,
          55.126527,
          55.126527,
          55.126527,
          55.126527,
          55.126527,
          55.271223,
          55.28314399999999,
          55.270189,
          55.365799,
          55.345967,
          55.243982,
          55.243982,
          55.243982,
          55.349638,
          55.14034300000001,
          55.139276,
          55.141746,
          55.14145500000001,
          55.141746,
          55.141275,
          55.14145500000001,
          55.345908,
          55.34419499999999,
          55.24734,
          55.24734,
          55.131088,
          55.343101,
          55.269318000000005,
          55.269318000000005,
          55.34911,
          55.25277,
          55.25277,
          55.25277,
          55.25277,
          55.25277,
          55.189006000000006,
          55.264968,
          55.264968,
          55.138635,
          55.138635,
          55.14668100000001,
          55.139276,
          55.271797,
          55.280662,
          55.398644,
          55.33868,
          55.20955,
          55.25277,
          55.283576,
          55.132888,
          55.109525,
          55.313162,
          55.146759,
          55.246280000000006,
          55.171838,
          55.12067,
          55.271797,
          55.266317,
          55.275682,
          55.137591,
          55.281004,
          55.135687,
          55.262829,
          55.271884,
          55.134763,
          55.136286,
          55.14736,
          55.109525,
          55.280662,
          55.247980000000005,
          55.16360400000001,
          55.141977,
          55.25277,
          55.139742000000005,
          55.132888,
          55.241586,
          55.270983,
          55.153066,
          55.136122,
          55.271342,
          55.133324,
          55.27875600000001,
          55.199369,
          55.25277,
          55.271449,
          55.27875600000001,
          55.147768000000006,
          55.275166000000006,
          55.143825,
          55.280662,
          55.277662,
          55.276331000000006,
          55.247341000000006,
          55.25277,
          55.14847,
          55.138863,
          55.128089,
          55.25912,
          55.293818,
          55.248755,
          55.129145,
          55.2758,
          55.145574,
          55.111349,
          55.294217,
          55.244923,
          55.2758,
          55.294217,
          55.294217,
          55.261734,
          55.140778000000005,
          55.274196,
          55.137997,
          55.152727,
          55.277978,
          55.134135,
          55.128089,
          55.294028,
          55.275199,
          55.27389599999999,
          55.277978,
          55.274196,
          55.139082,
          55.28019499999999,
          55.283132,
          55.14145500000001,
          55.269318000000005,
          55.138103,
          55.142624,
          55.269309,
          55.28205,
          55.344345,
          55.284124,
          55.153066,
          55.142615,
          55.145205,
          55.151574,
          55.244923,
          55.248755,
          55.26250699999999,
          55.25277,
          55.25277,
          55.140521,
          55.280662,
          55.281516,
          55.281116,
          55.145552,
          55.245729,
          55.147768000000006,
          55.14935,
          55.269631,
          55.2758,
          55.2758,
          55.2758,
          55.247980000000005,
          55.151405,
          55.14165799999999,
          55.13609,
          55.28915799999999,
          55.174064,
          55.244923,
          55.293914,
          55.138246,
          55.136449,
          55.294912,
          55.14066,
          55.148385,
          55.177657,
          55.14866899999999,
          55.243982,
          55.308533,
          55.288017,
          55.148401,
          55.289787,
          55.268641,
          55.144753,
          55.168784,
          55.247980000000005,
          55.147768000000006,
          55.26624,
          55.283223,
          55.17514499999999,
          55.148401,
          55.288017,
          55.25277,
          55.138103,
          55.280919,
          55.136701,
          55.13586,
          55.280033,
          55.25277,
          55.133324,
          55.271002,
          55.243982,
          55.280662,
          55.17331,
          55.280662,
          55.271002,
          55.149275,
          55.142382,
          55.247980000000005,
          55.280175,
          55.150625,
          55.292277,
          55.270677,
          55.137511,
          55.121042,
          55.168887,
          55.147768000000006,
          55.141387,
          55.173227,
          55.149287,
          55.139815000000006,
          55.271002,
          55.247980000000005,
          55.168657,
          55.151574,
          55.277978,
          55.142546,
          55.277978,
          55.202774,
          55.132386,
          55.361808,
          55.274878,
          55.151574,
          55.128089,
          55.139576,
          55.142415,
          55.198896,
          55.145574,
          55.142441000000005,
          55.14874,
          55.28205,
          55.149224,
          55.170481,
          55.14736,
          55.28205,
          55.148929,
          55.28246800000001,
          55.146035,
          55.14668100000001,
          55.172975,
          55.34511,
          55.138863,
          55.136122,
          55.270983,
          55.280662,
          55.17331,
          55.31296700000001,
          55.254015,
          55.281666,
          55.141711,
          55.136283,
          55.171838,
          55.143556,
          55.27216899999999,
          55.250357,
          55.128089,
          55.146775,
          55.146775,
          55.25277,
          55.137575,
          55.142441000000005,
          55.139147,
          55.140434,
          55.244923,
          55.308533,
          55.111349,
          55.27389599999999,
          55.243608,
          55.136283,
          55.277978,
          55.133627,
          55.273333,
          55.12171800000001,
          55.14935,
          55.285118,
          55.149224,
          55.138246,
          55.128089,
          55.271797,
          55.267193000000006,
          55.142183,
          55.133627,
          55.136286,
          55.246714,
          55.209391,
          55.142039,
          55.147768000000006,
          55.203423,
          55.143412,
          55.206373,
          55.13154,
          55.143557,
          55.149287,
          55.274545,
          55.206373,
          55.206373,
          55.274196,
          55.142183,
          55.147796,
          55.138654,
          55.148929,
          55.13609,
          55.152689,
          55.280912,
          55.147796,
          55.25277,
          55.139276,
          55.25277,
          55.271797,
          55.134135,
          55.135003000000005,
          55.135003000000005,
          55.142441000000005,
          55.146759,
          55.27389599999999,
          55.14925,
          55.138630000000006,
          55.138630000000006,
          55.25277,
          55.34555400000001,
          55.265094,
          55.17331,
          55.170481,
          55.207168,
          55.166634,
          55.441623,
          55.441623,
          55.441623,
          55.282343,
          55.14736,
          55.203423,
          55.143347,
          55.25277,
          55.271797,
          55.149287,
          55.144174,
          55.15370600000001,
          55.201813,
          55.172519,
          55.13609,
          55.141275,
          55.14684499999999,
          55.280919,
          55.206373,
          55.345142,
          55.14736,
          55.207733,
          55.144174,
          55.13786999999999,
          55.14736,
          55.206373,
          55.206373,
          55.206373,
          55.207733,
          55.207733,
          55.212972,
          55.212972,
          55.212972,
          55.212972,
          55.200783,
          55.200783,
          55.200783,
          55.141275,
          55.25277,
          55.135515000000005,
          55.147796,
          55.34505600000001,
          55.147521,
          55.150381,
          55.148208,
          55.175161,
          55.200783,
          55.27389599999999,
          55.170078,
          55.271797,
          55.135003000000005,
          55.14668100000001,
          55.20955,
          55.200783,
          55.173061,
          55.136879,
          55.244923,
          55.139802,
          55.109525,
          55.203684,
          55.169499,
          55.129829,
          55.212972,
          55.2121,
          55.247980000000005,
          55.20955,
          55.20955,
          55.14480699999999,
          55.148529,
          55.277512,
          55.243343,
          55.137581,
          55.136122,
          55.35916700000001,
          55.14668100000001,
          55.14668100000001,
          55.144174,
          55.271797,
          55.271797,
          55.20955,
          55.274427,
          55.247353,
          55.159380000000006,
          55.133386,
          55.148688,
          55.26991,
          55.20598,
          55.247980000000005,
          55.146840000000005,
          55.248755,
          55.136449,
          55.144174,
          55.198917,
          55.271023,
          55.136057,
          55.151574,
          55.276951,
          55.13609,
          55.136283,
          55.277978,
          55.271959,
          55.270168000000005,
          55.112014,
          55.146464,
          55.14736,
          55.289787,
          55.206373,
          55.311826,
          55.147768000000006,
          55.16421999999999,
          55.135714,
          55.270677,
          55.247959,
          55.260502,
          55.143825,
          55.146464,
          55.134763,
          55.206373,
          55.14847,
          55.25277,
          55.25277,
          55.149141,
          55.200053,
          55.148449,
          55.171838,
          55.138949,
          55.297034,
          55.344345,
          55.280912,
          55.142415,
          55.177657,
          55.149869,
          55.281314,
          55.142382,
          55.260565,
          55.28205,
          55.276331000000006,
          55.276331000000006,
          55.308533,
          55.170272,
          55.171022,
          55.126527,
          55.308533,
          55.139802,
          55.297034,
          55.126527,
          55.31296700000001,
          55.365799,
          55.283111,
          55.171838,
          55.271342,
          55.148529,
          55.171237,
          55.277512,
          55.280919,
          55.309922,
          55.136449,
          55.271015000000006,
          55.290055,
          55.245835,
          55.15864200000001,
          55.276331000000006,
          55.279641000000005,
          55.27216899999999,
          55.154686,
          55.280919,
          55.292343,
          55.344345,
          55.178082,
          55.245835,
          55.244923,
          55.275202,
          55.14668100000001,
          55.341761,
          55.343628,
          55.343628,
          55.341761,
          55.126352,
          55.246463,
          55.246463,
          55.138246,
          55.441623,
          55.207712,
          55.204243000000005,
          55.141025,
          55.218272,
          55.2121,
          55.263127,
          55.206417,
          55.277512,
          55.271797,
          55.276396,
          55.280662,
          55.143825,
          55.138635,
          55.12067,
          55.16822,
          55.148929,
          55.367945,
          55.126527,
          55.135003000000005,
          55.151252,
          55.269309,
          55.140209,
          55.147768000000006,
          55.212062,
          55.145574,
          55.273196,
          55.273196,
          55.273196,
          55.134233,
          55.276951,
          55.270983,
          55.177657,
          55.198917,
          55.140241,
          55.188957,
          55.150381,
          55.14874,
          55.281004,
          55.281487,
          55.27305500000001,
          55.148688,
          55.169499,
          55.14684499999999,
          55.270677,
          55.148162,
          55.13684,
          55.145574,
          55.26884,
          55.153066,
          55.138949,
          55.27839399999999,
          55.13193100000001,
          55.26667,
          55.14736,
          55.295714,
          55.271015000000006,
          55.235827,
          55.271797,
          55.280473,
          55.148385,
          55.135006,
          55.145205,
          55.269696,
          55.247980000000005,
          55.294217,
          55.148162,
          55.151503000000005,
          55.345967,
          55.27389599999999,
          55.138635,
          55.150625,
          55.291467,
          55.171259,
          55.271342,
          55.365680000000005,
          55.2758,
          55.28019499999999,
          55.28019499999999,
          55.28019499999999,
          55.28019499999999,
          55.28019499999999,
          55.134432,
          55.34911,
          55.134126,
          55.137779,
          55.200783,
          55.20458000000001,
          55.20458000000001,
          55.207733,
          55.207733,
          55.283141,
          55.12067,
          55.20955,
          55.20955,
          55.20955,
          55.144174,
          55.244923,
          55.209391,
          55.246714,
          55.158801,
          55.270758,
          55.273056,
          55.137997,
          55.200762,
          55.145574,
          55.242224,
          55.344741000000006,
          55.135003000000005,
          55.135003000000005,
          55.16954200000001,
          55.270677,
          55.291718,
          55.149287,
          55.144318000000005,
          55.138246,
          55.174096,
          55.168784,
          55.16822,
          55.277978,
          55.247980000000005,
          55.20598,
          55.270677,
          55.136798,
          55.132694,
          55.128758,
          55.282429,
          55.2727,
          55.280919,
          55.147768000000006,
          55.247980000000005,
          55.141261,
          55.2758,
          55.2758,
          55.2758,
          55.277061,
          55.276331000000006,
          55.247980000000005,
          55.20598,
          55.136939,
          55.146948,
          55.146759,
          55.145574,
          55.28205,
          55.138103,
          55.367945,
          55.151405,
          55.126352,
          55.126352,
          55.126352,
          55.168887,
          55.136014,
          55.126352,
          55.137575,
          55.284974,
          55.274196,
          55.27969,
          55.171744,
          55.277512,
          55.147627,
          55.142546,
          55.294217,
          55.280473,
          55.26991,
          55.14925,
          55.277919,
          55.166634,
          55.295016,
          55.214303,
          55.135515000000005,
          55.174096,
          55.270168000000005,
          55.2758,
          55.311826,
          55.311826,
          55.311826,
          55.141933,
          55.13154,
          55.146735,
          55.15463199999999,
          55.201659,
          55.275199,
          55.282343,
          55.271002,
          55.271023,
          55.135003000000005,
          55.16954200000001,
          55.305441,
          55.278912,
          55.139829000000006,
          55.21335,
          55.21335,
          55.20955,
          55.20955,
          55.20955,
          55.200783,
          55.200783,
          55.212972,
          55.212972,
          55.202273,
          55.14736,
          55.141977,
          55.200783,
          55.20955,
          55.21335,
          55.200783,
          55.200783,
          55.212972,
          55.212972,
          55.202273,
          55.20955,
          55.20955,
          55.144879,
          55.276951,
          55.272402,
          55.145574,
          55.15794,
          55.14736,
          55.34505600000001,
          55.171838,
          55.138103,
          55.343628,
          55.145799,
          55.147768000000006,
          55.147768000000006,
          55.20955,
          55.200783,
          55.200783,
          55.212972,
          55.212972,
          55.268641,
          55.288017,
          55.141387,
          55.277077,
          55.277061,
          55.142559,
          55.274196,
          55.282665,
          55.20955,
          55.20955,
          55.200783,
          55.212972,
          55.212972,
          55.278912,
          55.20955,
          55.20955,
          55.271342,
          55.206373,
          55.20955,
          55.20955,
          55.12856899999999,
          55.200783,
          55.200783,
          55.138325,
          55.283015,
          55.20955,
          55.244923,
          55.244958,
          55.214103,
          55.139276,
          55.139276,
          55.141275,
          55.159380000000006,
          55.398989,
          55.145574,
          55.14847,
          55.138353,
          55.135003000000005,
          55.144753,
          55.270677,
          55.141064,
          55.14066,
          55.138542,
          55.138122,
          55.150381,
          55.243608,
          55.274196,
          55.274196,
          55.128814,
          55.362565,
          55.270189,
          55.2699,
          55.260897,
          55.14512,
          55.14041,
          55.14935,
          55.246843000000005,
          55.147627,
          55.173227,
          55.345908,
          55.345967,
          55.209389,
          55.285778,
          55.277388,
          55.2861,
          55.169499,
          55.26667,
          55.171065000000006,
          55.274196,
          55.140297,
          55.247980000000005,
          55.16954200000001,
          55.198896,
          55.139829000000006,
          55.145205,
          55.13821899999999,
          55.270758,
          55.277061,
          55.278947,
          55.151574,
          55.151503000000005,
          55.128758,
          55.247980000000005,
          55.14874,
          55.171838,
          55.270758,
          55.271342,
          55.135515000000005,
          55.270677,
          55.289442,
          55.289442,
          55.289442,
          55.289442,
          55.289442,
          55.270758,
          55.276133,
          55.281666,
          55.16954200000001,
          55.245051,
          55.211204,
          55.171838,
          55.275543000000006,
          55.139276,
          55.268641,
          55.342824,
          55.16954200000001,
          55.255571,
          55.170186,
          55.245729,
          55.135687,
          55.132694,
          55.270677,
          55.246714,
          55.270983,
          55.131088,
          55.345908,
          55.271342,
          55.144174,
          55.289442,
          55.139147,
          55.24734,
          55.204243000000005,
          55.279295,
          55.278974,
          55.142615,
          55.274196,
          55.31296700000001,
          55.31296700000001,
          55.280919,
          55.145574,
          55.145574,
          55.133788,
          55.138654,
          55.14145500000001,
          55.148293,
          55.140521,
          55.167857,
          55.367945,
          55.278912,
          55.278912,
          55.245559,
          55.268641,
          55.268641,
          55.276331000000006,
          55.276331000000006,
          55.247980000000005,
          55.137728,
          55.271884,
          55.145205,
          55.139147,
          55.139276,
          55.128579,
          55.13738000000001,
          55.284662,
          55.284662,
          55.131009,
          55.135687,
          55.2121,
          55.205119,
          55.25028199999999,
          55.277238,
          55.293914,
          55.26991,
          55.27095500000001,
          55.253595,
          55.288017,
          55.141068,
          55.136122,
          55.256553,
          55.289975,
          55.31296700000001,
          55.2758,
          55.143347,
          55.13609,
          55.183351,
          55.171817,
          55.274545,
          55.171022,
          55.12154,
          55.135515000000005,
          55.129647,
          55.12324,
          55.280662,
          55.14874,
          55.13684,
          55.271015000000006,
          55.20955,
          55.20955,
          55.142624,
          55.280919,
          55.20955,
          55.20955,
          55.20955,
          55.20955,
          55.20955,
          55.20955,
          55.20955,
          55.141711,
          55.147768000000006,
          55.288017,
          55.282665,
          55.138932,
          55.313162,
          55.20955,
          55.20955,
          55.145574,
          55.20955,
          55.271023,
          55.20955,
          55.20955,
          55.178082,
          55.173061,
          55.177657,
          55.20955,
          55.268641,
          55.269439,
          55.134126,
          55.269439,
          55.276331000000006,
          55.140806000000005,
          55.268641,
          55.141275,
          55.247629,
          55.271342,
          55.139716,
          55.265426,
          55.267193000000006,
          55.267193000000006,
          55.132888,
          55.14736,
          55.128579,
          55.132511,
          55.28205,
          55.269308,
          55.269308,
          55.145205,
          55.291922,
          55.274378000000006,
          55.248748,
          55.278912,
          55.142538,
          55.138519,
          55.137779,
          55.145767000000006,
          55.27281800000001,
          55.282343,
          55.13738000000001,
          55.14925,
          55.123037,
          55.136286,
          55.126527,
          55.126527,
          55.14736,
          55.146735,
          55.308533,
          55.282216000000005,
          55.282216000000005,
          55.132798,
          55.14066,
          55.20955,
          55.20955,
          55.20955,
          55.142441000000005,
          55.14066,
          55.280662,
          55.270189,
          55.12918199999999,
          55.135145,
          55.138542,
          55.153599,
          55.171427,
          55.131088,
          55.290055,
          55.289786,
          55.289786,
          55.159461,
          55.149287,
          55.25658000000001,
          55.119736,
          55.25277,
          55.25277,
          55.25277,
          55.135515000000005,
          55.276951,
          55.26250699999999,
          55.267035,
          55.138863,
          55.270677,
          55.270677,
          55.14773,
          55.14935,
          55.20458000000001,
          55.24055,
          55.14736,
          55.14512,
          55.126527,
          55.26418,
          55.145205,
          55.139751,
          55.13691,
          55.274196,
          55.274196,
          55.133788,
          55.148277,
          55.206605,
          55.145205,
          55.27451800000001,
          55.274196,
          55.17514499999999,
          55.137779,
          55.244499,
          55.144753,
          55.142559,
          55.262255,
          55.14145500000001,
          55.142559,
          55.13609,
          55.402921,
          55.27886899999999,
          55.151898,
          55.277978,
          55.14066,
          55.271884,
          55.154654,
          55.148277,
          55.148277,
          55.148385,
          55.280919,
          55.280919,
          55.124993,
          55.139276,
          55.14866899999999,
          55.137946,
          55.148929,
          55.149141,
          55.28915799999999,
          55.271015000000006,
          55.17514499999999,
          55.135006,
          55.282665,
          55.28205,
          55.270758,
          55.171259,
          55.145799,
          55.134432,
          55.274196,
          55.280919,
          55.146035,
          55.34555400000001,
          55.271342,
          55.131058,
          55.143825,
          55.168657,
          55.246714,
          55.145205,
          55.145075,
          55.344612,
          55.14874,
          55.270983,
          55.134432,
          55.270028,
          55.308533,
          55.308533,
          55.131058,
          55.23268100000001,
          55.178291,
          55.148529,
          55.133627,
          55.249159,
          55.146759,
          55.147796,
          55.146673,
          55.137779,
          55.150625,
          55.34522,
          55.131535,
          55.139178,
          55.29175,
          55.29175,
          55.14874,
          55.284662,
          55.173061,
          55.126352,
          55.2763,
          55.264968,
          55.295714,
          55.254337,
          55.139276,
          55.141746,
          55.141746,
          55.136283,
          55.34522,
          55.138630000000006,
          55.269631,
          55.147796,
          55.14736,
          55.171838,
          55.281546,
          55.144753,
          55.128814,
          55.147796,
          55.149141,
          55.280473,
          55.13875,
          55.29175,
          55.29175,
          55.25658000000001,
          55.139276,
          55.359464,
          55.280662,
          55.268641,
          55.24290799999999,
          55.24290799999999,
          55.24290799999999,
          55.26667,
          55.254337,
          55.254337,
          55.125561,
          55.26667,
          55.26667,
          55.26667,
          55.282766,
          55.26667,
          55.282766,
          55.26667,
          55.26667,
          55.26667,
          55.26667,
          55.26667,
          55.26667,
          55.26667,
          55.145517000000005,
          55.145517000000005,
          55.291922,
          55.171838,
          55.20799399999999,
          55.211000000000006,
          55.13586,
          55.141275,
          55.15786899999999,
          55.146640000000005,
          55.139394,
          55.173619,
          55.284458,
          55.271342,
          55.141291,
          55.270168000000005,
          55.15786899999999,
          55.282343,
          55.152902000000005,
          55.248748,
          55.252577,
          55.137487,
          55.19973,
          55.277919,
          55.270983,
          55.169437,
          55.17307099999999,
          55.138542,
          55.271449,
          55.170207,
          55.271797,
          55.13738000000001,
          55.24704200000001,
          55.246784,
          55.283374,
          55.295312,
          55.296535,
          55.14530799999999,
          55.139396,
          55.145389,
          55.13821899999999,
          55.140737,
          55.367945,
          55.138863,
          55.294217,
          55.13786999999999,
          55.178031,
          55.140317,
          55.207733,
          55.189006000000006,
          55.170014,
          55.138635,
          55.138635,
          55.25277,
          55.198611,
          55.127361,
          55.274545,
          55.138863,
          55.247980000000005,
          55.142183,
          55.146759,
          55.31365400000001,
          55.105457,
          55.141387,
          55.211000000000006,
          55.295714,
          55.28205,
          55.177657,
          55.148401,
          55.153066,
          55.270983,
          55.144174,
          55.271002,
          55.14736,
          55.170014,
          55.136879,
          55.441623,
          55.441623,
          55.270983,
          55.265446,
          55.270168000000005,
          55.244923,
          55.244923,
          55.272707,
          55.26942,
          55.28915799999999,
          55.25658000000001,
          55.25658000000001,
          55.188892,
          55.25277,
          55.252492,
          55.27839399999999,
          55.274196,
          55.274196,
          55.26250699999999,
          55.14480699999999,
          55.281004,
          55.145075,
          55.212972,
          55.212972,
          55.247980000000005,
          55.282665,
          55.13875,
          55.296535,
          55.27154399999999,
          55.189006000000006,
          55.26667,
          55.149287,
          55.265962,
          55.150625,
          55.126352,
          55.201813,
          55.201813,
          55.138814,
          55.201813,
          55.126352,
          55.201813,
          55.274196,
          55.131088,
          55.159380000000006,
          55.200783,
          55.200783,
          55.139396,
          55.171817,
          55.13684,
          55.20955,
          55.20955,
          55.275199,
          55.204233,
          55.212972,
          55.212972,
          55.25277,
          55.277978,
          55.14066,
          55.188957,
          55.188957,
          55.188957,
          55.21335,
          55.188957,
          55.265446,
          55.136982,
          55.141275,
          55.137779,
          55.17238199999999,
          55.144753,
          55.142624,
          55.313162,
          55.189435,
          55.133627,
          55.136065,
          55.170014,
          55.34360699999999,
          55.268641,
          55.264937,
          55.188957,
          55.270983,
          55.12856800000001,
          55.282704,
          55.136449,
          55.17069,
          55.136065,
          55.148277,
          55.148277,
          55.148277,
          55.136939,
          55.135687,
          55.137946,
          55.278974,
          55.150625,
          55.13875,
          55.277978,
          55.309922,
          55.141275,
          55.2758,
          55.141699,
          55.14512,
          55.131009,
          55.28566800000001,
          55.34555400000001,
          55.150723,
          55.171065000000006,
          55.14034300000001,
          55.126527,
          55.126527,
          55.141275,
          55.262829,
          55.128579,
          55.149275,
          55.128089,
          55.137958,
          55.126352,
          55.26991,
          55.14512,
          55.148769,
          55.310712,
          55.276684,
          55.34505600000001,
          55.22984399999999,
          55.154713
         ],
         "marker": {
          "color": [
           2700000,
           2850000,
           1150000,
           2850000,
           1729200,
           3119900,
           3119900,
           2100000,
           2690000,
           3550000,
           2094999,
           1049999,
           1849000,
           2089999,
           2349990,
           3499000,
           2700000,
           1490000,
           950000,
           1100000,
           1390000,
           3999900,
           3349000,
           2499000,
           2800000,
           1875000,
           1275000,
           1465777,
           1260000,
           1386795,
           4500000,
           750000,
           991000,
           3599999,
           2625000,
           1270000,
           1398000,
           1795000,
           1600000,
           1050000,
           1150000,
           1800000,
           1349999,
           1800000,
           2353146,
           2800000,
           1980000,
           2300000,
           2200000,
           1270000,
           2650000,
           1150000,
           2400000,
           1700000,
           1709847,
           1850000,
           2090000,
           1425000,
           1595000,
           975000,
           3400000,
           2050000,
           995000,
           1300000,
           1100000,
           750000,
           1999999,
           2990000,
           2400000,
           2600000,
           2000000,
           1800000,
           930000,
           3200000,
           714000,
           1075000,
           2299900,
           1200000,
           1525000,
           2700000,
           815000,
           860000,
           1200000,
           1300000,
           2100000,
           2100000,
           2100000,
           2100000,
           3499000,
           2100000,
           1845000,
           1800000,
           1155000,
           2095000,
           1900000,
           1800000,
           1800000,
           890000,
           3600000,
           1845000,
           1850000,
           3000000,
           2850000,
           3315000,
           1800000,
           2100000,
           1400000,
           2300000,
           2300000,
           1335000,
           2200000,
           1100000,
           700000,
           700000,
           3680000,
           2200000,
           1820000,
           655888,
           2300000,
           3200000,
           2175000,
           700000,
           850000,
           1066888,
           2500000,
           1502000,
           860000,
           1000000,
           850000,
           3400000,
           813000,
           3399000,
           1589950,
           1650000,
           1200000,
           1700000,
           810000,
           2350000,
           3000000,
           920000,
           2000000,
           1325000,
           2850000,
           1650000,
           3700000,
           670000,
           1100000,
           620000,
           2000000,
           662000,
           1992888,
           1990000,
           767000,
           1096888,
           749888,
           900000,
           1650000,
           1600000,
           1900000,
           1700000,
           1150000,
           1200000,
           1400000,
           875000,
           640000,
           1150000,
           1275000,
           3000000,
           2500000,
           1450000,
           949000,
           880000,
           1850000,
           2700000,
           2950000,
           3600000,
           3999900,
           2100000,
           1464888,
           1199999,
           3150000,
           1150000,
           925000,
           4500000,
           800000,
           625000,
           2650000,
           2400000,
           2050000,
           1450000,
           758500,
           1051938,
           1699999,
           1300000,
           1250000,
           1250000,
           2350000,
           1400000,
           2750000,
           683001,
           1690000,
           1450000,
           2606000,
           1375000,
           2600000,
           2400000,
           800000,
           629000,
           1690000,
           2100000,
           650000,
           1290000,
           1950000,
           1600000,
           685000,
           1399900,
           3400000,
           1389900,
           850000,
           1425000,
           825828,
           850000,
           3050000,
           808520,
           1760000,
           850000,
           1690000,
           617000,
           3850000,
           1355000,
           1375000,
           1599999,
           863400,
           641700,
           1250000,
           3200000,
           1700000,
           2050000,
           1441498,
           2299880,
           1789000,
           3450000,
           3094900,
           1890000,
           1500000,
           1800000,
           2800000,
           2800000,
           2399999,
           864000,
           1540000,
           1600000,
           2320000,
           2320000,
           2450000,
           2450000,
           2700000,
           2167888,
           1700000,
           1667888,
           1399888,
           1051888,
           1050888,
           1021888,
           1040000,
           1964888,
           1370888,
           1722888,
           1949888,
           4000000,
           1500000,
           1150000,
           2500000,
           1739999,
           1471888,
           1165000,
           1900000,
           3621888,
           1780888,
           1780888,
           2042888,
           1710000,
           1234000,
           1737000,
           1459000,
           1868000,
           2008000,
           1592892,
           1650000,
           649888,
           876888,
           1600000,
           1750000,
           1950000,
           1550000,
           850000,
           1500000,
           657903,
           1367000,
           1500888,
           1900000,
           1750000,
           4500000,
           3000000,
           1750000,
           1375000,
           3100000,
           1690000,
           799900,
           1700000,
           1699000,
           1400000,
           2450000,
           2298999,
           4681888,
           2500000,
           1800000,
           1890000,
           1750000,
           1100000,
           900000,
           1295000,
           1640000,
           1200000,
           1150000,
           1670000,
           1550000,
           1650000,
           2650000,
           1930000,
           3900000,
           1500000,
           1650000,
           1150000,
           1890000,
           3000000,
           4000000,
           1625000,
           2243000,
           800000,
           2650000,
           1239000,
           4100000,
           2600888,
           1200000,
           3150000,
           1100000,
           2499000,
           1061888,
           930888,
           2040888,
           1100000,
           1261142,
           1170000,
           2499000,
           1642777,
           1450000,
           1276686,
           1550000,
           2046777,
           3700000,
           2800000,
           2999900,
           2650000,
           3500000,
           1300000,
           2950000,
           1780000,
           675000,
           1450000,
           1010000,
           1250000,
           4649900,
           1250000,
           2049999,
           888000,
           1225000,
           2577888,
           1025888,
           913548,
           2250000,
           1275000,
           780000,
           1650000,
           1800000,
           3175000,
           1500000,
           1850000,
           990000,
           750000,
           900000,
           1700000,
           1271000,
           1125000,
           1000000,
           700000,
           725000,
           1300000,
           778000,
           2099999,
           700000,
           1275000,
           1246305,
           2085804,
           1246305,
           1400000,
           2850000,
           1100000,
           3800000,
           1100000,
           650000,
           2800000,
           1400000,
           1700000,
           3000000,
           1125888,
           1150000,
           1499000,
           990000,
           1400000,
           749888,
           796195,
           700000,
           1055000,
           1100000,
           3600000,
           1575000,
           2000000,
           900000,
           2099999,
           849999,
           4900000,
           750000,
           1900000,
           1400000,
           1780000,
           1754888,
           2350000,
           2350000,
           1100000,
           1095000,
           1290000,
           990000,
           1025000,
           761888,
           1430000,
           1550000,
           2750000,
           1150000,
           1150000,
           2000000,
           1290000,
           1700000,
           2349000,
           1976504,
           1900000,
           1900000,
           1100000,
           1300000,
           1460000,
           3450000,
           1999999,
           1650000,
           820000,
           1525000,
           1299999,
           950000,
           1850000,
           1500000,
           1850000,
           3250000,
           670000,
           850000,
           3250000,
           1500000,
           1950000,
           2300000,
           2500000,
           1400000,
           1150000,
           1300000,
           1400000,
           2200000,
           1300000,
           800000,
           850000,
           1540000,
           2600000,
           700000,
           1100000,
           699999,
           1900000,
           900000,
           2949999,
           980000,
           2500000,
           3050000,
           1650000,
           850000,
           3350000,
           1749510,
           1100000,
           1950000,
           815000,
           849000,
           2120000,
           1750000,
           808255,
           2300000,
           1675000,
           1373000,
           1980000,
           2200000,
           1850000,
           1500000,
           1055093,
           2650000,
           1253686,
           4400000,
           1000000,
           675000,
           1050000,
           1225000,
           1720000,
           1700000,
           1230000,
           739000,
           2800000,
           1350000,
           850000,
           2300000,
           1445888,
           1286000,
           999950,
           1849000,
           1450000,
           790000,
           830000,
           1640000,
           3200000,
           699000,
           1700000,
           610503,
           1275000,
           1295000,
           3300000,
           1300000,
           900502,
           901345,
           3489900,
           760000,
           700000,
           1675000,
           625000,
           1390000,
           1700000,
           1400000,
           3600000,
           1434000,
           1200000,
           1795000,
           2444888,
           2650000,
           3750000,
           2399999,
           1700000,
           1550000,
           1775000,
           2450000,
           624888,
           992888,
           1234000,
           1300000,
           1150000,
           1400000,
           1690000,
           1050000,
           1500000,
           2892000,
           1688000,
           1399000,
           3750000,
           1574950,
           999000,
           2445000,
           1700000,
           4294888,
           2975000,
           2600000,
           1450000,
           1400206,
           3299950,
           1395000,
           1380888,
           1275000,
           1300000,
           1350000,
           3000000,
           1490000,
           612870,
           2250000,
           1350000,
           1575000,
           639777,
           627777,
           620000,
           706000,
           993999,
           670000,
           914000,
           1113000,
           1131000,
           635000,
           941000,
           1080000,
           4222888,
           1737000,
           1200000,
           1450000,
           3400000,
           1259999,
           1550000,
           790000,
           1020000,
           954505,
           999999,
           1750000,
           1475000,
           3380000,
           1801000,
           1270000,
           635356,
           1220000,
           999905,
           1700000,
           1550000,
           3600000,
           620000,
           1110000,
           1399999,
           799999,
           850000,
           1850000,
           626999,
           1269999,
           1625000,
           1450000,
           950000,
           699000,
           1650000,
           2150000,
           850000,
           1490000,
           1492000,
           2599950,
           1250000,
           1300000,
           626999,
           2235000,
           925000,
           1400000,
           2099950,
           2485000,
           880000,
           699000,
           1280000,
           1680000,
           1750000,
           2950000,
           1350000,
           870000,
           1200000,
           1900000,
           2000000,
           1000000,
           1690000,
           789999,
           4100000,
           999999,
           1275000,
           2900000,
           1600000,
           2587000,
           914888,
           610577,
           948307,
           1890000,
           1250000,
           3750000,
           3200000,
           650000,
           1398000,
           1300000,
           3950000,
           1299999,
           906888,
           2500000,
           2900000,
           1700000,
           1250000,
           745000,
           3500000,
           890000,
           1000000,
           1200000,
           1700000,
           2800000,
           770000,
           1900000,
           4500000,
           1250000,
           2400000,
           1350000,
           3800000,
           2650000,
           4700000,
           820845,
           1785000,
           1399000,
           1540000,
           1483350,
           1550000,
           689999,
           2450000,
           2700000,
           740000,
           675000,
           1650000,
           1900000,
           950000,
           1100000,
           2100000,
           2290000,
           1110200,
           1699000,
           700000,
           808000,
           650000,
           4000000,
           4500000,
           2100000,
           1950000,
           650000,
           2300000,
           1110888,
           2000000,
           1300000,
           675000,
           1125000,
           3499900,
           3378000,
           4202898,
           1000000,
           749000,
           4300000,
           3650000,
           677250,
           982800,
           950000,
           936000,
           825888,
           835000,
           1500000,
           1349000,
           980000,
           4600000,
           615000,
           1770000,
           1512888,
           1195000,
           1600000,
           1399999,
           649888,
           2750000,
           1300000,
           1200000,
           1825000,
           1550000,
           2320000,
           1425000,
           4500000,
           3200000,
           3050000,
           850000,
           1300000,
           1650000,
           1650000,
           2300000,
           850000,
           1000000,
           2800000,
           1200000,
           1350000,
           690000,
           1423000,
           1590000,
           750000,
           1400000,
           2325000,
           2700000,
           3195000,
           1100000,
           1300000,
           3199999,
           3600000,
           3600000,
           2000000,
           3110000,
           1240000,
           888000,
           1300000,
           3615000,
           970000,
           2175000,
           1300000,
           750000,
           4499000,
           1483888,
           1390000,
           1650000,
           2900000,
           1595000,
           1100000,
           900000,
           1700000,
           3450000,
           1700000,
           1855000,
           999999,
           1266000,
           1999995,
           650000,
           1100000,
           1825000,
           750000,
           1950000,
           2063888,
           2060888,
           1926888,
           1979888,
           2079888,
           1300000,
           1245888,
           2547000,
           1400000,
           935000,
           1286000,
           940000,
           1398000,
           625000,
           679000,
           2930000,
           620000,
           1175000,
           759000,
           2585000,
           1325000,
           1220000,
           850000,
           1250000,
           3000000,
           1390000,
           2200000,
           656000,
           2990000,
           1000000,
           2600000,
           2110000,
           1880000,
           1600000,
           2300000,
           1123000,
           1650000,
           1095000,
           950000,
           1120000,
           1300000,
           2250000,
           1200000,
           1350000,
           615000,
           1900000,
           1695000,
           1200000,
           1650000,
           3799900,
           2250000,
           1200000,
           3990000,
           1895000,
           950000,
           1288888,
           1288888,
           1288888,
           4900000,
           1780000,
           2100000,
           615000,
           2395000,
           654000,
           1599999,
           3000000,
           1250000,
           624888,
           1950000,
           2702000,
           4610000,
           1980000,
           3650000,
           1300000,
           1600000,
           2140000,
           3300000,
           1550000,
           2250000,
           888888,
           815000,
           1175000,
           1049950,
           1650000,
           1359000,
           1600000,
           1650000,
           2950000,
           1700000,
           1500000,
           1075000,
           695000,
           1200000,
           1120000,
           950000,
           1761627,
           828241,
           1439112,
           1650000,
           3499000,
           1350000,
           1999950,
           1225000,
           750000,
           3950000,
           3700000,
           1050000,
           1450000,
           2300000,
           1599999,
           1235251,
           1599900,
           700000,
           699503,
           1199789,
           620502,
           759502,
           1204504,
           661300,
           954206,
           995786,
           1045734,
           670728,
           1800000,
           2050000,
           660606,
           619490,
           692503,
           660600,
           954502,
           630205,
           990876,
           670728,
           620720,
           759081,
           2200000,
           1019000,
           1050000,
           1199000,
           2000000,
           1450000,
           1800000,
           848950,
           992888,
           750000,
           1650000,
           1975000,
           1900000,
           759502,
           661205,
           965789,
           630503,
           990598,
           4365888,
           1250000,
           3499999,
           1750000,
           1900000,
           1800000,
           3000000,
           2199950,
           620504,
           759503,
           954503,
           630504,
           950504,
           1650000,
           929999,
           626999,
           1900000,
           1250000,
           620503,
           1190502,
           850000,
           661615,
           954366,
           895000,
           766000,
           619502,
           2750000,
           1200000,
           2050906,
           1400000,
           2450000,
           1175000,
           1500000,
           731000,
           1500000,
           2500000,
           700000,
           1200000,
           2150000,
           3100000,
           1390000,
           1350000,
           1900000,
           1130000,
           2100000,
           1300000,
           2249888,
           3999888,
           1000000,
           700000,
           2400000,
           748888,
           1400000,
           2200000,
           1650000,
           725000,
           900000,
           950000,
           2000000,
           1600000,
           1971905,
           1600000,
           1299999,
           1525000,
           2800000,
           1095000,
           720000,
           1300000,
           2700000,
           3500000,
           1280000,
           1600000,
           725000,
           1305000,
           1675000,
           1400000,
           1550000,
           2100000,
           1750000,
           1875000,
           1350000,
           795000,
           1450000,
           1150000,
           849000,
           2400000,
           4100000,
           1550000,
           2000000,
           1750000,
           2750000,
           1300000,
           4150000,
           1250000,
           3650000,
           2425000,
           1299000,
           1390000,
           620000,
           1290000,
           880000,
           780000,
           1410888,
           3500000,
           1150000,
           1550000,
           1350000,
           680000,
           697790,
           950000,
           1300000,
           1850000,
           860000,
           2150000,
           2000000,
           1500000,
           2500000,
           730000,
           2800000,
           1500000,
           1471888,
           1199999,
           1602000,
           1200000,
           2300000,
           2225000,
           2100000,
           2300000,
           2350000,
           2000000,
           2200000,
           2499950,
           1700000,
           1949888,
           1100000,
           2450000,
           999998,
           3100000,
           1650000,
           1100000,
           720000,
           1700000,
           1056711,
           2500000,
           4500000,
           1898000,
           650000,
           2900000,
           1650000,
           1800000,
           1483888,
           1390000,
           2000000,
           1250000,
           965000,
           2300000,
           1050000,
           799000,
           799000,
           1250000,
           650000,
           670000,
           999000,
           1650000,
           700000,
           2975000,
           3600000,
           3250000,
           650000,
           870000,
           4300000,
           1230000,
           1250000,
           4200000,
           930000,
           1600000,
           2700000,
           1399999,
           2400000,
           1180000,
           1050000,
           2495000,
           1600000,
           2400000,
           2100000,
           1200000,
           620190,
           759000,
           919000,
           2399998,
           759000,
           1190500,
           620190,
           1190000,
           620190,
           759000,
           1190500,
           1750000,
           1430000,
           2500000,
           2500000,
           3119900,
           2649999,
           620190,
           759000,
           2000000,
           1190500,
           1800000,
           620190,
           759000,
           900000,
           629999,
           849000,
           1190500,
           1991888,
           2850000,
           1396000,
           1525000,
           3500000,
           3100000,
           1600000,
           1926888,
           1254888,
           2900000,
           1550000,
           2900000,
           1276000,
           1790000,
           1700000,
           949999,
           1099000,
           2400000,
           2700000,
           1284888,
           1270888,
           2200000,
           1850000,
           2800000,
           795000,
           1599888,
           1425000,
           899000,
           1599950,
           1399000,
           1750000,
           3500000,
           2999999,
           2399950,
           4500000,
           2999999,
           1500000,
           3399999,
           1400000,
           2490000,
           799000,
           1510000,
           1500000,
           1350000,
           3100000,
           620190,
           759000,
           1190500,
           1600000,
           1395000,
           3090000,
           4100000,
           800000,
           720000,
           780000,
           4800000,
           1250000,
           1499998,
           1420888,
           725888,
           1010888,
           2400000,
           1650000,
           1698000,
           1800000,
           1737000,
           1271000,
           4127000,
           1230000,
           940000,
           2600000,
           1789999,
           690000,
           2100000,
           2100000,
           1600000,
           625000,
           658000,
           845000,
           1550000,
           2299000,
           4100000,
           890000,
           2140000,
           701150,
           1100000,
           2999900,
           1724900,
           1250000,
           1254462,
           750000,
           1318000,
           2100000,
           2949900,
           1300000,
           1300000,
           950000,
           1075000,
           730000,
           870000,
           1900000,
           875000,
           1550000,
           1200000,
           3600000,
           875000,
           2100000,
           3400000,
           2360000,
           989888,
           1253980,
           712250,
           1200000,
           4500000,
           1850000,
           3100000,
           1100000,
           1275000,
           1050000,
           700000,
           900000,
           1200000,
           1210000,
           950000,
           1250000,
           2350000,
           2700000,
           1900000,
           1050000,
           1500000,
           1900000,
           2789900,
           3600000,
           865000,
           3159888,
           2000000,
           1250000,
           1275000,
           1548000,
           625000,
           1400000,
           949000,
           1200000,
           1599999,
           2800000,
           2099950,
           2100000,
           1248975,
           757809,
           1190000,
           1100000,
           950000,
           1400000,
           2650000,
           700000,
           1000000,
           720000,
           1800000,
           925000,
           1490000,
           2027888,
           840477,
           2700000,
           1349888,
           1349888,
           949999,
           1025000,
           645000,
           2899999,
           900000,
           1550000,
           2974999,
           1601000,
           2142888,
           1715000,
           2551888,
           3800000,
           1050000,
           2300943,
           1265000,
           1350000,
           3125000,
           1340000,
           810000,
           1000000,
           930000,
           1800000,
           850000,
           1600000,
           675000,
           1170000,
           2000000,
           1698000,
           4335888,
           3029888,
           2166888,
           4507888,
           718000,
           718000,
           718000,
           1870000,
           1442977,
           1645000,
           3690888,
           709000,
           710000,
           713000,
           786000,
           794000,
           1288000,
           690000,
           999000,
           2437000,
           2439000,
           2448000,
           2312000,
           1644000,
           3863000,
           3890000,
           1915000,
           1340000,
           999000,
           1300000,
           2750000,
           2160888,
           4278888,
           950000,
           3900000,
           620000,
           700000,
           1200000,
           810000,
           1100000,
           3762888,
           2299000,
           1800000,
           1000000,
           850000,
           650000,
           680000,
           1500000,
           3950000,
           1780000,
           1550000,
           935000,
           4362888,
           1790000,
           1586888,
           2000000,
           1175000,
           900000,
           850000,
           1088888,
           1088888,
           650000,
           920000,
           3000000,
           3350000,
           4400000,
           2100000,
           695000,
           2100000,
           2749000,
           839000,
           3000000,
           711000,
           1444000,
           1750000,
           3511888,
           624888,
           2270000,
           1200000,
           1750000,
           2150000,
           699999,
           896000,
           777950,
           1000000,
           1307392,
           690777,
           1850000,
           650000,
           1249999,
           2500000,
           2000000,
           1200000,
           1250000,
           4600000,
           674000,
           1490000,
           1300000,
           1750000,
           850000,
           1419000,
           1696000,
           2500000,
           1590000,
           1400000,
           1700000,
           1500000,
           1150000,
           1500000,
           799999,
           2425000,
           1698000,
           2300000,
           1366000,
           730000,
           1200000,
           3499888,
           2099888,
           1375000,
           1400000,
           1000000,
           1980000,
           1113661,
           649411,
           1850000,
           2600000,
           770000,
           940000,
           1800000,
           2512000,
           995000,
           1045000,
           1600000,
           2500000,
           1540000,
           1350000,
           1350000,
           899999,
           1350000,
           3800000,
           1350205,
           2000000,
           3300000,
           1650000,
           661504,
           958205,
           840000,
           1600000,
           1650000,
           619500,
           750204,
           2400000,
           900000,
           650503,
           999505,
           2250000,
           1550000,
           3400000,
           2192000,
           2448000,
           2112000,
           699505,
           2121000,
           1525000,
           950000,
           2245888,
           1550000,
           1212000,
           1550000,
           1100000,
           2800000,
           2100000,
           1500000,
           1250000,
           1750000,
           1100000,
           3200000,
           2950000,
           2112000,
           4000000,
           700000,
           920000,
           1650000,
           1599990,
           1500000,
           760888,
           1005888,
           1550888,
           1750000,
           2600000,
           2400000,
           795000,
           1975000,
           838000,
           2300000,
           1781920,
           1352888,
           2800000,
           1459888,
           1350000,
           1499000,
           2130888,
           890000,
           2400000,
           1850000,
           2090000,
           1970000,
           3300000,
           4856888,
           1396000,
           1300000,
           1400000,
           3800000,
           1175000,
           2000000,
           980888,
           1350000,
           2700000,
           1500000,
           1230000,
           2900000,
           675000,
           760887
          ],
          "coloraxis": "coloraxis"
         },
         "mode": "markers",
         "name": "",
         "showlegend": false,
         "subplot": "mapbox",
         "type": "scattermapbox"
        }
       ],
       "layout": {
        "coloraxis": {
         "colorbar": {
          "title": {
           "text": "price"
          }
         },
         "colorscale": [
          [
           0,
           "#000000"
          ],
          [
           0.0625,
           "#001f4d"
          ],
          [
           0.125,
           "#003786"
          ],
          [
           0.1875,
           "#0e58a8"
          ],
          [
           0.25,
           "#217eb8"
          ],
          [
           0.3125,
           "#30a4ca"
          ],
          [
           0.375,
           "#54c8df"
          ],
          [
           0.4375,
           "#9be4ef"
          ],
          [
           0.5,
           "#e1e9d1"
          ],
          [
           0.5625,
           "#f3d573"
          ],
          [
           0.625,
           "#e7b000"
          ],
          [
           0.6875,
           "#da8200"
          ],
          [
           0.75,
           "#c65400"
          ],
          [
           0.8125,
           "#ac2301"
          ],
          [
           0.875,
           "#820000"
          ],
          [
           0.9375,
           "#4c0000"
          ],
          [
           1,
           "#000000"
          ]
         ]
        },
        "legend": {
         "tracegroupgap": 0
        },
        "mapbox": {
         "center": {
          "lat": 25.120556201976527,
          "lon": 55.209969856084
         },
         "domain": {
          "x": [
           0,
           1
          ],
          "y": [
           0,
           1
          ]
         },
         "style": "open-street-map",
         "zoom": 8
        },
        "margin": {
         "t": 60
        },
        "template": {
         "data": {
          "bar": [
           {
            "error_x": {
             "color": "#2a3f5f"
            },
            "error_y": {
             "color": "#2a3f5f"
            },
            "marker": {
             "line": {
              "color": "#E5ECF6",
              "width": 0.5
             },
             "pattern": {
              "fillmode": "overlay",
              "size": 10,
              "solidity": 0.2
             }
            },
            "type": "bar"
           }
          ],
          "barpolar": [
           {
            "marker": {
             "line": {
              "color": "#E5ECF6",
              "width": 0.5
             },
             "pattern": {
              "fillmode": "overlay",
              "size": 10,
              "solidity": 0.2
             }
            },
            "type": "barpolar"
           }
          ],
          "carpet": [
           {
            "aaxis": {
             "endlinecolor": "#2a3f5f",
             "gridcolor": "white",
             "linecolor": "white",
             "minorgridcolor": "white",
             "startlinecolor": "#2a3f5f"
            },
            "baxis": {
             "endlinecolor": "#2a3f5f",
             "gridcolor": "white",
             "linecolor": "white",
             "minorgridcolor": "white",
             "startlinecolor": "#2a3f5f"
            },
            "type": "carpet"
           }
          ],
          "choropleth": [
           {
            "colorbar": {
             "outlinewidth": 0,
             "ticks": ""
            },
            "type": "choropleth"
           }
          ],
          "contour": [
           {
            "colorbar": {
             "outlinewidth": 0,
             "ticks": ""
            },
            "colorscale": [
             [
              0,
              "#0d0887"
             ],
             [
              0.1111111111111111,
              "#46039f"
             ],
             [
              0.2222222222222222,
              "#7201a8"
             ],
             [
              0.3333333333333333,
              "#9c179e"
             ],
             [
              0.4444444444444444,
              "#bd3786"
             ],
             [
              0.5555555555555556,
              "#d8576b"
             ],
             [
              0.6666666666666666,
              "#ed7953"
             ],
             [
              0.7777777777777778,
              "#fb9f3a"
             ],
             [
              0.8888888888888888,
              "#fdca26"
             ],
             [
              1,
              "#f0f921"
             ]
            ],
            "type": "contour"
           }
          ],
          "contourcarpet": [
           {
            "colorbar": {
             "outlinewidth": 0,
             "ticks": ""
            },
            "type": "contourcarpet"
           }
          ],
          "heatmap": [
           {
            "colorbar": {
             "outlinewidth": 0,
             "ticks": ""
            },
            "colorscale": [
             [
              0,
              "#0d0887"
             ],
             [
              0.1111111111111111,
              "#46039f"
             ],
             [
              0.2222222222222222,
              "#7201a8"
             ],
             [
              0.3333333333333333,
              "#9c179e"
             ],
             [
              0.4444444444444444,
              "#bd3786"
             ],
             [
              0.5555555555555556,
              "#d8576b"
             ],
             [
              0.6666666666666666,
              "#ed7953"
             ],
             [
              0.7777777777777778,
              "#fb9f3a"
             ],
             [
              0.8888888888888888,
              "#fdca26"
             ],
             [
              1,
              "#f0f921"
             ]
            ],
            "type": "heatmap"
           }
          ],
          "heatmapgl": [
           {
            "colorbar": {
             "outlinewidth": 0,
             "ticks": ""
            },
            "colorscale": [
             [
              0,
              "#0d0887"
             ],
             [
              0.1111111111111111,
              "#46039f"
             ],
             [
              0.2222222222222222,
              "#7201a8"
             ],
             [
              0.3333333333333333,
              "#9c179e"
             ],
             [
              0.4444444444444444,
              "#bd3786"
             ],
             [
              0.5555555555555556,
              "#d8576b"
             ],
             [
              0.6666666666666666,
              "#ed7953"
             ],
             [
              0.7777777777777778,
              "#fb9f3a"
             ],
             [
              0.8888888888888888,
              "#fdca26"
             ],
             [
              1,
              "#f0f921"
             ]
            ],
            "type": "heatmapgl"
           }
          ],
          "histogram": [
           {
            "marker": {
             "pattern": {
              "fillmode": "overlay",
              "size": 10,
              "solidity": 0.2
             }
            },
            "type": "histogram"
           }
          ],
          "histogram2d": [
           {
            "colorbar": {
             "outlinewidth": 0,
             "ticks": ""
            },
            "colorscale": [
             [
              0,
              "#0d0887"
             ],
             [
              0.1111111111111111,
              "#46039f"
             ],
             [
              0.2222222222222222,
              "#7201a8"
             ],
             [
              0.3333333333333333,
              "#9c179e"
             ],
             [
              0.4444444444444444,
              "#bd3786"
             ],
             [
              0.5555555555555556,
              "#d8576b"
             ],
             [
              0.6666666666666666,
              "#ed7953"
             ],
             [
              0.7777777777777778,
              "#fb9f3a"
             ],
             [
              0.8888888888888888,
              "#fdca26"
             ],
             [
              1,
              "#f0f921"
             ]
            ],
            "type": "histogram2d"
           }
          ],
          "histogram2dcontour": [
           {
            "colorbar": {
             "outlinewidth": 0,
             "ticks": ""
            },
            "colorscale": [
             [
              0,
              "#0d0887"
             ],
             [
              0.1111111111111111,
              "#46039f"
             ],
             [
              0.2222222222222222,
              "#7201a8"
             ],
             [
              0.3333333333333333,
              "#9c179e"
             ],
             [
              0.4444444444444444,
              "#bd3786"
             ],
             [
              0.5555555555555556,
              "#d8576b"
             ],
             [
              0.6666666666666666,
              "#ed7953"
             ],
             [
              0.7777777777777778,
              "#fb9f3a"
             ],
             [
              0.8888888888888888,
              "#fdca26"
             ],
             [
              1,
              "#f0f921"
             ]
            ],
            "type": "histogram2dcontour"
           }
          ],
          "mesh3d": [
           {
            "colorbar": {
             "outlinewidth": 0,
             "ticks": ""
            },
            "type": "mesh3d"
           }
          ],
          "parcoords": [
           {
            "line": {
             "colorbar": {
              "outlinewidth": 0,
              "ticks": ""
             }
            },
            "type": "parcoords"
           }
          ],
          "pie": [
           {
            "automargin": true,
            "type": "pie"
           }
          ],
          "scatter": [
           {
            "fillpattern": {
             "fillmode": "overlay",
             "size": 10,
             "solidity": 0.2
            },
            "type": "scatter"
           }
          ],
          "scatter3d": [
           {
            "line": {
             "colorbar": {
              "outlinewidth": 0,
              "ticks": ""
             }
            },
            "marker": {
             "colorbar": {
              "outlinewidth": 0,
              "ticks": ""
             }
            },
            "type": "scatter3d"
           }
          ],
          "scattercarpet": [
           {
            "marker": {
             "colorbar": {
              "outlinewidth": 0,
              "ticks": ""
             }
            },
            "type": "scattercarpet"
           }
          ],
          "scattergeo": [
           {
            "marker": {
             "colorbar": {
              "outlinewidth": 0,
              "ticks": ""
             }
            },
            "type": "scattergeo"
           }
          ],
          "scattergl": [
           {
            "marker": {
             "colorbar": {
              "outlinewidth": 0,
              "ticks": ""
             }
            },
            "type": "scattergl"
           }
          ],
          "scattermapbox": [
           {
            "marker": {
             "colorbar": {
              "outlinewidth": 0,
              "ticks": ""
             }
            },
            "type": "scattermapbox"
           }
          ],
          "scatterpolar": [
           {
            "marker": {
             "colorbar": {
              "outlinewidth": 0,
              "ticks": ""
             }
            },
            "type": "scatterpolar"
           }
          ],
          "scatterpolargl": [
           {
            "marker": {
             "colorbar": {
              "outlinewidth": 0,
              "ticks": ""
             }
            },
            "type": "scatterpolargl"
           }
          ],
          "scatterternary": [
           {
            "marker": {
             "colorbar": {
              "outlinewidth": 0,
              "ticks": ""
             }
            },
            "type": "scatterternary"
           }
          ],
          "surface": [
           {
            "colorbar": {
             "outlinewidth": 0,
             "ticks": ""
            },
            "colorscale": [
             [
              0,
              "#0d0887"
             ],
             [
              0.1111111111111111,
              "#46039f"
             ],
             [
              0.2222222222222222,
              "#7201a8"
             ],
             [
              0.3333333333333333,
              "#9c179e"
             ],
             [
              0.4444444444444444,
              "#bd3786"
             ],
             [
              0.5555555555555556,
              "#d8576b"
             ],
             [
              0.6666666666666666,
              "#ed7953"
             ],
             [
              0.7777777777777778,
              "#fb9f3a"
             ],
             [
              0.8888888888888888,
              "#fdca26"
             ],
             [
              1,
              "#f0f921"
             ]
            ],
            "type": "surface"
           }
          ],
          "table": [
           {
            "cells": {
             "fill": {
              "color": "#EBF0F8"
             },
             "line": {
              "color": "white"
             }
            },
            "header": {
             "fill": {
              "color": "#C8D4E3"
             },
             "line": {
              "color": "white"
             }
            },
            "type": "table"
           }
          ]
         },
         "layout": {
          "annotationdefaults": {
           "arrowcolor": "#2a3f5f",
           "arrowhead": 0,
           "arrowwidth": 1
          },
          "autotypenumbers": "strict",
          "coloraxis": {
           "colorbar": {
            "outlinewidth": 0,
            "ticks": ""
           }
          },
          "colorscale": {
           "diverging": [
            [
             0,
             "#8e0152"
            ],
            [
             0.1,
             "#c51b7d"
            ],
            [
             0.2,
             "#de77ae"
            ],
            [
             0.3,
             "#f1b6da"
            ],
            [
             0.4,
             "#fde0ef"
            ],
            [
             0.5,
             "#f7f7f7"
            ],
            [
             0.6,
             "#e6f5d0"
            ],
            [
             0.7,
             "#b8e186"
            ],
            [
             0.8,
             "#7fbc41"
            ],
            [
             0.9,
             "#4d9221"
            ],
            [
             1,
             "#276419"
            ]
           ],
           "sequential": [
            [
             0,
             "#0d0887"
            ],
            [
             0.1111111111111111,
             "#46039f"
            ],
            [
             0.2222222222222222,
             "#7201a8"
            ],
            [
             0.3333333333333333,
             "#9c179e"
            ],
            [
             0.4444444444444444,
             "#bd3786"
            ],
            [
             0.5555555555555556,
             "#d8576b"
            ],
            [
             0.6666666666666666,
             "#ed7953"
            ],
            [
             0.7777777777777778,
             "#fb9f3a"
            ],
            [
             0.8888888888888888,
             "#fdca26"
            ],
            [
             1,
             "#f0f921"
            ]
           ],
           "sequentialminus": [
            [
             0,
             "#0d0887"
            ],
            [
             0.1111111111111111,
             "#46039f"
            ],
            [
             0.2222222222222222,
             "#7201a8"
            ],
            [
             0.3333333333333333,
             "#9c179e"
            ],
            [
             0.4444444444444444,
             "#bd3786"
            ],
            [
             0.5555555555555556,
             "#d8576b"
            ],
            [
             0.6666666666666666,
             "#ed7953"
            ],
            [
             0.7777777777777778,
             "#fb9f3a"
            ],
            [
             0.8888888888888888,
             "#fdca26"
            ],
            [
             1,
             "#f0f921"
            ]
           ]
          },
          "colorway": [
           "#636efa",
           "#EF553B",
           "#00cc96",
           "#ab63fa",
           "#FFA15A",
           "#19d3f3",
           "#FF6692",
           "#B6E880",
           "#FF97FF",
           "#FECB52"
          ],
          "font": {
           "color": "#2a3f5f"
          },
          "geo": {
           "bgcolor": "white",
           "lakecolor": "white",
           "landcolor": "#E5ECF6",
           "showlakes": true,
           "showland": true,
           "subunitcolor": "white"
          },
          "hoverlabel": {
           "align": "left"
          },
          "hovermode": "closest",
          "mapbox": {
           "style": "light"
          },
          "paper_bgcolor": "white",
          "plot_bgcolor": "#E5ECF6",
          "polar": {
           "angularaxis": {
            "gridcolor": "white",
            "linecolor": "white",
            "ticks": ""
           },
           "bgcolor": "#E5ECF6",
           "radialaxis": {
            "gridcolor": "white",
            "linecolor": "white",
            "ticks": ""
           }
          },
          "scene": {
           "xaxis": {
            "backgroundcolor": "#E5ECF6",
            "gridcolor": "white",
            "gridwidth": 2,
            "linecolor": "white",
            "showbackground": true,
            "ticks": "",
            "zerolinecolor": "white"
           },
           "yaxis": {
            "backgroundcolor": "#E5ECF6",
            "gridcolor": "white",
            "gridwidth": 2,
            "linecolor": "white",
            "showbackground": true,
            "ticks": "",
            "zerolinecolor": "white"
           },
           "zaxis": {
            "backgroundcolor": "#E5ECF6",
            "gridcolor": "white",
            "gridwidth": 2,
            "linecolor": "white",
            "showbackground": true,
            "ticks": "",
            "zerolinecolor": "white"
           }
          },
          "shapedefaults": {
           "line": {
            "color": "#2a3f5f"
           }
          },
          "ternary": {
           "aaxis": {
            "gridcolor": "white",
            "linecolor": "white",
            "ticks": ""
           },
           "baxis": {
            "gridcolor": "white",
            "linecolor": "white",
            "ticks": ""
           },
           "bgcolor": "#E5ECF6",
           "caxis": {
            "gridcolor": "white",
            "linecolor": "white",
            "ticks": ""
           }
          },
          "title": {
           "x": 0.05
          },
          "xaxis": {
           "automargin": true,
           "gridcolor": "white",
           "linecolor": "white",
           "ticks": "",
           "title": {
            "standoff": 15
           },
           "zerolinecolor": "white",
           "zerolinewidth": 2
          },
          "yaxis": {
           "automargin": true,
           "gridcolor": "white",
           "linecolor": "white",
           "ticks": "",
           "title": {
            "standoff": 15
           },
           "zerolinecolor": "white",
           "zerolinewidth": 2
          }
         }
        }
       }
      }
     },
     "metadata": {},
     "output_type": "display_data"
    }
   ],
   "source": [
    "# create a figure with larger size\n",
    "plt.figure(figsize=(15, 15))\n",
    "\n",
    "fig = px.scatter_mapbox(\n",
    "    df,\n",
    "    lat='latitude',\n",
    "    lon='longitude',\n",
    "    #width=600,\n",
    "    #height=600,\n",
    "    hover_data=[\"price\",'neighborhood',\"size_in_sqft\"],  # Display price when hovering mouse over house\n",
    "    color='price',\n",
    "    color_continuous_scale=px.colors.cyclical.IceFire,\n",
    "    \n",
    ")\n",
    "\n",
    "fig.update_layout(mapbox_style=\"open-street-map\")\n",
    "\n",
    "fig.show()"
   ]
  },
  {
   "cell_type": "code",
   "execution_count": 76,
   "metadata": {},
   "outputs": [
    {
     "data": {
      "image/png": "[encoded data removed]",
      "text/plain": [
       "<Figure size 600x400 with 1 Axes>"
      ]
     },
     "metadata": {},
     "output_type": "display_data"
    }
   ],
   "source": [
    "# create a figure with larger size\n",
    "plt.figure(figsize=(6, 4))\n",
    "\n",
    "# Build histogram\n",
    "plt.hist(df[\"quality\"],40)\n",
    "\n",
    "\n",
    "# Label axes\n",
    "\n",
    "plt.xlabel(\"neighborhood\")\n",
    "plt.ylabel('Frequency')\n",
    "\n",
    "# Add title\n",
    "plt.title(\"Distribution of Home neighborhood\")\n",
    "\n",
    "plt.xticks(rotation='vertical')\n",
    "\n",
    "plt.show()"
   ]
  },
  {
   "cell_type": "code",
   "execution_count": 81,
   "metadata": {},
   "outputs": [],
   "source": [
    "mean_price_by_quality =df.groupby('quality')['price'].mean().sort_values(ascending=True)\n"
   ]
  },
  {
   "cell_type": "code",
   "execution_count": 84,
   "metadata": {},
   "outputs": [
    {
     "data": {
      "image/png": "[encoded data removed]",
      "text/plain": [
       "<Figure size 640x480 with 1 Axes>"
      ]
     },
     "metadata": {},
     "output_type": "display_data"
    }
   ],
   "source": [
    "# Build bar chart, label axes, add title\n",
    "mean_price_by_quality.plot(kind=\"bar\")\n",
    "\n",
    "plt.xlabel(\"neighborhood\")\n",
    "plt.ylabel(\"Mean Price [AED]\")\n",
    "\n",
    "# Add title\n",
    "plt.title('Mean Home Price by quality')\n",
    "\n",
    "plt.show()\n"
   ]
  },
  {
   "cell_type": "code",
   "execution_count": 85,
   "metadata": {},
   "outputs": [
    {
     "data": {
      "text/plain": [
       "quality\n",
       "Ultra     9.518038e+05\n",
       "High      1.630962e+06\n",
       "Medium    1.746473e+06\n",
       "Low       1.766693e+06\n",
       "Name: price, dtype: float64"
      ]
     },
     "execution_count": 85,
     "metadata": {},
     "output_type": "execute_result"
    }
   ],
   "source": [
    "mean_price_by_quality"
   ]
  },
  {
   "cell_type": "code",
   "execution_count": 97,
   "metadata": {},
   "outputs": [
    {
     "data": {
      "image/png": "[encoded data removed]",
      "text/plain": [
       "<Figure size 640x480 with 1 Axes>"
      ]
     },
     "metadata": {},
     "output_type": "display_data"
    }
   ],
   "source": [
    "# Create the bar chart\n",
    "plt.scatter(df['quality'], df['price'])\n",
    "\n",
    "# Set the labels for the x-axis and y-axis\n",
    "plt.xlabel('Quality')\n",
    "plt.ylabel('Price')\n",
    "\n",
    "# Set the title for the chart\n",
    "plt.title('Price vs Quality')\n",
    "\n",
    "# Display the chart\n",
    "plt.show()"
   ]
  },
  {
   "attachments": {},
   "cell_type": "markdown",
   "metadata": {},
   "source": [
    "The qulity dont good fetures in this data set "
   ]
  }
 ],
 "metadata": {
  "kernelspec": {
   "display_name": "new",
   "language": "python",
   "name": "python3"
  },
  "language_info": {
   "codemirror_mode": {
    "name": "ipython",
    "version": 3
   },
   "file_extension": ".py",
   "mimetype": "text/x-python",
   "name": "python",
   "nbconvert_exporter": "python",
   "pygments_lexer": "ipython3",
   "version": "3.8.11"
  },
  "orig_nbformat": 4
 },
 "nbformat": 4,
 "nbformat_minor": 2
}
